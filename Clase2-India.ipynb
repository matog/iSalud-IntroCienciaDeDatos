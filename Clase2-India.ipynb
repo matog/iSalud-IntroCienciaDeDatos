{
 "cells": [
  {
   "cell_type": "markdown",
   "metadata": {},
   "source": [
    "![alt text](iSalud_Covecare.png 'Logo')"
   ]
  },
  {
   "cell_type": "markdown",
   "metadata": {},
   "source": [
    "Fuente: \n",
    "- https://www.kaggle.com/scratchpad/notebook4031fa4176/edit\n",
    "- https://www.kaggle.com/srikarkashyap/analyzing-healthcare-data-tutorial"
   ]
  },
  {
   "cell_type": "markdown",
   "metadata": {
    "_cell_guid": "b1076dfc-b9ad-4769-8c92-a6c4dae69d19",
    "_uuid": "8f2839f25d086af736a60e9eeb907d3b93b6e0e5"
   },
   "source": [
    "# Analizando datos de programas de salud (EDA)"
   ]
  },
  {
   "cell_type": "markdown",
   "metadata": {
    "_uuid": "aea8db27e486c1c26418a782a8a081c50d7da7f3"
   },
   "source": [
    "## Introducción"
   ]
  },
  {
   "cell_type": "markdown",
   "metadata": {
    "_uuid": "c3634a5da5eb2b84bab4c4f2912c8d6d8a0df46a"
   },
   "source": [
    "NTR Vaidya Seva (o Arogya Seva) es el programa de salud insignia del gobierno de Anhra Pradesh (India), con el cual las personas de bajos ingresos de ese estado pueden obtener salud pública de forma gratuita para muchas enfermedades y dolencias importantes"
   ]
  },
  {
   "cell_type": "markdown",
   "metadata": {
    "_uuid": "44db94a8c4fb80c1198142503f13be5ac8b59977"
   },
   "source": [
    "## A meter código!"
   ]
  },
  {
   "cell_type": "markdown",
   "metadata": {
    "_uuid": "2096876a1726710169d7532650d02ba5e6fb6a27"
   },
   "source": [
    "Comenzamos importando las librerias necesarias:\n",
    "* *Pandas* para cargar datos y explorar los datos\n",
    "* *Matplotlib, Seaborn* para su visualización."
   ]
  },
  {
   "cell_type": "code",
   "execution_count": 41,
   "metadata": {
    "_uuid": "d9a347c9f1d9e2417f882e80145701e44499de16"
   },
   "outputs": [],
   "source": [
    "# Importamos las librerias \n",
    "import pandas as pd\n",
    "import matplotlib.pyplot as plt\n",
    "%matplotlib inline\n",
    "import seaborn as sns\n",
    "pd.Series.__unicode__ = pd.Series.to_string"
   ]
  },
  {
   "cell_type": "markdown",
   "metadata": {
    "_uuid": "c1aa9fc946bc3551c4627928f37e0a628cc0a972"
   },
   "source": [
    "Vamos a leer el archivo de datos usando la función *read_csv* de Pandas. *read_csv* puede leer de manera sencilla archivos de valores separados por comas (csv).\n",
    "\n",
    "No existen restricciones para nombrar las variables. *df*, *data* son los términos genéricos más comunes. Arrancamos con *data*."
   ]
  },
  {
   "cell_type": "code",
   "execution_count": 42,
   "metadata": {
    "_uuid": "281f7407d81726f5658ce4eb26e03df2998dab26"
   },
   "outputs": [],
   "source": [
    "# Leemos el dataset\n",
    "data = pd.read_csv('data/ntrarogyaseva.csv')"
   ]
  },
  {
   "cell_type": "markdown",
   "metadata": {
    "_uuid": "949c0003ecd61b2028abb2e7bc0bd8143c78e349"
   },
   "source": [
    "Explotamos los datos con la función *head()* que por defecto, muestra los primeros 5 datos."
   ]
  },
  {
   "cell_type": "code",
   "execution_count": 43,
   "metadata": {
    "_uuid": "292364f7ff86622b5f54e6408dc929eeca2ecde2"
   },
   "outputs": [
    {
     "data": {
      "text/html": [
       "<div>\n",
       "<style scoped>\n",
       "    .dataframe tbody tr th:only-of-type {\n",
       "        vertical-align: middle;\n",
       "    }\n",
       "\n",
       "    .dataframe tbody tr th {\n",
       "        vertical-align: top;\n",
       "    }\n",
       "\n",
       "    .dataframe thead th {\n",
       "        text-align: right;\n",
       "    }\n",
       "</style>\n",
       "<table border=\"1\" class=\"dataframe\">\n",
       "  <thead>\n",
       "    <tr style=\"text-align: right;\">\n",
       "      <th></th>\n",
       "      <th></th>\n",
       "      <th>AGE</th>\n",
       "      <th>SEX</th>\n",
       "      <th>CASTE_NAME</th>\n",
       "      <th>CATEGORY_CODE</th>\n",
       "      <th>CATEGORY_NAME</th>\n",
       "      <th>SURGERY_CODE</th>\n",
       "      <th>SURGERY</th>\n",
       "      <th>VILLAGE</th>\n",
       "      <th>MANDAL_NAME</th>\n",
       "      <th>...</th>\n",
       "      <th>CLAIM_AMOUNT</th>\n",
       "      <th>HOSP_NAME</th>\n",
       "      <th>HOSP_TYPE</th>\n",
       "      <th>HOSP_LOCATION</th>\n",
       "      <th>HOSP_DISTRICT</th>\n",
       "      <th>SURGERY_DATE</th>\n",
       "      <th>DISCHARGE_DATE</th>\n",
       "      <th>Mortality Y / N</th>\n",
       "      <th>MORTALITY_DATE</th>\n",
       "      <th>SRC_REGISTRATION</th>\n",
       "    </tr>\n",
       "  </thead>\n",
       "  <tbody>\n",
       "    <tr>\n",
       "      <th>0</th>\n",
       "      <td>1</td>\n",
       "      <td>56</td>\n",
       "      <td>Female</td>\n",
       "      <td>BC</td>\n",
       "      <td>M6</td>\n",
       "      <td>NEPHROLOGY</td>\n",
       "      <td>M6.5</td>\n",
       "      <td>Maintenance Hemodialysis For Crf</td>\n",
       "      <td>Lolugu</td>\n",
       "      <td>Ponduru</td>\n",
       "      <td>...</td>\n",
       "      <td>11000</td>\n",
       "      <td>Rims Govt. General Hospital, Srikakulam</td>\n",
       "      <td>G</td>\n",
       "      <td>SRIKAKULAM</td>\n",
       "      <td>Srikakulam</td>\n",
       "      <td>06/08/2013 00:00:00</td>\n",
       "      <td>07/09/2013 00:00:00</td>\n",
       "      <td>NO</td>\n",
       "      <td>NaN</td>\n",
       "      <td>D</td>\n",
       "    </tr>\n",
       "    <tr>\n",
       "      <th>1</th>\n",
       "      <td>2</td>\n",
       "      <td>37</td>\n",
       "      <td>Male</td>\n",
       "      <td>BC</td>\n",
       "      <td>M6</td>\n",
       "      <td>NEPHROLOGY</td>\n",
       "      <td>M6.5</td>\n",
       "      <td>Maintenance Hemodialysis For Crf</td>\n",
       "      <td>Borivanka</td>\n",
       "      <td>Kaviti</td>\n",
       "      <td>...</td>\n",
       "      <td>11000</td>\n",
       "      <td>Rims Govt. General Hospital, Srikakulam</td>\n",
       "      <td>G</td>\n",
       "      <td>SRIKAKULAM</td>\n",
       "      <td>Srikakulam</td>\n",
       "      <td>08/08/2013 00:00:00</td>\n",
       "      <td>09/09/2013 00:00:00</td>\n",
       "      <td>NO</td>\n",
       "      <td>NaN</td>\n",
       "      <td>D</td>\n",
       "    </tr>\n",
       "    <tr>\n",
       "      <th>2</th>\n",
       "      <td>3</td>\n",
       "      <td>50</td>\n",
       "      <td>Male</td>\n",
       "      <td>BC</td>\n",
       "      <td>M6</td>\n",
       "      <td>NEPHROLOGY</td>\n",
       "      <td>M6.5</td>\n",
       "      <td>Maintenance Hemodialysis For Crf</td>\n",
       "      <td>Kapasakuddi</td>\n",
       "      <td>Kaviti</td>\n",
       "      <td>...</td>\n",
       "      <td>11500</td>\n",
       "      <td>Rims Govt. General Hospital, Srikakulam</td>\n",
       "      <td>G</td>\n",
       "      <td>SRIKAKULAM</td>\n",
       "      <td>Srikakulam</td>\n",
       "      <td>15/08/2013 00:00:00</td>\n",
       "      <td>18/10/2013 00:00:00</td>\n",
       "      <td>NO</td>\n",
       "      <td>NaN</td>\n",
       "      <td>D</td>\n",
       "    </tr>\n",
       "    <tr>\n",
       "      <th>3</th>\n",
       "      <td>4</td>\n",
       "      <td>45</td>\n",
       "      <td>Male</td>\n",
       "      <td>BC</td>\n",
       "      <td>M6</td>\n",
       "      <td>NEPHROLOGY</td>\n",
       "      <td>M6.5</td>\n",
       "      <td>Maintenance Hemodialysis For Crf</td>\n",
       "      <td>Telikipenta</td>\n",
       "      <td>Sarubujjili</td>\n",
       "      <td>...</td>\n",
       "      <td>11000</td>\n",
       "      <td>Rims Govt. General Hospital, Srikakulam</td>\n",
       "      <td>G</td>\n",
       "      <td>SRIKAKULAM</td>\n",
       "      <td>Srikakulam</td>\n",
       "      <td>24/08/2013 00:00:00</td>\n",
       "      <td>27/09/2013 00:00:00</td>\n",
       "      <td>NO</td>\n",
       "      <td>NaN</td>\n",
       "      <td>D</td>\n",
       "    </tr>\n",
       "    <tr>\n",
       "      <th>4</th>\n",
       "      <td>5</td>\n",
       "      <td>54</td>\n",
       "      <td>Male</td>\n",
       "      <td>BC</td>\n",
       "      <td>M6</td>\n",
       "      <td>NEPHROLOGY</td>\n",
       "      <td>M6.5</td>\n",
       "      <td>Maintenance Hemodialysis For Crf</td>\n",
       "      <td>Thandemvalasa</td>\n",
       "      <td>Srikakulam</td>\n",
       "      <td>...</td>\n",
       "      <td>11000</td>\n",
       "      <td>Rims Govt. General Hospital, Srikakulam</td>\n",
       "      <td>G</td>\n",
       "      <td>SRIKAKULAM</td>\n",
       "      <td>Srikakulam</td>\n",
       "      <td>31/08/2013 00:00:00</td>\n",
       "      <td>02/10/2013 00:00:00</td>\n",
       "      <td>NO</td>\n",
       "      <td>NaN</td>\n",
       "      <td>D</td>\n",
       "    </tr>\n",
       "  </tbody>\n",
       "</table>\n",
       "<p>5 rows × 24 columns</p>\n",
       "</div>"
      ],
      "text/plain": [
       "        AGE     SEX CASTE_NAME CATEGORY_CODE CATEGORY_NAME SURGERY_CODE  \\\n",
       "0    1   56  Female         BC            M6    NEPHROLOGY         M6.5   \n",
       "1    2   37    Male         BC            M6    NEPHROLOGY         M6.5   \n",
       "2    3   50    Male         BC            M6    NEPHROLOGY         M6.5   \n",
       "3    4   45    Male         BC            M6    NEPHROLOGY         M6.5   \n",
       "4    5   54    Male         BC            M6    NEPHROLOGY         M6.5   \n",
       "\n",
       "                            SURGERY        VILLAGE  MANDAL_NAME  ...  \\\n",
       "0  Maintenance Hemodialysis For Crf         Lolugu      Ponduru  ...   \n",
       "1  Maintenance Hemodialysis For Crf      Borivanka       Kaviti  ...   \n",
       "2  Maintenance Hemodialysis For Crf    Kapasakuddi       Kaviti  ...   \n",
       "3  Maintenance Hemodialysis For Crf    Telikipenta  Sarubujjili  ...   \n",
       "4  Maintenance Hemodialysis For Crf  Thandemvalasa   Srikakulam  ...   \n",
       "\n",
       "  CLAIM_AMOUNT                                HOSP_NAME  HOSP_TYPE  \\\n",
       "0        11000  Rims Govt. General Hospital, Srikakulam          G   \n",
       "1        11000  Rims Govt. General Hospital, Srikakulam          G   \n",
       "2        11500  Rims Govt. General Hospital, Srikakulam          G   \n",
       "3        11000  Rims Govt. General Hospital, Srikakulam          G   \n",
       "4        11000  Rims Govt. General Hospital, Srikakulam          G   \n",
       "\n",
       "  HOSP_LOCATION  HOSP_DISTRICT         SURGERY_DATE       DISCHARGE_DATE  \\\n",
       "0    SRIKAKULAM     Srikakulam  06/08/2013 00:00:00  07/09/2013 00:00:00   \n",
       "1    SRIKAKULAM     Srikakulam  08/08/2013 00:00:00  09/09/2013 00:00:00   \n",
       "2    SRIKAKULAM     Srikakulam  15/08/2013 00:00:00  18/10/2013 00:00:00   \n",
       "3    SRIKAKULAM     Srikakulam  24/08/2013 00:00:00  27/09/2013 00:00:00   \n",
       "4    SRIKAKULAM     Srikakulam  31/08/2013 00:00:00  02/10/2013 00:00:00   \n",
       "\n",
       "  Mortality Y / N MORTALITY_DATE SRC_REGISTRATION  \n",
       "0              NO            NaN                D  \n",
       "1              NO            NaN                D  \n",
       "2              NO            NaN                D  \n",
       "3              NO            NaN                D  \n",
       "4              NO            NaN                D  \n",
       "\n",
       "[5 rows x 24 columns]"
      ]
     },
     "execution_count": 43,
     "metadata": {},
     "output_type": "execute_result"
    }
   ],
   "source": [
    "# Mostramos top5 de datos\n",
    "data.head()"
   ]
  },
  {
   "cell_type": "markdown",
   "metadata": {
    "_uuid": "ad5cb3a33ba0a2d3e28dfbca46379fd58288c511"
   },
   "source": [
    "Ahora vamos a mostrar algunas estadisticas simples de las columnas numéricas del dataset. Utilizamos la función *describe* de los datos para obtenerlas.."
   ]
  },
  {
   "cell_type": "code",
   "execution_count": 44,
   "metadata": {
    "_uuid": "7df4c2f7e8da9f29fa2ee72ccf5ff6324b264bca"
   },
   "outputs": [
    {
     "data": {
      "text/html": [
       "<div>\n",
       "<style scoped>\n",
       "    .dataframe tbody tr th:only-of-type {\n",
       "        vertical-align: middle;\n",
       "    }\n",
       "\n",
       "    .dataframe tbody tr th {\n",
       "        vertical-align: top;\n",
       "    }\n",
       "\n",
       "    .dataframe thead th {\n",
       "        text-align: right;\n",
       "    }\n",
       "</style>\n",
       "<table border=\"1\" class=\"dataframe\">\n",
       "  <thead>\n",
       "    <tr style=\"text-align: right;\">\n",
       "      <th></th>\n",
       "      <th></th>\n",
       "      <th>AGE</th>\n",
       "      <th>PREAUTH_AMT</th>\n",
       "      <th>CLAIM_AMOUNT</th>\n",
       "    </tr>\n",
       "  </thead>\n",
       "  <tbody>\n",
       "    <tr>\n",
       "      <th>count</th>\n",
       "      <td>479688.000000</td>\n",
       "      <td>479688.000000</td>\n",
       "      <td>479688.000000</td>\n",
       "      <td>479688.000000</td>\n",
       "    </tr>\n",
       "    <tr>\n",
       "      <th>mean</th>\n",
       "      <td>239844.500000</td>\n",
       "      <td>44.912264</td>\n",
       "      <td>30428.941698</td>\n",
       "      <td>27652.205861</td>\n",
       "    </tr>\n",
       "    <tr>\n",
       "      <th>std</th>\n",
       "      <td>138474.142301</td>\n",
       "      <td>18.961084</td>\n",
       "      <td>27441.592281</td>\n",
       "      <td>25951.706037</td>\n",
       "    </tr>\n",
       "    <tr>\n",
       "      <th>min</th>\n",
       "      <td>1.000000</td>\n",
       "      <td>0.000000</td>\n",
       "      <td>5.000000</td>\n",
       "      <td>2.000000</td>\n",
       "    </tr>\n",
       "    <tr>\n",
       "      <th>25%</th>\n",
       "      <td>119922.750000</td>\n",
       "      <td>34.000000</td>\n",
       "      <td>12500.000000</td>\n",
       "      <td>12500.000000</td>\n",
       "    </tr>\n",
       "    <tr>\n",
       "      <th>50%</th>\n",
       "      <td>239844.500000</td>\n",
       "      <td>47.000000</td>\n",
       "      <td>25000.000000</td>\n",
       "      <td>23200.000000</td>\n",
       "    </tr>\n",
       "    <tr>\n",
       "      <th>75%</th>\n",
       "      <td>359766.250000</td>\n",
       "      <td>59.000000</td>\n",
       "      <td>35000.000000</td>\n",
       "      <td>30600.000000</td>\n",
       "    </tr>\n",
       "    <tr>\n",
       "      <th>max</th>\n",
       "      <td>479688.000000</td>\n",
       "      <td>107.000000</td>\n",
       "      <td>520000.000000</td>\n",
       "      <td>520000.000000</td>\n",
       "    </tr>\n",
       "  </tbody>\n",
       "</table>\n",
       "</div>"
      ],
      "text/plain": [
       "                                AGE    PREAUTH_AMT   CLAIM_AMOUNT\n",
       "count  479688.000000  479688.000000  479688.000000  479688.000000\n",
       "mean   239844.500000      44.912264   30428.941698   27652.205861\n",
       "std    138474.142301      18.961084   27441.592281   25951.706037\n",
       "min         1.000000       0.000000       5.000000       2.000000\n",
       "25%    119922.750000      34.000000   12500.000000   12500.000000\n",
       "50%    239844.500000      47.000000   25000.000000   23200.000000\n",
       "75%    359766.250000      59.000000   35000.000000   30600.000000\n",
       "max    479688.000000     107.000000  520000.000000  520000.000000"
      ]
     },
     "execution_count": 44,
     "metadata": {},
     "output_type": "execute_result"
    }
   ],
   "source": [
    "# Estadísticas descriptivas\n",
    "# data.describe(include='all') # Incluye todas las variables\n",
    "data.describe()"
   ]
  },
  {
   "cell_type": "markdown",
   "metadata": {
    "_uuid": "f46a3e2d51b788921ff9667aeefeae4acf5b0900"
   },
   "source": [
    "Ahora analizamos los nombres de las columnas"
   ]
  },
  {
   "cell_type": "code",
   "execution_count": 45,
   "metadata": {
    "_kg_hide-input": false,
    "_kg_hide-output": false,
    "_uuid": "3994dacd6627fe5fd89832fd4d355eb114fd55b8"
   },
   "outputs": [
    {
     "data": {
      "text/plain": [
       "Index(['   ', 'AGE', 'SEX', 'CASTE_NAME', 'CATEGORY_CODE', 'CATEGORY_NAME',\n",
       "       'SURGERY_CODE', 'SURGERY', 'VILLAGE', 'MANDAL_NAME', 'DISTRICT_NAME',\n",
       "       'PREAUTH_DATE', 'PREAUTH_AMT', 'CLAIM_DATE', 'CLAIM_AMOUNT',\n",
       "       'HOSP_NAME', 'HOSP_TYPE', 'HOSP_LOCATION', 'HOSP_DISTRICT',\n",
       "       'SURGERY_DATE', 'DISCHARGE_DATE', 'Mortality Y / N', 'MORTALITY_DATE',\n",
       "       'SRC_REGISTRATION'],\n",
       "      dtype='object')"
      ]
     },
     "execution_count": 45,
     "metadata": {},
     "output_type": "execute_result"
    }
   ],
   "source": [
    "# Muestra los nombres de las columnas en el dataset _data_\n",
    "data.columns"
   ]
  },
  {
   "cell_type": "code",
   "execution_count": 46,
   "metadata": {},
   "outputs": [
    {
     "name": "stdout",
     "output_type": "stream",
     "text": [
      "<class 'pandas.core.frame.DataFrame'>\n",
      "RangeIndex: 479688 entries, 0 to 479687\n",
      "Data columns (total 24 columns):\n",
      " #   Column            Non-Null Count   Dtype \n",
      "---  ------            --------------   ----- \n",
      " 0                     479688 non-null  int64 \n",
      " 1   AGE               479688 non-null  int64 \n",
      " 2   SEX               479688 non-null  object\n",
      " 3   CASTE_NAME        479688 non-null  object\n",
      " 4   CATEGORY_CODE     479688 non-null  object\n",
      " 5   CATEGORY_NAME     479688 non-null  object\n",
      " 6   SURGERY_CODE      479688 non-null  object\n",
      " 7   SURGERY           479688 non-null  object\n",
      " 8   VILLAGE           479688 non-null  object\n",
      " 9   MANDAL_NAME       479688 non-null  object\n",
      " 10  DISTRICT_NAME     479688 non-null  object\n",
      " 11  PREAUTH_DATE      479688 non-null  object\n",
      " 12  PREAUTH_AMT       479688 non-null  int64 \n",
      " 13  CLAIM_DATE        479688 non-null  object\n",
      " 14  CLAIM_AMOUNT      479688 non-null  int64 \n",
      " 15  HOSP_NAME         479688 non-null  object\n",
      " 16  HOSP_TYPE         479688 non-null  object\n",
      " 17  HOSP_LOCATION     479688 non-null  object\n",
      " 18  HOSP_DISTRICT     479688 non-null  object\n",
      " 19  SURGERY_DATE      479688 non-null  object\n",
      " 20  DISCHARGE_DATE    475128 non-null  object\n",
      " 21  Mortality Y / N   479688 non-null  object\n",
      " 22  MORTALITY_DATE    10122 non-null   object\n",
      " 23  SRC_REGISTRATION  479688 non-null  object\n",
      "dtypes: int64(4), object(20)\n",
      "memory usage: 87.8+ MB\n"
     ]
    }
   ],
   "source": [
    "data.info()"
   ]
  },
  {
   "cell_type": "markdown",
   "metadata": {},
   "source": [
    "### Tamaño del dataframe"
   ]
  },
  {
   "cell_type": "code",
   "execution_count": 47,
   "metadata": {},
   "outputs": [
    {
     "data": {
      "text/plain": [
       "(479688, 24)"
      ]
     },
     "execution_count": 47,
     "metadata": {},
     "output_type": "execute_result"
    }
   ],
   "source": [
    "data.shape"
   ]
  },
  {
   "cell_type": "markdown",
   "metadata": {},
   "source": [
    "### Corrección de formatos "
   ]
  },
  {
   "cell_type": "markdown",
   "metadata": {},
   "source": [
    "Las columnas PREAUTH_DATE, CLAIM_DATE, SURGERY_DATE, DISCHARGE_DATE y MORTALITY_DATE son cargadas como si fueran del tipo Object, cuando en realidad deberían ser levantadas como fechas"
   ]
  },
  {
   "cell_type": "code",
   "execution_count": 48,
   "metadata": {},
   "outputs": [],
   "source": [
    "# data = pd.read_csv(\"input/ntrarogyaseva.csv\")\n",
    "from datetime import datetime"
   ]
  },
  {
   "cell_type": "code",
   "execution_count": 50,
   "metadata": {},
   "outputs": [
    {
     "ename": "OutOfBoundsDatetime",
     "evalue": "Out of bounds nanosecond timestamp: 116-04-30 00:00:00",
     "output_type": "error",
     "traceback": [
      "\u001b[0;31m---------------------------------------------------------------------------\u001b[0m",
      "\u001b[0;31mTypeError\u001b[0m                                 Traceback (most recent call last)",
      "File \u001b[0;32m~/.local/lib/python3.10/site-packages/pandas/core/arrays/datetimes.py:2211\u001b[0m, in \u001b[0;36mobjects_to_datetime64ns\u001b[0;34m(data, dayfirst, yearfirst, utc, errors, require_iso8601, allow_object, allow_mixed)\u001b[0m\n\u001b[1;32m   2210\u001b[0m \u001b[38;5;28;01mtry\u001b[39;00m:\n\u001b[0;32m-> 2211\u001b[0m     values, tz_parsed \u001b[38;5;241m=\u001b[39m \u001b[43mconversion\u001b[49m\u001b[38;5;241;43m.\u001b[39;49m\u001b[43mdatetime_to_datetime64\u001b[49m\u001b[43m(\u001b[49m\u001b[43mdata\u001b[49m\u001b[38;5;241;43m.\u001b[39;49m\u001b[43mravel\u001b[49m\u001b[43m(\u001b[49m\u001b[38;5;124;43m\"\u001b[39;49m\u001b[38;5;124;43mK\u001b[39;49m\u001b[38;5;124;43m\"\u001b[39;49m\u001b[43m)\u001b[49m\u001b[43m)\u001b[49m\n\u001b[1;32m   2212\u001b[0m     \u001b[38;5;66;03m# If tzaware, these values represent unix timestamps, so we\u001b[39;00m\n\u001b[1;32m   2213\u001b[0m     \u001b[38;5;66;03m#  return them as i8 to distinguish from wall times\u001b[39;00m\n",
      "File \u001b[0;32m~/.local/lib/python3.10/site-packages/pandas/_libs/tslibs/conversion.pyx:360\u001b[0m, in \u001b[0;36mpandas._libs.tslibs.conversion.datetime_to_datetime64\u001b[0;34m()\u001b[0m\n",
      "\u001b[0;31mTypeError\u001b[0m: Unrecognized value type: <class 'str'>",
      "\nDuring handling of the above exception, another exception occurred:\n",
      "\u001b[0;31mOutOfBoundsDatetime\u001b[0m                       Traceback (most recent call last)",
      "Input \u001b[0;32mIn [50]\u001b[0m, in \u001b[0;36m<cell line: 2>\u001b[0;34m()\u001b[0m\n\u001b[1;32m      1\u001b[0m \u001b[38;5;66;03m# Convertimos el campo DISCHARGE_DATE a fecha. Tira un error\u001b[39;00m\n\u001b[0;32m----> 2\u001b[0m data[\u001b[38;5;124m'\u001b[39m\u001b[38;5;124mDISCHARGE_DATE\u001b[39m\u001b[38;5;124m'\u001b[39m] \u001b[38;5;241m=\u001b[39m \u001b[43mpd\u001b[49m\u001b[38;5;241;43m.\u001b[39;49m\u001b[43mto_datetime\u001b[49m\u001b[43m(\u001b[49m\u001b[43mdata\u001b[49m\u001b[43m[\u001b[49m\u001b[38;5;124;43m'\u001b[39;49m\u001b[38;5;124;43mDISCHARGE_DATE\u001b[39;49m\u001b[38;5;124;43m'\u001b[39;49m\u001b[43m]\u001b[49m\u001b[43m)\u001b[49m\n",
      "File \u001b[0;32m~/.local/lib/python3.10/site-packages/pandas/core/tools/datetimes.py:1047\u001b[0m, in \u001b[0;36mto_datetime\u001b[0;34m(arg, errors, dayfirst, yearfirst, utc, format, exact, unit, infer_datetime_format, origin, cache)\u001b[0m\n\u001b[1;32m   1045\u001b[0m             result \u001b[38;5;241m=\u001b[39m arg\u001b[38;5;241m.\u001b[39mtz_localize(tz)\n\u001b[1;32m   1046\u001b[0m \u001b[38;5;28;01melif\u001b[39;00m \u001b[38;5;28misinstance\u001b[39m(arg, ABCSeries):\n\u001b[0;32m-> 1047\u001b[0m     cache_array \u001b[38;5;241m=\u001b[39m \u001b[43m_maybe_cache\u001b[49m\u001b[43m(\u001b[49m\u001b[43marg\u001b[49m\u001b[43m,\u001b[49m\u001b[43m \u001b[49m\u001b[38;5;28;43mformat\u001b[39;49m\u001b[43m,\u001b[49m\u001b[43m \u001b[49m\u001b[43mcache\u001b[49m\u001b[43m,\u001b[49m\u001b[43m \u001b[49m\u001b[43mconvert_listlike\u001b[49m\u001b[43m)\u001b[49m\n\u001b[1;32m   1048\u001b[0m     \u001b[38;5;28;01mif\u001b[39;00m \u001b[38;5;129;01mnot\u001b[39;00m cache_array\u001b[38;5;241m.\u001b[39mempty:\n\u001b[1;32m   1049\u001b[0m         result \u001b[38;5;241m=\u001b[39m arg\u001b[38;5;241m.\u001b[39mmap(cache_array)\n",
      "File \u001b[0;32m~/.local/lib/python3.10/site-packages/pandas/core/tools/datetimes.py:197\u001b[0m, in \u001b[0;36m_maybe_cache\u001b[0;34m(arg, format, cache, convert_listlike)\u001b[0m\n\u001b[1;32m    195\u001b[0m unique_dates \u001b[38;5;241m=\u001b[39m unique(arg)\n\u001b[1;32m    196\u001b[0m \u001b[38;5;28;01mif\u001b[39;00m \u001b[38;5;28mlen\u001b[39m(unique_dates) \u001b[38;5;241m<\u001b[39m \u001b[38;5;28mlen\u001b[39m(arg):\n\u001b[0;32m--> 197\u001b[0m     cache_dates \u001b[38;5;241m=\u001b[39m \u001b[43mconvert_listlike\u001b[49m\u001b[43m(\u001b[49m\u001b[43munique_dates\u001b[49m\u001b[43m,\u001b[49m\u001b[43m \u001b[49m\u001b[38;5;28;43mformat\u001b[39;49m\u001b[43m)\u001b[49m\n\u001b[1;32m    198\u001b[0m     cache_array \u001b[38;5;241m=\u001b[39m Series(cache_dates, index\u001b[38;5;241m=\u001b[39munique_dates)\n\u001b[1;32m    199\u001b[0m     \u001b[38;5;66;03m# GH#39882 and GH#35888 in case of None and NaT we get duplicates\u001b[39;00m\n",
      "File \u001b[0;32m~/.local/lib/python3.10/site-packages/pandas/core/tools/datetimes.py:402\u001b[0m, in \u001b[0;36m_convert_listlike_datetimes\u001b[0;34m(arg, format, name, tz, unit, errors, infer_datetime_format, dayfirst, yearfirst, exact)\u001b[0m\n\u001b[1;32m    400\u001b[0m \u001b[38;5;28;01massert\u001b[39;00m \u001b[38;5;28mformat\u001b[39m \u001b[38;5;129;01mis\u001b[39;00m \u001b[38;5;28;01mNone\u001b[39;00m \u001b[38;5;129;01mor\u001b[39;00m infer_datetime_format\n\u001b[1;32m    401\u001b[0m utc \u001b[38;5;241m=\u001b[39m tz \u001b[38;5;241m==\u001b[39m \u001b[38;5;124m\"\u001b[39m\u001b[38;5;124mutc\u001b[39m\u001b[38;5;124m\"\u001b[39m\n\u001b[0;32m--> 402\u001b[0m result, tz_parsed \u001b[38;5;241m=\u001b[39m \u001b[43mobjects_to_datetime64ns\u001b[49m\u001b[43m(\u001b[49m\n\u001b[1;32m    403\u001b[0m \u001b[43m    \u001b[49m\u001b[43marg\u001b[49m\u001b[43m,\u001b[49m\n\u001b[1;32m    404\u001b[0m \u001b[43m    \u001b[49m\u001b[43mdayfirst\u001b[49m\u001b[38;5;241;43m=\u001b[39;49m\u001b[43mdayfirst\u001b[49m\u001b[43m,\u001b[49m\n\u001b[1;32m    405\u001b[0m \u001b[43m    \u001b[49m\u001b[43myearfirst\u001b[49m\u001b[38;5;241;43m=\u001b[39;49m\u001b[43myearfirst\u001b[49m\u001b[43m,\u001b[49m\n\u001b[1;32m    406\u001b[0m \u001b[43m    \u001b[49m\u001b[43mutc\u001b[49m\u001b[38;5;241;43m=\u001b[39;49m\u001b[43mutc\u001b[49m\u001b[43m,\u001b[49m\n\u001b[1;32m    407\u001b[0m \u001b[43m    \u001b[49m\u001b[43merrors\u001b[49m\u001b[38;5;241;43m=\u001b[39;49m\u001b[43merrors\u001b[49m\u001b[43m,\u001b[49m\n\u001b[1;32m    408\u001b[0m \u001b[43m    \u001b[49m\u001b[43mrequire_iso8601\u001b[49m\u001b[38;5;241;43m=\u001b[39;49m\u001b[43mrequire_iso8601\u001b[49m\u001b[43m,\u001b[49m\n\u001b[1;32m    409\u001b[0m \u001b[43m    \u001b[49m\u001b[43mallow_object\u001b[49m\u001b[38;5;241;43m=\u001b[39;49m\u001b[38;5;28;43;01mTrue\u001b[39;49;00m\u001b[43m,\u001b[49m\n\u001b[1;32m    410\u001b[0m \u001b[43m\u001b[49m\u001b[43m)\u001b[49m\n\u001b[1;32m    412\u001b[0m \u001b[38;5;28;01mif\u001b[39;00m tz_parsed \u001b[38;5;129;01mis\u001b[39;00m \u001b[38;5;129;01mnot\u001b[39;00m \u001b[38;5;28;01mNone\u001b[39;00m:\n\u001b[1;32m    413\u001b[0m     \u001b[38;5;66;03m# We can take a shortcut since the datetime64 numpy array\u001b[39;00m\n\u001b[1;32m    414\u001b[0m     \u001b[38;5;66;03m# is in UTC\u001b[39;00m\n\u001b[1;32m    415\u001b[0m     dta \u001b[38;5;241m=\u001b[39m DatetimeArray(result, dtype\u001b[38;5;241m=\u001b[39mtz_to_dtype(tz_parsed))\n",
      "File \u001b[0;32m~/.local/lib/python3.10/site-packages/pandas/core/arrays/datetimes.py:2217\u001b[0m, in \u001b[0;36mobjects_to_datetime64ns\u001b[0;34m(data, dayfirst, yearfirst, utc, errors, require_iso8601, allow_object, allow_mixed)\u001b[0m\n\u001b[1;32m   2215\u001b[0m         \u001b[38;5;28;01mreturn\u001b[39;00m values\u001b[38;5;241m.\u001b[39mview(\u001b[38;5;124m\"\u001b[39m\u001b[38;5;124mi8\u001b[39m\u001b[38;5;124m\"\u001b[39m), tz_parsed\n\u001b[1;32m   2216\u001b[0m     \u001b[38;5;28;01mexcept\u001b[39;00m (\u001b[38;5;167;01mValueError\u001b[39;00m, \u001b[38;5;167;01mTypeError\u001b[39;00m):\n\u001b[0;32m-> 2217\u001b[0m         \u001b[38;5;28;01mraise\u001b[39;00m err\n\u001b[1;32m   2219\u001b[0m \u001b[38;5;28;01mif\u001b[39;00m tz_parsed \u001b[38;5;129;01mis\u001b[39;00m \u001b[38;5;129;01mnot\u001b[39;00m \u001b[38;5;28;01mNone\u001b[39;00m:\n\u001b[1;32m   2220\u001b[0m     \u001b[38;5;66;03m# We can take a shortcut since the datetime64 numpy array\u001b[39;00m\n\u001b[1;32m   2221\u001b[0m     \u001b[38;5;66;03m#  is in UTC\u001b[39;00m\n\u001b[1;32m   2222\u001b[0m     \u001b[38;5;66;03m# Return i8 values to denote unix timestamps\u001b[39;00m\n\u001b[1;32m   2223\u001b[0m     \u001b[38;5;28;01mreturn\u001b[39;00m result\u001b[38;5;241m.\u001b[39mview(\u001b[38;5;124m\"\u001b[39m\u001b[38;5;124mi8\u001b[39m\u001b[38;5;124m\"\u001b[39m), tz_parsed\n",
      "File \u001b[0;32m~/.local/lib/python3.10/site-packages/pandas/core/arrays/datetimes.py:2199\u001b[0m, in \u001b[0;36mobjects_to_datetime64ns\u001b[0;34m(data, dayfirst, yearfirst, utc, errors, require_iso8601, allow_object, allow_mixed)\u001b[0m\n\u001b[1;32m   2197\u001b[0m order: Literal[\u001b[38;5;124m\"\u001b[39m\u001b[38;5;124mF\u001b[39m\u001b[38;5;124m\"\u001b[39m, \u001b[38;5;124m\"\u001b[39m\u001b[38;5;124mC\u001b[39m\u001b[38;5;124m\"\u001b[39m] \u001b[38;5;241m=\u001b[39m \u001b[38;5;124m\"\u001b[39m\u001b[38;5;124mF\u001b[39m\u001b[38;5;124m\"\u001b[39m \u001b[38;5;28;01mif\u001b[39;00m flags\u001b[38;5;241m.\u001b[39mf_contiguous \u001b[38;5;28;01melse\u001b[39;00m \u001b[38;5;124m\"\u001b[39m\u001b[38;5;124mC\u001b[39m\u001b[38;5;124m\"\u001b[39m\n\u001b[1;32m   2198\u001b[0m \u001b[38;5;28;01mtry\u001b[39;00m:\n\u001b[0;32m-> 2199\u001b[0m     result, tz_parsed \u001b[38;5;241m=\u001b[39m \u001b[43mtslib\u001b[49m\u001b[38;5;241;43m.\u001b[39;49m\u001b[43marray_to_datetime\u001b[49m\u001b[43m(\u001b[49m\n\u001b[1;32m   2200\u001b[0m \u001b[43m        \u001b[49m\u001b[43mdata\u001b[49m\u001b[38;5;241;43m.\u001b[39;49m\u001b[43mravel\u001b[49m\u001b[43m(\u001b[49m\u001b[38;5;124;43m\"\u001b[39;49m\u001b[38;5;124;43mK\u001b[39;49m\u001b[38;5;124;43m\"\u001b[39;49m\u001b[43m)\u001b[49m\u001b[43m,\u001b[49m\n\u001b[1;32m   2201\u001b[0m \u001b[43m        \u001b[49m\u001b[43merrors\u001b[49m\u001b[38;5;241;43m=\u001b[39;49m\u001b[43merrors\u001b[49m\u001b[43m,\u001b[49m\n\u001b[1;32m   2202\u001b[0m \u001b[43m        \u001b[49m\u001b[43mutc\u001b[49m\u001b[38;5;241;43m=\u001b[39;49m\u001b[43mutc\u001b[49m\u001b[43m,\u001b[49m\n\u001b[1;32m   2203\u001b[0m \u001b[43m        \u001b[49m\u001b[43mdayfirst\u001b[49m\u001b[38;5;241;43m=\u001b[39;49m\u001b[43mdayfirst\u001b[49m\u001b[43m,\u001b[49m\n\u001b[1;32m   2204\u001b[0m \u001b[43m        \u001b[49m\u001b[43myearfirst\u001b[49m\u001b[38;5;241;43m=\u001b[39;49m\u001b[43myearfirst\u001b[49m\u001b[43m,\u001b[49m\n\u001b[1;32m   2205\u001b[0m \u001b[43m        \u001b[49m\u001b[43mrequire_iso8601\u001b[49m\u001b[38;5;241;43m=\u001b[39;49m\u001b[43mrequire_iso8601\u001b[49m\u001b[43m,\u001b[49m\n\u001b[1;32m   2206\u001b[0m \u001b[43m        \u001b[49m\u001b[43mallow_mixed\u001b[49m\u001b[38;5;241;43m=\u001b[39;49m\u001b[43mallow_mixed\u001b[49m\u001b[43m,\u001b[49m\n\u001b[1;32m   2207\u001b[0m \u001b[43m    \u001b[49m\u001b[43m)\u001b[49m\n\u001b[1;32m   2208\u001b[0m     result \u001b[38;5;241m=\u001b[39m result\u001b[38;5;241m.\u001b[39mreshape(data\u001b[38;5;241m.\u001b[39mshape, order\u001b[38;5;241m=\u001b[39morder)\n\u001b[1;32m   2209\u001b[0m \u001b[38;5;28;01mexcept\u001b[39;00m \u001b[38;5;167;01mValueError\u001b[39;00m \u001b[38;5;28;01mas\u001b[39;00m err:\n",
      "File \u001b[0;32m~/.local/lib/python3.10/site-packages/pandas/_libs/tslib.pyx:381\u001b[0m, in \u001b[0;36mpandas._libs.tslib.array_to_datetime\u001b[0;34m()\u001b[0m\n",
      "File \u001b[0;32m~/.local/lib/python3.10/site-packages/pandas/_libs/tslib.pyx:608\u001b[0m, in \u001b[0;36mpandas._libs.tslib.array_to_datetime\u001b[0;34m()\u001b[0m\n",
      "File \u001b[0;32m~/.local/lib/python3.10/site-packages/pandas/_libs/tslib.pyx:604\u001b[0m, in \u001b[0;36mpandas._libs.tslib.array_to_datetime\u001b[0;34m()\u001b[0m\n",
      "File \u001b[0;32m~/.local/lib/python3.10/site-packages/pandas/_libs/tslib.pyx:559\u001b[0m, in \u001b[0;36mpandas._libs.tslib.array_to_datetime\u001b[0;34m()\u001b[0m\n",
      "File \u001b[0;32m~/.local/lib/python3.10/site-packages/pandas/_libs/tslibs/conversion.pyx:517\u001b[0m, in \u001b[0;36mpandas._libs.tslibs.conversion.convert_datetime_to_tsobject\u001b[0;34m()\u001b[0m\n",
      "File \u001b[0;32m~/.local/lib/python3.10/site-packages/pandas/_libs/tslibs/np_datetime.pyx:120\u001b[0m, in \u001b[0;36mpandas._libs.tslibs.np_datetime.check_dts_bounds\u001b[0;34m()\u001b[0m\n",
      "\u001b[0;31mOutOfBoundsDatetime\u001b[0m: Out of bounds nanosecond timestamp: 116-04-30 00:00:00"
     ]
    }
   ],
   "source": [
    "# Convertimos el campo DISCHARGE_DATE a fecha. Tira un error\n",
    "data['DISCHARGE_DATE'] = pd.to_datetime(data['DISCHARGE_DATE'])"
   ]
  },
  {
   "cell_type": "code",
   "execution_count": null,
   "metadata": {},
   "outputs": [],
   "source": [
    "# Buscamos el error:\n",
    "# Alternativa I:\n",
    "data.loc[data['DISCHARGE_DATE'].str.contains('116', na=False)]"
   ]
  },
  {
   "cell_type": "code",
   "execution_count": null,
   "metadata": {},
   "outputs": [],
   "source": [
    "# Alternativa II\n",
    "data.loc[data['DISCHARGE_DATE']=='30/04/0116 00:00:00']"
   ]
  },
  {
   "cell_type": "code",
   "execution_count": null,
   "metadata": {},
   "outputs": [],
   "source": [
    "# Reemplazamos los datos erroneos:\n",
    "# Alternativa I\n",
    "mappings = {'30/04/0116 00:00:00':'30/04/2016 00:00:00'}\n",
    "data['DISCHARGE_DATE'] = data['DISCHARGE_DATE'].replace(mappings)\n",
    "\n",
    "# Alternativa II\n",
    "data.loc[data['DISCHARGE_DATE']=='30/04/0116 00:00:00', 'DISCHARGE_DATE'] = '30/04/2016 00:00:00'"
   ]
  },
  {
   "cell_type": "code",
   "execution_count": null,
   "metadata": {},
   "outputs": [],
   "source": [
    "# Convertimos el campo DISCHARGE_DATE a fecha nuevamente\n",
    "data['DISCHARGE_DATE'] = pd.to_datetime(data['DISCHARGE_DATE'])"
   ]
  },
  {
   "cell_type": "code",
   "execution_count": null,
   "metadata": {},
   "outputs": [],
   "source": [
    "data['PREAUTH_DATE'] = pd.to_datetime(data['PREAUTH_DATE'])\n",
    "data['CLAIM_DATE'] = pd.to_datetime(data['CLAIM_DATE'])\n",
    "data['MORTALITY_DATE'] = pd.to_datetime(data['MORTALITY_DATE'])\n",
    "data['SURGERY_DATE'] = pd.to_datetime(data['SURGERY_DATE'])"
   ]
  },
  {
   "cell_type": "code",
   "execution_count": null,
   "metadata": {},
   "outputs": [],
   "source": [
    "# Borramos la columna que tiene el índice del CSV \n",
    "data = data.drop('   ', axis = 1)"
   ]
  },
  {
   "cell_type": "code",
   "execution_count": null,
   "metadata": {},
   "outputs": [],
   "source": [
    "data.to_csv('data/ntrarogyaseva_cut.csv', index = False)"
   ]
  },
  {
   "cell_type": "markdown",
   "metadata": {},
   "source": [
    "### NAN Values "
   ]
  },
  {
   "cell_type": "code",
   "execution_count": null,
   "metadata": {},
   "outputs": [],
   "source": [
    "data.isnull().sum()"
   ]
  },
  {
   "cell_type": "code",
   "execution_count": null,
   "metadata": {},
   "outputs": [],
   "source": [
    "# DISCHARGE_DATE tiene NAs porque pueden referirse a los pacientes que siguen internados o no tienen el alta\n",
    "data.loc[data['DISCHARGE_DATE'].isna()]"
   ]
  },
  {
   "cell_type": "code",
   "execution_count": null,
   "metadata": {},
   "outputs": [],
   "source": [
    "# Podemos chequear si hay pacientes con DISCHARGE_DATE NA y que hallan fallecido\n",
    "data.loc[(data['Mortality Y / N']=='YES') & (data['DISCHARGE_DATE'].isna())]"
   ]
  },
  {
   "cell_type": "code",
   "execution_count": null,
   "metadata": {},
   "outputs": [],
   "source": [
    "# Los MORTALITY_DATE en blanco, es porque no falleció o por error en la base\n",
    "data.loc[(data['Mortality Y / N']=='NO') & (data['MORTALITY_DATE'].isna())]"
   ]
  },
  {
   "cell_type": "markdown",
   "metadata": {
    "_uuid": "c62aea5ceff3e742443abe2fa8ce43c914a1f50c"
   },
   "source": [
    "## Analizando un poco mas profundo..."
   ]
  },
  {
   "cell_type": "markdown",
   "metadata": {
    "_uuid": "bffee16b17d1eaade1d9038bcce91f17f0b37e57"
   },
   "source": [
    "### Cual es la distribución de la variable SEX?"
   ]
  },
  {
   "cell_type": "markdown",
   "metadata": {
    "_uuid": "57643886b47dfe5b4c1ede755944617d8196df9e"
   },
   "source": [
    "*value_counts()* es una función de Pandas que puede ser usada para obtener la distribución de los datos, en la columna que se especifique."
   ]
  },
  {
   "cell_type": "code",
   "execution_count": null,
   "metadata": {
    "_uuid": "f5fe97a1545fa7e0ff484e70ea06c7696ce192f8"
   },
   "outputs": [],
   "source": [
    "# Cantidad de cada valor en la columna SEX\n",
    "data['SEX'].value_counts()"
   ]
  },
  {
   "cell_type": "markdown",
   "metadata": {
    "_uuid": "e194cef08961d651834ed9bfaceccfb97402bf30"
   },
   "source": [
    "*CUIDADO*: Existe valores que están ingresados de forma diferente, que refieren al mismo valor. *Male* and *MALE* no representan valores diferentes! \n",
    "\n",
    "Es posible hacer un *replace* de los valores mal ingresados para normalizar la variable.\n",
    "(Ademas de reemplazar Male (Child) -> Boy and Female (Child) -> Girl por conveniencia)"
   ]
  },
  {
   "cell_type": "code",
   "execution_count": null,
   "metadata": {
    "_uuid": "99a7772d15e3a171ab6e48a423eb43afa7831e8f"
   },
   "outputs": [],
   "source": [
    "# Mapeamos para normalizar\n",
    "mappings = {'MALE' : 'Male', 'FEMALE' : 'Female', 'Male(Child)' : 'Boy', 'Female(Child)' : 'Girl'}"
   ]
  },
  {
   "cell_type": "code",
   "execution_count": null,
   "metadata": {
    "_uuid": "79f45ad169d6a28068bff0d7b41264701c400a18"
   },
   "outputs": [],
   "source": [
    "# Reemplazamos los valores utilizando el mapping arriba definido\n",
    "data['SEX'] = data['SEX'].replace(mappings)\n",
    "data['SEX'].value_counts()"
   ]
  },
  {
   "cell_type": "markdown",
   "metadata": {
    "_uuid": "d0240556a5b1f04e24ec9fd934deeefed64738c8"
   },
   "source": [
    "La visualización de esta información se puede hacer de manera sencilla utilizando la función gráfica que incluye Pandas."
   ]
  },
  {
   "cell_type": "code",
   "execution_count": null,
   "metadata": {
    "_uuid": "dcda1f0b90c7be08de6afe1b793c98798fe1f36b"
   },
   "outputs": [],
   "source": [
    "# Value count de Sex de forma gráfica\n",
    "data['SEX'].value_counts().plot.bar()"
   ]
  },
  {
   "cell_type": "markdown",
   "metadata": {
    "_uuid": "054bd96effe714b478ce136b7e39fb3970d0b5b8"
   },
   "source": [
    "### Cual es la distribución de la variable AGE?"
   ]
  },
  {
   "cell_type": "markdown",
   "metadata": {
    "_uuid": "f9970fbf7c21aff98cba076ba47e3a46b2430085"
   },
   "source": [
    "Media, mediana y moda:"
   ]
  },
  {
   "cell_type": "code",
   "execution_count": null,
   "metadata": {
    "_uuid": "ec00f8bb13699429867785ec79d42b78d1a13739"
   },
   "outputs": [],
   "source": [
    "# print the mean, median and mode of the age distribution\n",
    "print(\"Mean: {}\".format(data['AGE'].mean()))\n",
    "print(\"Median: {}\".format(data['AGE'].median()))\n",
    "print(\"Mode: {}\".format(data['AGE'].mode()))"
   ]
  },
  {
   "cell_type": "markdown",
   "metadata": {
    "_uuid": "83ad4c4247b0293100eb08cee636837b17d9d7a7"
   },
   "source": [
    "Top 10 de las edades mas repetidas."
   ]
  },
  {
   "cell_type": "code",
   "execution_count": 51,
   "metadata": {
    "_uuid": "9eb0488d786f60d452568411aea1982fa7997d10"
   },
   "outputs": [
    {
     "data": {
      "text/plain": [
       "0     17513\n",
       "50    16191\n",
       "55    15184\n",
       "45    15052\n",
       "60    13732\n",
       "46    12858\n",
       "56    12590\n",
       "51    12470\n",
       "40    11962\n",
       "65    11878\n",
       "Name: AGE, dtype: int64"
      ]
     },
     "execution_count": 51,
     "metadata": {},
     "output_type": "execute_result"
    }
   ],
   "source": [
    "# top 10 age\n",
    "data['AGE'].value_counts().head(10)"
   ]
  },
  {
   "cell_type": "code",
   "execution_count": 52,
   "metadata": {
    "_uuid": "2e720e15a7bdc74cf3f5a3937bc30e0ac7c24cea"
   },
   "outputs": [
    {
     "data": {
      "text/plain": [
       "<AxesSubplot:>"
      ]
     },
     "execution_count": 52,
     "metadata": {},
     "output_type": "execute_result"
    },
    {
     "data": {
      "image/png": "[encoded data removed]",
      "text/plain": [
       "<Figure size 432x288 with 1 Axes>"
      ]
     },
     "metadata": {
      "needs_background": "light"
     },
     "output_type": "display_data"
    }
   ],
   "source": [
    "# boxplot para AGE\n",
    "data['AGE'].plot.box()"
   ]
  },
  {
   "cell_type": "markdown",
   "metadata": {
    "_uuid": "ce0456471733af1564ae8ed4a387babf82461962"
   },
   "source": [
    "En el grafico de arriba, la caja representa el **[Rango Intercuatilico (IQR, en inglés)](https://es.wikipedia.org/wiki/Rango_intercuart%C3%ADlico)** de los datos. \n",
    "\n",
    "\n",
    "El IQR representa la región donde cae el 50% de los datos. Por ejemplo del 25% al 75% del dataframe.\n",
    "Todo dato que cae fuera de 1.5 veces el IQR es considerado, en general, una anomalía (OJO, NO SIEMPRE, DEPENDE DEL CONOCIMIENTO DE LOS DATOS POR PARTE DEL ANALISTA)\n",
    "\n",
    "Los círculos se considerarían _outliers_\n",
    "\n",
    "La librería _Seaborn_ ofrece visualizaciones mejores, de forma sencilla.\n"
   ]
  },
  {
   "cell_type": "code",
   "execution_count": 53,
   "metadata": {},
   "outputs": [
    {
     "data": {
      "image/png": "[encoded data removed]",
      "text/plain": [
       "<Figure size 432x288 with 1 Axes>"
      ]
     },
     "metadata": {
      "needs_background": "light"
     },
     "output_type": "display_data"
    }
   ],
   "source": [
    "# sns.boxplot(data['AGE']) # Devuelve un warning, que se solucina definiendo x e y.\n",
    "sns.boxplot(x=data['AGE']); # El ; evita la impresión de texto previo al gráfico."
   ]
  },
  {
   "cell_type": "markdown",
   "metadata": {
    "_uuid": "e920506fd8b4015db64a9e561c65cf3040cc1c11",
    "heading_collapsed": true
   },
   "source": [
    "### Preguntando y respondiendo con los datos"
   ]
  },
  {
   "cell_type": "markdown",
   "metadata": {
    "_uuid": "80f9d6152640714c896924754e6f92798064b070",
    "hidden": true
   },
   "source": [
    "Una vez que hayamos realizado una pequeña exploración en los datos, ahora avancemos a realizarnos algunas preguntas para entender mejor el dataframe."
   ]
  },
  {
   "cell_type": "markdown",
   "metadata": {
    "_uuid": "a783ae63d8383ffc47b13567c81c9d7de722434e",
    "hidden": true
   },
   "source": [
    "**Qué debería hacer si sólo quiero analizar los registros que pertenecen al distrito de Krishna?**\n",
    "\n",
    "Deberí selecciononar un subconjunto de datos pertenencientes a Krishna. Pandas lo hace en dos sencillos pasos:\n",
    "\n",
    "    1. Condición que se debe satisfacer: data['DISTRICT_NAME']=='Krishna'\n",
    "    2. Insertamos la condición en el dataframe: [data['DISTRICT_NAME']=='Krishna']\n",
    "      "
   ]
  },
  {
   "cell_type": "code",
   "execution_count": 54,
   "metadata": {
    "_uuid": "7856e814e3611237be2daca829949c342776265b",
    "hidden": true
   },
   "outputs": [
    {
     "data": {
      "text/html": [
       "<div>\n",
       "<style scoped>\n",
       "    .dataframe tbody tr th:only-of-type {\n",
       "        vertical-align: middle;\n",
       "    }\n",
       "\n",
       "    .dataframe tbody tr th {\n",
       "        vertical-align: top;\n",
       "    }\n",
       "\n",
       "    .dataframe thead th {\n",
       "        text-align: right;\n",
       "    }\n",
       "</style>\n",
       "<table border=\"1\" class=\"dataframe\">\n",
       "  <thead>\n",
       "    <tr style=\"text-align: right;\">\n",
       "      <th></th>\n",
       "      <th></th>\n",
       "      <th>AGE</th>\n",
       "      <th>SEX</th>\n",
       "      <th>CASTE_NAME</th>\n",
       "      <th>CATEGORY_CODE</th>\n",
       "      <th>CATEGORY_NAME</th>\n",
       "      <th>SURGERY_CODE</th>\n",
       "      <th>SURGERY</th>\n",
       "      <th>VILLAGE</th>\n",
       "      <th>MANDAL_NAME</th>\n",
       "      <th>...</th>\n",
       "      <th>CLAIM_AMOUNT</th>\n",
       "      <th>HOSP_NAME</th>\n",
       "      <th>HOSP_TYPE</th>\n",
       "      <th>HOSP_LOCATION</th>\n",
       "      <th>HOSP_DISTRICT</th>\n",
       "      <th>SURGERY_DATE</th>\n",
       "      <th>DISCHARGE_DATE</th>\n",
       "      <th>Mortality Y / N</th>\n",
       "      <th>MORTALITY_DATE</th>\n",
       "      <th>SRC_REGISTRATION</th>\n",
       "    </tr>\n",
       "  </thead>\n",
       "  <tbody>\n",
       "    <tr>\n",
       "      <th>30</th>\n",
       "      <td>31</td>\n",
       "      <td>42</td>\n",
       "      <td>Female</td>\n",
       "      <td>OC</td>\n",
       "      <td>S12</td>\n",
       "      <td>MEDICAL ONCOLOGY</td>\n",
       "      <td>S12.26.1</td>\n",
       "      <td>Chemotherapy for Acute Myeloid Leukemia with I...</td>\n",
       "      <td>Ward-1</td>\n",
       "      <td>Vijayawada</td>\n",
       "      <td>...</td>\n",
       "      <td>60000</td>\n",
       "      <td>Nims Hospitals</td>\n",
       "      <td>G</td>\n",
       "      <td>HYDERABAD</td>\n",
       "      <td>Hyderabad</td>\n",
       "      <td>06/08/2014 00:00:00</td>\n",
       "      <td>01/09/2014 00:00:00</td>\n",
       "      <td>NO</td>\n",
       "      <td>NaN</td>\n",
       "      <td>D</td>\n",
       "    </tr>\n",
       "    <tr>\n",
       "      <th>56</th>\n",
       "      <td>57</td>\n",
       "      <td>52</td>\n",
       "      <td>Male</td>\n",
       "      <td>BC</td>\n",
       "      <td>M5</td>\n",
       "      <td>CARDIOLOGY</td>\n",
       "      <td>M5.1.2</td>\n",
       "      <td>Management Of Acute MI With Angiogram</td>\n",
       "      <td>Ward-26</td>\n",
       "      <td>Vijayawada</td>\n",
       "      <td>...</td>\n",
       "      <td>25000</td>\n",
       "      <td>OZONE HOSPITALS</td>\n",
       "      <td>C</td>\n",
       "      <td>HYDERABAD</td>\n",
       "      <td>Ranga Reddy</td>\n",
       "      <td>28/10/2014 00:00:00</td>\n",
       "      <td>06/11/2014 00:00:00</td>\n",
       "      <td>NO</td>\n",
       "      <td>NaN</td>\n",
       "      <td>D</td>\n",
       "    </tr>\n",
       "    <tr>\n",
       "      <th>58</th>\n",
       "      <td>59</td>\n",
       "      <td>17</td>\n",
       "      <td>Female</td>\n",
       "      <td>SC</td>\n",
       "      <td>S7</td>\n",
       "      <td>CARDIAC AND CARDIOTHORACIC SURGERY</td>\n",
       "      <td>S7.2.10.1</td>\n",
       "      <td>Mitral Valve Replacement (With Valve)</td>\n",
       "      <td>Atapaka</td>\n",
       "      <td>Kaikalur</td>\n",
       "      <td>...</td>\n",
       "      <td>135000</td>\n",
       "      <td>Karumuri Hospital</td>\n",
       "      <td>C</td>\n",
       "      <td>GUNTUR</td>\n",
       "      <td>Guntur</td>\n",
       "      <td>04/11/2014 00:00:00</td>\n",
       "      <td>12/11/2014 00:00:00</td>\n",
       "      <td>NO</td>\n",
       "      <td>NaN</td>\n",
       "      <td>D</td>\n",
       "    </tr>\n",
       "    <tr>\n",
       "      <th>97</th>\n",
       "      <td>98</td>\n",
       "      <td>75</td>\n",
       "      <td>Male</td>\n",
       "      <td>BC</td>\n",
       "      <td>M6</td>\n",
       "      <td>NEPHROLOGY</td>\n",
       "      <td>M6.5</td>\n",
       "      <td>Maintenance Hemodialysis For Crf</td>\n",
       "      <td>Ward-13</td>\n",
       "      <td>Vijayawada</td>\n",
       "      <td>...</td>\n",
       "      <td>10000</td>\n",
       "      <td>Andhra Health Diagnostic Services LimitedGloba...</td>\n",
       "      <td>C</td>\n",
       "      <td>VIJAYAWADA</td>\n",
       "      <td>Krishna</td>\n",
       "      <td>08/04/2015 00:00:00</td>\n",
       "      <td>NaN</td>\n",
       "      <td>YES</td>\n",
       "      <td>03/05/2015 00:00:00</td>\n",
       "      <td>P</td>\n",
       "    </tr>\n",
       "    <tr>\n",
       "      <th>111</th>\n",
       "      <td>112</td>\n",
       "      <td>65</td>\n",
       "      <td>Male</td>\n",
       "      <td>OC</td>\n",
       "      <td>M7</td>\n",
       "      <td>NEUROLOGY</td>\n",
       "      <td>M7.4</td>\n",
       "      <td>Medical Management of Ischemic Strokes</td>\n",
       "      <td>Chilakalapudi (R)</td>\n",
       "      <td>Machilipatnam</td>\n",
       "      <td>...</td>\n",
       "      <td>10000</td>\n",
       "      <td>Rims General Hospital</td>\n",
       "      <td>G</td>\n",
       "      <td>KADAPA</td>\n",
       "      <td>YSR Kadapa</td>\n",
       "      <td>28/05/2015 00:00:00</td>\n",
       "      <td>01/06/2015 00:00:00</td>\n",
       "      <td>NO</td>\n",
       "      <td>NaN</td>\n",
       "      <td>D</td>\n",
       "    </tr>\n",
       "  </tbody>\n",
       "</table>\n",
       "<p>5 rows × 24 columns</p>\n",
       "</div>"
      ],
      "text/plain": [
       "          AGE     SEX CASTE_NAME CATEGORY_CODE  \\\n",
       "30    31   42  Female         OC           S12   \n",
       "56    57   52    Male         BC            M5   \n",
       "58    59   17  Female         SC            S7   \n",
       "97    98   75    Male         BC            M6   \n",
       "111  112   65    Male         OC            M7   \n",
       "\n",
       "                          CATEGORY_NAME SURGERY_CODE  \\\n",
       "30                     MEDICAL ONCOLOGY     S12.26.1   \n",
       "56                           CARDIOLOGY       M5.1.2   \n",
       "58   CARDIAC AND CARDIOTHORACIC SURGERY    S7.2.10.1   \n",
       "97                           NEPHROLOGY         M6.5   \n",
       "111                           NEUROLOGY         M7.4   \n",
       "\n",
       "                                               SURGERY            VILLAGE  \\\n",
       "30   Chemotherapy for Acute Myeloid Leukemia with I...             Ward-1   \n",
       "56               Management Of Acute MI With Angiogram            Ward-26   \n",
       "58               Mitral Valve Replacement (With Valve)            Atapaka   \n",
       "97                    Maintenance Hemodialysis For Crf            Ward-13   \n",
       "111             Medical Management of Ischemic Strokes  Chilakalapudi (R)   \n",
       "\n",
       "       MANDAL_NAME  ... CLAIM_AMOUNT  \\\n",
       "30      Vijayawada  ...        60000   \n",
       "56      Vijayawada  ...        25000   \n",
       "58        Kaikalur  ...       135000   \n",
       "97      Vijayawada  ...        10000   \n",
       "111  Machilipatnam  ...        10000   \n",
       "\n",
       "                                             HOSP_NAME  HOSP_TYPE  \\\n",
       "30                                      Nims Hospitals          G   \n",
       "56                                     OZONE HOSPITALS          C   \n",
       "58                                   Karumuri Hospital          C   \n",
       "97   Andhra Health Diagnostic Services LimitedGloba...          C   \n",
       "111                              Rims General Hospital          G   \n",
       "\n",
       "    HOSP_LOCATION  HOSP_DISTRICT         SURGERY_DATE       DISCHARGE_DATE  \\\n",
       "30      HYDERABAD      Hyderabad  06/08/2014 00:00:00  01/09/2014 00:00:00   \n",
       "56      HYDERABAD    Ranga Reddy  28/10/2014 00:00:00  06/11/2014 00:00:00   \n",
       "58         GUNTUR         Guntur  04/11/2014 00:00:00  12/11/2014 00:00:00   \n",
       "97     VIJAYAWADA        Krishna  08/04/2015 00:00:00                  NaN   \n",
       "111        KADAPA     YSR Kadapa  28/05/2015 00:00:00  01/06/2015 00:00:00   \n",
       "\n",
       "    Mortality Y / N       MORTALITY_DATE SRC_REGISTRATION  \n",
       "30               NO                  NaN                D  \n",
       "56               NO                  NaN                D  \n",
       "58               NO                  NaN                D  \n",
       "97              YES  03/05/2015 00:00:00                P  \n",
       "111              NO                  NaN                D  \n",
       "\n",
       "[5 rows x 24 columns]"
      ]
     },
     "execution_count": 54,
     "metadata": {},
     "output_type": "execute_result"
    }
   ],
   "source": [
    "# subset de datos que pertenecen al distrito de Krishna\n",
    "data[data['DISTRICT_NAME']=='Krishna'].head()"
   ]
  },
  {
   "cell_type": "markdown",
   "metadata": {
    "_uuid": "9c242fd17479160f20a3a36f92f26d7998ea2b39",
    "hidden": true
   },
   "source": [
    "**Enfermedad/intervención con mayor prevalencia, por distrito**\n",
    "\n",
    "Se puede obtener iterando a través de todos los distritos, y seleccionando el subset de datos para cada uno de ellos.\n"
   ]
  },
  {
   "cell_type": "code",
   "execution_count": 55,
   "metadata": {
    "_kg_hide-input": false,
    "_uuid": "10eb76eebb7eb16a9540e7028f9bc01cab634a86",
    "hidden": true
   },
   "outputs": [
    {
     "name": "stdout",
     "output_type": "stream",
     "text": [
      "Distrito: Srikakulam\n",
      "Enfermedad/intervención y Count: Maintenance Hemodialysis For Crf    3970\n",
      "Name: SURGERY, dtype: int64\n",
      "Distrito: Kurnool\n",
      "Enfermedad/intervención y Count: Surgical Correction Of Longbone Fracture    2943\n",
      "Name: SURGERY, dtype: int64\n",
      "Distrito: Vizianagaram\n",
      "Enfermedad/intervención y Count: Surgical Correction Of Longbone Fracture    2754\n",
      "Name: SURGERY, dtype: int64\n",
      "Distrito: Guntur\n",
      "Enfermedad/intervención y Count: Surgical Correction Of Longbone Fracture    5259\n",
      "Name: SURGERY, dtype: int64\n",
      "Distrito: Vishakhapatnam\n",
      "Enfermedad/intervención y Count: Maintenance Hemodialysis For Crf    5270\n",
      "Name: SURGERY, dtype: int64\n",
      "Distrito: West Godavari\n",
      "Enfermedad/intervención y Count: Maintenance Hemodialysis For Crf    5478\n",
      "Name: SURGERY, dtype: int64\n",
      "Distrito: Krishna\n",
      "Enfermedad/intervención y Count: Maintenance Hemodialysis For Crf    6026\n",
      "Name: SURGERY, dtype: int64\n",
      "Distrito: East Godavari\n",
      "Enfermedad/intervención y Count: Surgical Correction Of Longbone Fracture    6998\n",
      "Name: SURGERY, dtype: int64\n",
      "Distrito: Prakasam\n",
      "Enfermedad/intervención y Count: Maintenance Hemodialysis For Crf    6215\n",
      "Name: SURGERY, dtype: int64\n",
      "Distrito: Nellore\n",
      "Enfermedad/intervención y Count: Maintenance Hemodialysis For Crf    10824\n",
      "Name: SURGERY, dtype: int64\n",
      "Distrito: YSR Kadapa\n",
      "Enfermedad/intervención y Count: Surgical Correction Of Longbone Fracture    4532\n",
      "Name: SURGERY, dtype: int64\n",
      "Distrito: Chittoor\n",
      "Enfermedad/intervención y Count: Maintenance Hemodialysis For Crf    5221\n",
      "Name: SURGERY, dtype: int64\n",
      "Distrito: Anantapur\n",
      "Enfermedad/intervención y Count: Surgical Correction Of Longbone Fracture    5265\n",
      "Name: SURGERY, dtype: int64\n"
     ]
    }
   ],
   "source": [
    "# Iteración\n",
    "for i in data['DISTRICT_NAME'].unique():\n",
    "    print(\"Distrito: {}\\nEnfermedad/intervención y Count: {}\".format(i,data[data['DISTRICT_NAME']==i]['SURGERY'].value_counts().head(1)))"
   ]
  },
  {
   "cell_type": "markdown",
   "metadata": {
    "_uuid": "515f4c29401c3926da12f9a74bc355dadaa412f3",
    "hidden": true
   },
   "source": [
    "**Promedio de claim amount, por distrito**"
   ]
  },
  {
   "cell_type": "code",
   "execution_count": 56,
   "metadata": {
    "_uuid": "a9388061e6230b1d17901bd3a90c53e118e18ffd",
    "hidden": true,
    "scrolled": true
   },
   "outputs": [
    {
     "name": "stdout",
     "output_type": "stream",
     "text": [
      "Distrito: Srikakulam\n",
      "Media Claim Amount: ₹25593.712618634367\n",
      "Distrito: Kurnool\n",
      "Media Claim Amount: ₹28598.91853309593\n",
      "Distrito: Vizianagaram\n",
      "Media Claim Amount: ₹25097.78006899492\n",
      "Distrito: Guntur\n",
      "Media Claim Amount: ₹31048.73950729927\n",
      "Distrito: Vishakhapatnam\n",
      "Media Claim Amount: ₹25977.94638304871\n",
      "Distrito: West Godavari\n",
      "Media Claim Amount: ₹27936.70608610806\n",
      "Distrito: Krishna\n",
      "Media Claim Amount: ₹31015.383233247547\n",
      "Distrito: East Godavari\n",
      "Media Claim Amount: ₹26166.136719737173\n",
      "Distrito: Prakasam\n",
      "Media Claim Amount: ₹28655.81036215859\n",
      "Distrito: Nellore\n",
      "Media Claim Amount: ₹26105.122376744654\n",
      "Distrito: YSR Kadapa\n",
      "Media Claim Amount: ₹27945.216899192998\n",
      "Distrito: Chittoor\n",
      "Media Claim Amount: ₹25708.102690948628\n",
      "Distrito: Anantapur\n",
      "Media Claim Amount: ₹27664.166978581827\n"
     ]
    }
   ],
   "source": [
    "# Average claim amount for surgery by district\n",
    "for i in data['DISTRICT_NAME'].unique():\n",
    "    print(\"Distrito: {}\\nMedia Claim Amount: ₹{}\".format(i,data[data['DISTRICT_NAME']==i]['CLAIM_AMOUNT'].mean()))"
   ]
  },
  {
   "cell_type": "markdown",
   "metadata": {
    "_uuid": "14390a8e64a68ef435bc2c5b0e8a0e7127c7de75",
    "hidden": true
   },
   "source": [
    "El desvio estandar no parece ser demasiado alto. El distrito de Guntur es el de valor mas alto con ₹31048 mientras  Vizianagaram ocupa el último lugar con ₹25097"
   ]
  },
  {
   "cell_type": "markdown",
   "metadata": {
    "_uuid": "0b41795fc91b7eb47b5a3c17a13bec8815fdde74",
    "hidden": true
   },
   "source": [
    "**Estadísticas por categoria de operación**\n",
    "\n",
    "Vamos a utilizar el _groupby_ de Pandas para construir estadísticas, agrupando los datos por la categoría de operación. El _groupby_ trabaja de forma similar al comando de _SQL_ del mismo nombre"
   ]
  },
  {
   "cell_type": "code",
   "execution_count": 57,
   "metadata": {
    "_uuid": "017c61dd85a6157ccd2eca1e362220da917b5abd",
    "hidden": true
   },
   "outputs": [
    {
     "data": {
      "text/html": [
       "<div>\n",
       "<style scoped>\n",
       "    .dataframe tbody tr th:only-of-type {\n",
       "        vertical-align: middle;\n",
       "    }\n",
       "\n",
       "    .dataframe tbody tr th {\n",
       "        vertical-align: top;\n",
       "    }\n",
       "\n",
       "    .dataframe thead th {\n",
       "        text-align: right;\n",
       "    }\n",
       "</style>\n",
       "<table border=\"1\" class=\"dataframe\">\n",
       "  <thead>\n",
       "    <tr style=\"text-align: right;\">\n",
       "      <th></th>\n",
       "      <th></th>\n",
       "      <th>AGE</th>\n",
       "      <th>PREAUTH_AMT</th>\n",
       "      <th>CLAIM_AMOUNT</th>\n",
       "    </tr>\n",
       "    <tr>\n",
       "      <th>CATEGORY_NAME</th>\n",
       "      <th></th>\n",
       "      <th></th>\n",
       "      <th></th>\n",
       "      <th></th>\n",
       "    </tr>\n",
       "  </thead>\n",
       "  <tbody>\n",
       "    <tr>\n",
       "      <th>CARDIAC AND CARDIOTHORACIC SURGERY</th>\n",
       "      <td>220433.263365</td>\n",
       "      <td>51.764553</td>\n",
       "      <td>87052.165471</td>\n",
       "      <td>82487.123074</td>\n",
       "    </tr>\n",
       "    <tr>\n",
       "      <th>CARDIOLOGY</th>\n",
       "      <td>222494.427828</td>\n",
       "      <td>54.652048</td>\n",
       "      <td>33215.140211</td>\n",
       "      <td>26731.893660</td>\n",
       "    </tr>\n",
       "    <tr>\n",
       "      <th>COCHLEAR IMPLANT SURGERY</th>\n",
       "      <td>64429.337838</td>\n",
       "      <td>1.581081</td>\n",
       "      <td>520000.000000</td>\n",
       "      <td>516486.486486</td>\n",
       "    </tr>\n",
       "    <tr>\n",
       "      <th>CRITICAL CARE</th>\n",
       "      <td>225189.278328</td>\n",
       "      <td>51.014649</td>\n",
       "      <td>69927.226196</td>\n",
       "      <td>50185.150797</td>\n",
       "    </tr>\n",
       "    <tr>\n",
       "      <th>DERMATOLOGY</th>\n",
       "      <td>145752.231707</td>\n",
       "      <td>46.573171</td>\n",
       "      <td>28003.012195</td>\n",
       "      <td>21728.353659</td>\n",
       "    </tr>\n",
       "    <tr>\n",
       "      <th>ENDOCRINOLOGY</th>\n",
       "      <td>173188.782353</td>\n",
       "      <td>45.066667</td>\n",
       "      <td>18981.376471</td>\n",
       "      <td>14875.437255</td>\n",
       "    </tr>\n",
       "    <tr>\n",
       "      <th>ENT  SURGERY</th>\n",
       "      <td>248911.441121</td>\n",
       "      <td>32.521940</td>\n",
       "      <td>15691.907198</td>\n",
       "      <td>14938.095612</td>\n",
       "    </tr>\n",
       "    <tr>\n",
       "      <th>GASTROENTEROLOGY</th>\n",
       "      <td>169310.423028</td>\n",
       "      <td>41.662383</td>\n",
       "      <td>37085.464601</td>\n",
       "      <td>23798.118922</td>\n",
       "    </tr>\n",
       "    <tr>\n",
       "      <th>GENERAL MEDICINE</th>\n",
       "      <td>116546.798682</td>\n",
       "      <td>35.330161</td>\n",
       "      <td>30347.573939</td>\n",
       "      <td>21840.991215</td>\n",
       "    </tr>\n",
       "    <tr>\n",
       "      <th>GENERAL SURGERY</th>\n",
       "      <td>235830.565758</td>\n",
       "      <td>44.979473</td>\n",
       "      <td>29818.585421</td>\n",
       "      <td>28142.764203</td>\n",
       "    </tr>\n",
       "    <tr>\n",
       "      <th>GENITO URINARY SURGERIES</th>\n",
       "      <td>284262.259268</td>\n",
       "      <td>43.718295</td>\n",
       "      <td>29426.211532</td>\n",
       "      <td>28709.646344</td>\n",
       "    </tr>\n",
       "    <tr>\n",
       "      <th>GYNAECOLOGY AND OBSTETRICS  SURGERY</th>\n",
       "      <td>201418.690508</td>\n",
       "      <td>41.442323</td>\n",
       "      <td>27614.600699</td>\n",
       "      <td>23180.202474</td>\n",
       "    </tr>\n",
       "    <tr>\n",
       "      <th>INFECTIOUS DISEASES</th>\n",
       "      <td>249988.600000</td>\n",
       "      <td>35.800000</td>\n",
       "      <td>27970.000000</td>\n",
       "      <td>24336.000000</td>\n",
       "    </tr>\n",
       "    <tr>\n",
       "      <th>MEDICAL ONCOLOGY</th>\n",
       "      <td>280490.133228</td>\n",
       "      <td>48.545298</td>\n",
       "      <td>7234.080290</td>\n",
       "      <td>6819.998475</td>\n",
       "    </tr>\n",
       "    <tr>\n",
       "      <th>NEPHROLOGY</th>\n",
       "      <td>203077.300279</td>\n",
       "      <td>48.011808</td>\n",
       "      <td>14309.566173</td>\n",
       "      <td>13524.963628</td>\n",
       "    </tr>\n",
       "    <tr>\n",
       "      <th>NEUROLOGY</th>\n",
       "      <td>178986.230597</td>\n",
       "      <td>56.160018</td>\n",
       "      <td>24547.013248</td>\n",
       "      <td>19810.427139</td>\n",
       "    </tr>\n",
       "    <tr>\n",
       "      <th>NEUROSURGERY</th>\n",
       "      <td>238563.168178</td>\n",
       "      <td>43.187689</td>\n",
       "      <td>53718.705139</td>\n",
       "      <td>49993.359806</td>\n",
       "    </tr>\n",
       "    <tr>\n",
       "      <th>OPHTHALMOLOGY  SURGERY</th>\n",
       "      <td>294652.070318</td>\n",
       "      <td>49.846924</td>\n",
       "      <td>16474.566599</td>\n",
       "      <td>15848.563286</td>\n",
       "    </tr>\n",
       "    <tr>\n",
       "      <th>ORTHOPEDIC  SURGERY AND PROCEDURES</th>\n",
       "      <td>222855.005323</td>\n",
       "      <td>36.967490</td>\n",
       "      <td>27358.743536</td>\n",
       "      <td>23291.952598</td>\n",
       "    </tr>\n",
       "    <tr>\n",
       "      <th>PEDIATRIC SURGERIES</th>\n",
       "      <td>229981.847773</td>\n",
       "      <td>3.504840</td>\n",
       "      <td>34134.385044</td>\n",
       "      <td>32061.504598</td>\n",
       "    </tr>\n",
       "    <tr>\n",
       "      <th>PEDIATRICS</th>\n",
       "      <td>195086.758737</td>\n",
       "      <td>1.413553</td>\n",
       "      <td>29797.617781</td>\n",
       "      <td>24837.604014</td>\n",
       "    </tr>\n",
       "    <tr>\n",
       "      <th>PLASTIC SURGERY</th>\n",
       "      <td>198123.497622</td>\n",
       "      <td>27.419738</td>\n",
       "      <td>61115.505351</td>\n",
       "      <td>37437.164090</td>\n",
       "    </tr>\n",
       "    <tr>\n",
       "      <th>POLY TRAUMA</th>\n",
       "      <td>261038.321653</td>\n",
       "      <td>46.256150</td>\n",
       "      <td>32501.263044</td>\n",
       "      <td>28247.750837</td>\n",
       "    </tr>\n",
       "    <tr>\n",
       "      <th>PROSTHESES</th>\n",
       "      <td>125094.500000</td>\n",
       "      <td>48.500000</td>\n",
       "      <td>1200.000000</td>\n",
       "      <td>1200.000000</td>\n",
       "    </tr>\n",
       "    <tr>\n",
       "      <th>PULMONOLOGY</th>\n",
       "      <td>190774.119006</td>\n",
       "      <td>51.937149</td>\n",
       "      <td>32743.249244</td>\n",
       "      <td>25631.090065</td>\n",
       "    </tr>\n",
       "    <tr>\n",
       "      <th>RADIATION ONCOLOGY</th>\n",
       "      <td>242472.234006</td>\n",
       "      <td>51.835382</td>\n",
       "      <td>33656.716935</td>\n",
       "      <td>31808.693718</td>\n",
       "    </tr>\n",
       "    <tr>\n",
       "      <th>RHEUMATOLOGY</th>\n",
       "      <td>129326.780612</td>\n",
       "      <td>29.392857</td>\n",
       "      <td>28897.321429</td>\n",
       "      <td>20852.372449</td>\n",
       "    </tr>\n",
       "    <tr>\n",
       "      <th>SURGICAL GASTRO ENTEROLOGY</th>\n",
       "      <td>217841.149146</td>\n",
       "      <td>44.645103</td>\n",
       "      <td>64127.925427</td>\n",
       "      <td>59249.639712</td>\n",
       "    </tr>\n",
       "    <tr>\n",
       "      <th>SURGICAL ONCOLOGY</th>\n",
       "      <td>255125.222719</td>\n",
       "      <td>50.940826</td>\n",
       "      <td>45243.913335</td>\n",
       "      <td>42502.467151</td>\n",
       "    </tr>\n",
       "  </tbody>\n",
       "</table>\n",
       "</div>"
      ],
      "text/plain": [
       "                                                          AGE    PREAUTH_AMT  \\\n",
       "CATEGORY_NAME                                                                  \n",
       "CARDIAC AND CARDIOTHORACIC SURGERY   220433.263365  51.764553   87052.165471   \n",
       "CARDIOLOGY                           222494.427828  54.652048   33215.140211   \n",
       "COCHLEAR IMPLANT SURGERY              64429.337838   1.581081  520000.000000   \n",
       "CRITICAL CARE                        225189.278328  51.014649   69927.226196   \n",
       "DERMATOLOGY                          145752.231707  46.573171   28003.012195   \n",
       "ENDOCRINOLOGY                        173188.782353  45.066667   18981.376471   \n",
       "ENT  SURGERY                         248911.441121  32.521940   15691.907198   \n",
       "GASTROENTEROLOGY                     169310.423028  41.662383   37085.464601   \n",
       "GENERAL MEDICINE                     116546.798682  35.330161   30347.573939   \n",
       "GENERAL SURGERY                      235830.565758  44.979473   29818.585421   \n",
       "GENITO URINARY SURGERIES             284262.259268  43.718295   29426.211532   \n",
       "GYNAECOLOGY AND OBSTETRICS  SURGERY  201418.690508  41.442323   27614.600699   \n",
       "INFECTIOUS DISEASES                  249988.600000  35.800000   27970.000000   \n",
       "MEDICAL ONCOLOGY                     280490.133228  48.545298    7234.080290   \n",
       "NEPHROLOGY                           203077.300279  48.011808   14309.566173   \n",
       "NEUROLOGY                            178986.230597  56.160018   24547.013248   \n",
       "NEUROSURGERY                         238563.168178  43.187689   53718.705139   \n",
       "OPHTHALMOLOGY  SURGERY               294652.070318  49.846924   16474.566599   \n",
       "ORTHOPEDIC  SURGERY AND PROCEDURES   222855.005323  36.967490   27358.743536   \n",
       "PEDIATRIC SURGERIES                  229981.847773   3.504840   34134.385044   \n",
       "PEDIATRICS                           195086.758737   1.413553   29797.617781   \n",
       "PLASTIC SURGERY                      198123.497622  27.419738   61115.505351   \n",
       "POLY TRAUMA                          261038.321653  46.256150   32501.263044   \n",
       "PROSTHESES                           125094.500000  48.500000    1200.000000   \n",
       "PULMONOLOGY                          190774.119006  51.937149   32743.249244   \n",
       "RADIATION ONCOLOGY                   242472.234006  51.835382   33656.716935   \n",
       "RHEUMATOLOGY                         129326.780612  29.392857   28897.321429   \n",
       "SURGICAL GASTRO ENTEROLOGY           217841.149146  44.645103   64127.925427   \n",
       "SURGICAL ONCOLOGY                    255125.222719  50.940826   45243.913335   \n",
       "\n",
       "                                      CLAIM_AMOUNT  \n",
       "CATEGORY_NAME                                       \n",
       "CARDIAC AND CARDIOTHORACIC SURGERY    82487.123074  \n",
       "CARDIOLOGY                            26731.893660  \n",
       "COCHLEAR IMPLANT SURGERY             516486.486486  \n",
       "CRITICAL CARE                         50185.150797  \n",
       "DERMATOLOGY                           21728.353659  \n",
       "ENDOCRINOLOGY                         14875.437255  \n",
       "ENT  SURGERY                          14938.095612  \n",
       "GASTROENTEROLOGY                      23798.118922  \n",
       "GENERAL MEDICINE                      21840.991215  \n",
       "GENERAL SURGERY                       28142.764203  \n",
       "GENITO URINARY SURGERIES              28709.646344  \n",
       "GYNAECOLOGY AND OBSTETRICS  SURGERY   23180.202474  \n",
       "INFECTIOUS DISEASES                   24336.000000  \n",
       "MEDICAL ONCOLOGY                       6819.998475  \n",
       "NEPHROLOGY                            13524.963628  \n",
       "NEUROLOGY                             19810.427139  \n",
       "NEUROSURGERY                          49993.359806  \n",
       "OPHTHALMOLOGY  SURGERY                15848.563286  \n",
       "ORTHOPEDIC  SURGERY AND PROCEDURES    23291.952598  \n",
       "PEDIATRIC SURGERIES                   32061.504598  \n",
       "PEDIATRICS                            24837.604014  \n",
       "PLASTIC SURGERY                       37437.164090  \n",
       "POLY TRAUMA                           28247.750837  \n",
       "PROSTHESES                             1200.000000  \n",
       "PULMONOLOGY                           25631.090065  \n",
       "RADIATION ONCOLOGY                    31808.693718  \n",
       "RHEUMATOLOGY                          20852.372449  \n",
       "SURGICAL GASTRO ENTEROLOGY            59249.639712  \n",
       "SURGICAL ONCOLOGY                     42502.467151  "
      ]
     },
     "execution_count": 57,
     "metadata": {},
     "output_type": "execute_result"
    }
   ],
   "source": [
    "# group by surgery para obtener estadísticas\n",
    "data.groupby('CATEGORY_NAME').mean()"
   ]
  },
  {
   "cell_type": "markdown",
   "metadata": {
    "_uuid": "470cdfbcf914cc518d1525c384be7895436bb2e4",
    "hidden": true
   },
   "source": [
    "Cochlear Implant Surgery es el que tiene la operación mas costosa. (₹520000 en promedio). Las Protesis (Prostheses) cuestan ₹1200 (las mas baratas). A su vez, el grupo mas joven también para ser el que demanada la Cochlear Implant Surgery: 1.58 años, mientras que Neurology  tiene pacientes de, en promedio, ~56."
   ]
  },
  {
   "cell_type": "markdown",
   "metadata": {
    "_uuid": "7010a66455e53939062a0530a3468eca2cf003d0",
    "hidden": true
   },
   "source": [
    "**Operación mas común por grupo de edad**\n",
    "\n",
    "Para encontrar la operación mas común por grupo de edad, vamos a redondear las edades al valor múltiplo de 10 mas cercano.\n",
    "\n",
    "Hacemos una copia del dataframe para no _ensuciar_ el dataframe original."
   ]
  },
  {
   "cell_type": "code",
   "execution_count": 58,
   "metadata": {
    "_uuid": "87545ae3eb1a4a4221e741037d57eb4603bc45f2",
    "hidden": true
   },
   "outputs": [],
   "source": [
    "dataround = data.copy()"
   ]
  },
  {
   "cell_type": "markdown",
   "metadata": {
    "_uuid": "299226d237b866bebee79abf06173393e09eb1c7",
    "hidden": true
   },
   "source": [
    "Utilizamos la función _round_ de Pandas para redonder el valor de la edad. *-1* indica que redondeamos hasta1 dígito a la izquierda del valor decimal."
   ]
  },
  {
   "cell_type": "code",
   "execution_count": 59,
   "metadata": {
    "_uuid": "ad4f2cc897cbbab1f682ed2f36d9b77abc41527b",
    "hidden": true
   },
   "outputs": [],
   "source": [
    "# round a la edad en 0 o 1\n",
    "dataround['AGE'] = dataround['AGE'].round(-1)"
   ]
  },
  {
   "cell_type": "markdown",
   "metadata": {
    "_uuid": "cf785a57d4529ab715db2a7cd1973e35249850d1",
    "hidden": true
   },
   "source": [
    "Visualizamos los grupos de edad utilizando la función _Seaborn countplot_ "
   ]
  },
  {
   "cell_type": "code",
   "execution_count": 60,
   "metadata": {
    "_uuid": "5cc771e7f23696b1c097ac749d2a41458d06234b",
    "hidden": true
   },
   "outputs": [
    {
     "data": {
      "text/plain": [
       "<AxesSubplot:xlabel='AGE', ylabel='count'>"
      ]
     },
     "execution_count": 60,
     "metadata": {},
     "output_type": "execute_result"
    },
    {
     "data": {
      "image/png": "[encoded data removed]",
      "text/plain": [
       "<Figure size 432x288 with 1 Axes>"
      ]
     },
     "metadata": {
      "needs_background": "light"
     },
     "output_type": "display_data"
    }
   ],
   "source": [
    "# frequency plot\n",
    "sns.countplot(x=dataround['AGE'])"
   ]
  },
  {
   "cell_type": "markdown",
   "metadata": {
    "_uuid": "293cbab7ccc792be8215b052624d7b6c4355efa4",
    "hidden": true
   },
   "source": [
    "**Operaciones mas comunes por grupo de edad**"
   ]
  },
  {
   "cell_type": "code",
   "execution_count": 61,
   "metadata": {
    "_uuid": "89fa2bca7a6b8ecdd54f295e14840079be8888d1",
    "hidden": true
   },
   "outputs": [
    {
     "name": "stdout",
     "output_type": "stream",
     "text": [
      "Age Group: 0\n",
      "Most Common Surgery and Count: PEDIATRICS    15096\n",
      "Name: CATEGORY_NAME, dtype: int64\n",
      "Age Group: 10\n",
      "Most Common Surgery and Count: POLY TRAUMA    390\n",
      "Name: CATEGORY_NAME, dtype: int64\n",
      "Age Group: 20\n",
      "Most Common Surgery and Count: POLY TRAUMA    729\n",
      "Name: CATEGORY_NAME, dtype: int64\n",
      "Age Group: 30\n",
      "Most Common Surgery and Count: POLY TRAUMA    1125\n",
      "Name: CATEGORY_NAME, dtype: int64\n",
      "Age Group: 40\n",
      "Most Common Surgery and Count: MEDICAL ONCOLOGY    2425\n",
      "Name: CATEGORY_NAME, dtype: int64\n",
      "Age Group: 50\n",
      "Most Common Surgery and Count: MEDICAL ONCOLOGY    3171\n",
      "Name: CATEGORY_NAME, dtype: int64\n",
      "Age Group: 60\n",
      "Most Common Surgery and Count: MEDICAL ONCOLOGY    2447\n",
      "Name: CATEGORY_NAME, dtype: int64\n",
      "Age Group: 70\n",
      "Most Common Surgery and Count: POLY TRAUMA    1845\n",
      "Name: CATEGORY_NAME, dtype: int64\n",
      "Age Group: 80\n",
      "Most Common Surgery and Count: POLY TRAUMA    584\n",
      "Name: CATEGORY_NAME, dtype: int64\n",
      "Age Group: 90\n",
      "Most Common Surgery and Count: POLY TRAUMA    67\n",
      "Name: CATEGORY_NAME, dtype: int64\n",
      "Age Group: 100\n",
      "Most Common Surgery and Count: POLY TRAUMA    1\n",
      "Name: CATEGORY_NAME, dtype: int64\n",
      "Age Group: 110\n",
      "Most Common Surgery and Count: Series([], Name: CATEGORY_NAME, dtype: int64)\n"
     ]
    }
   ],
   "source": [
    "for i in sorted(dataround['AGE'].unique()):\n",
    "    print(\"Age Group: {}\\nMost Common Surgery and Count: {}\".format(i,data[data['AGE']==i]['CATEGORY_NAME'].value_counts().head(1)))"
   ]
  },
  {
   "cell_type": "markdown",
   "metadata": {},
   "source": [
    "### Anomalías\n",
    "Fuente: https://towardsdatascience.com/5-ways-to-detect-outliers-that-every-data-scientist-should-know-python-code-70a54335a623"
   ]
  },
  {
   "cell_type": "code",
   "execution_count": 62,
   "metadata": {},
   "outputs": [],
   "source": [
    "# Leemos el dataset\n",
    "# data = pd.read_csv('data/ntrarogyaseva_cut.csv')"
   ]
  },
  {
   "cell_type": "code",
   "execution_count": 63,
   "metadata": {
    "scrolled": true
   },
   "outputs": [
    {
     "data": {
      "text/plain": [
       "<AxesSubplot:xlabel='AGE', ylabel='CLAIM_AMOUNT'>"
      ]
     },
     "execution_count": 63,
     "metadata": {},
     "output_type": "execute_result"
    },
    {
     "data": {
      "image/png": "[encoded data removed]",
      "text/plain": [
       "<Figure size 1440x432 with 1 Axes>"
      ]
     },
     "metadata": {
      "needs_background": "light"
     },
     "output_type": "display_data"
    }
   ],
   "source": [
    "plt.figure(figsize=(20, 6))\n",
    "sns.lineplot(data=data, x=\"AGE\", y=\"CLAIM_AMOUNT\", ci=95, hue=\"Mortality Y / N\")"
   ]
  },
  {
   "cell_type": "code",
   "execution_count": 74,
   "metadata": {},
   "outputs": [
    {
     "data": {
      "text/plain": [
       "(5592, 24)"
      ]
     },
     "execution_count": 74,
     "metadata": {},
     "output_type": "execute_result"
    }
   ],
   "source": [
    "# Reducimos el DF para trabajar con mayor velocidad\n",
    "data_graph = data.loc[data['SURGERY_DATE']>'31/06/2016 00:00:00']\n",
    "data_graph = data_graph.copy()\n",
    "data_graph.shape"
   ]
  },
  {
   "cell_type": "code",
   "execution_count": 75,
   "metadata": {},
   "outputs": [
    {
     "data": {
      "text/plain": [
       "Index(['   ', 'AGE', 'SEX', 'CASTE_NAME', 'CATEGORY_CODE', 'CATEGORY_NAME',\n",
       "       'SURGERY_CODE', 'SURGERY', 'VILLAGE', 'MANDAL_NAME', 'DISTRICT_NAME',\n",
       "       'PREAUTH_DATE', 'PREAUTH_AMT', 'CLAIM_DATE', 'CLAIM_AMOUNT',\n",
       "       'HOSP_NAME', 'HOSP_TYPE', 'HOSP_LOCATION', 'HOSP_DISTRICT',\n",
       "       'SURGERY_DATE', 'DISCHARGE_DATE', 'Mortality Y / N', 'MORTALITY_DATE',\n",
       "       'SRC_REGISTRATION'],\n",
       "      dtype='object')"
      ]
     },
     "execution_count": 75,
     "metadata": {},
     "output_type": "execute_result"
    }
   ],
   "source": [
    "data_graph.columns"
   ]
  },
  {
   "cell_type": "code",
   "execution_count": 76,
   "metadata": {},
   "outputs": [
    {
     "data": {
      "image/png": "[encoded data removed]",
      "text/plain": [
       "<Figure size 1440x432 with 1 Axes>"
      ]
     },
     "metadata": {
      "needs_background": "light"
     },
     "output_type": "display_data"
    }
   ],
   "source": [
    "plt.figure(figsize=(20, 6))\n",
    "ax = sns.lineplot(data=data_graph, x=\"SURGERY_DATE\", y=\"CLAIM_AMOUNT\")\n",
    "plt.xticks(rotation=45); # el ; oculta el texto previo al gráfico. El mismo resultado se logra con plt.show()"
   ]
  },
  {
   "cell_type": "code",
   "execution_count": 77,
   "metadata": {},
   "outputs": [],
   "source": [
    "data_graph.sort_values(by='SURGERY_DATE', ascending=False)\n",
    "data_graph['CLAIM_AMOUNT_min'] = data_graph['CLAIM_AMOUNT'].rolling(5).mean() - 3*data_graph['CLAIM_AMOUNT'].rolling(5).std()\n",
    "data_graph['CLAIM_AMOUNT_max'] = data_graph['CLAIM_AMOUNT'].rolling(5).mean() + 3*data_graph['CLAIM_AMOUNT'].rolling(5).std()\n",
    "data_graph['CLAIM_AMOUNT_RM'] = data_graph['CLAIM_AMOUNT'].rolling(5).mean()\n",
    "\n",
    "data_graph['CLAIM_AMOUNT_min'] = data_graph['CLAIM_AMOUNT'] - 3*data_graph['CLAIM_AMOUNT']\n",
    "data_graph['CLAIM_AMOUNT_max'] = data_graph['CLAIM_AMOUNT'] + 3*data_graph['CLAIM_AMOUNT']\n",
    "# data_graph['CLAIM_AMOUNT_RM'] = data_graph['CLAIM_AMOUNT'].rolling(5).mean()"
   ]
  },
  {
   "cell_type": "code",
   "execution_count": 80,
   "metadata": {},
   "outputs": [
    {
     "data": {
      "text/html": [
       "<div>\n",
       "<style scoped>\n",
       "    .dataframe tbody tr th:only-of-type {\n",
       "        vertical-align: middle;\n",
       "    }\n",
       "\n",
       "    .dataframe tbody tr th {\n",
       "        vertical-align: top;\n",
       "    }\n",
       "\n",
       "    .dataframe thead th {\n",
       "        text-align: right;\n",
       "    }\n",
       "</style>\n",
       "<table border=\"1\" class=\"dataframe\">\n",
       "  <thead>\n",
       "    <tr style=\"text-align: right;\">\n",
       "      <th></th>\n",
       "      <th></th>\n",
       "      <th>AGE</th>\n",
       "      <th>SEX</th>\n",
       "      <th>CASTE_NAME</th>\n",
       "      <th>CATEGORY_CODE</th>\n",
       "      <th>CATEGORY_NAME</th>\n",
       "      <th>SURGERY_CODE</th>\n",
       "      <th>SURGERY</th>\n",
       "      <th>VILLAGE</th>\n",
       "      <th>MANDAL_NAME</th>\n",
       "      <th>...</th>\n",
       "      <th>HOSP_LOCATION</th>\n",
       "      <th>HOSP_DISTRICT</th>\n",
       "      <th>SURGERY_DATE</th>\n",
       "      <th>DISCHARGE_DATE</th>\n",
       "      <th>Mortality Y / N</th>\n",
       "      <th>MORTALITY_DATE</th>\n",
       "      <th>SRC_REGISTRATION</th>\n",
       "      <th>CLAIM_AMOUNT_min</th>\n",
       "      <th>CLAIM_AMOUNT_max</th>\n",
       "      <th>CLAIM_AMOUNT_RM</th>\n",
       "    </tr>\n",
       "  </thead>\n",
       "  <tbody>\n",
       "    <tr>\n",
       "      <th>476785</th>\n",
       "      <td>476786</td>\n",
       "      <td>69</td>\n",
       "      <td>Female</td>\n",
       "      <td>BC</td>\n",
       "      <td>S3</td>\n",
       "      <td>OPHTHALMOLOGY  SURGERY</td>\n",
       "      <td>S3.3.1</td>\n",
       "      <td>Vitrectomy</td>\n",
       "      <td>Nallajerla</td>\n",
       "      <td>Nallajerla</td>\n",
       "      <td>...</td>\n",
       "      <td>TADEPALLI GUDEM</td>\n",
       "      <td>West Godavari</td>\n",
       "      <td>31/10/2017 00:00:00</td>\n",
       "      <td>02/11/2017 00:00:00</td>\n",
       "      <td>NO</td>\n",
       "      <td>NaN</td>\n",
       "      <td>D</td>\n",
       "      <td>-46040</td>\n",
       "      <td>92080</td>\n",
       "      <td>24224.0</td>\n",
       "    </tr>\n",
       "    <tr>\n",
       "      <th>476813</th>\n",
       "      <td>476814</td>\n",
       "      <td>66</td>\n",
       "      <td>Male</td>\n",
       "      <td>SC</td>\n",
       "      <td>S5</td>\n",
       "      <td>ORTHOPEDIC  SURGERY AND PROCEDURES</td>\n",
       "      <td>S5.1.4</td>\n",
       "      <td>Reduction Of Compound Fractures and External F...</td>\n",
       "      <td>Peramana</td>\n",
       "      <td>Sangam</td>\n",
       "      <td>...</td>\n",
       "      <td>NELLORE</td>\n",
       "      <td>Nellore</td>\n",
       "      <td>31/10/2017 00:00:00</td>\n",
       "      <td>03/11/2017 00:00:00</td>\n",
       "      <td>NO</td>\n",
       "      <td>NaN</td>\n",
       "      <td>D</td>\n",
       "      <td>-50000</td>\n",
       "      <td>100000</td>\n",
       "      <td>26724.0</td>\n",
       "    </tr>\n",
       "    <tr>\n",
       "      <th>476881</th>\n",
       "      <td>476882</td>\n",
       "      <td>36</td>\n",
       "      <td>Male</td>\n",
       "      <td>OC</td>\n",
       "      <td>S10</td>\n",
       "      <td>NEUROSURGERY</td>\n",
       "      <td>S10.1.26</td>\n",
       "      <td>Excision Of Brain Abcess</td>\n",
       "      <td>Narrawada</td>\n",
       "      <td>Duttalur</td>\n",
       "      <td>...</td>\n",
       "      <td>NELLORE</td>\n",
       "      <td>Nellore</td>\n",
       "      <td>31/10/2017 00:00:00</td>\n",
       "      <td>06/11/2017 00:00:00</td>\n",
       "      <td>NO</td>\n",
       "      <td>NaN</td>\n",
       "      <td>D</td>\n",
       "      <td>-140000</td>\n",
       "      <td>280000</td>\n",
       "      <td>35604.0</td>\n",
       "    </tr>\n",
       "    <tr>\n",
       "      <th>476901</th>\n",
       "      <td>476902</td>\n",
       "      <td>37</td>\n",
       "      <td>Male</td>\n",
       "      <td>SC</td>\n",
       "      <td>S3</td>\n",
       "      <td>OPHTHALMOLOGY  SURGERY</td>\n",
       "      <td>S3.3.1</td>\n",
       "      <td>Vitrectomy</td>\n",
       "      <td>Gunnampalle</td>\n",
       "      <td>D.Tirumala</td>\n",
       "      <td>...</td>\n",
       "      <td>TADEPALLI GUDEM</td>\n",
       "      <td>West Godavari</td>\n",
       "      <td>31/10/2017 00:00:00</td>\n",
       "      <td>02/11/2017 00:00:00</td>\n",
       "      <td>NO</td>\n",
       "      <td>NaN</td>\n",
       "      <td>D</td>\n",
       "      <td>-46040</td>\n",
       "      <td>92080</td>\n",
       "      <td>34208.0</td>\n",
       "    </tr>\n",
       "    <tr>\n",
       "      <th>477660</th>\n",
       "      <td>477661</td>\n",
       "      <td>51</td>\n",
       "      <td>Male</td>\n",
       "      <td>BC</td>\n",
       "      <td>S1</td>\n",
       "      <td>GENERAL SURGERY</td>\n",
       "      <td>S1.3.3.10</td>\n",
       "      <td>Surgical management of Duodenal perforation</td>\n",
       "      <td>Venkata Rangaraya Puram</td>\n",
       "      <td>Regidiamadalavalasa</td>\n",
       "      <td>...</td>\n",
       "      <td>SRIKAKULAM</td>\n",
       "      <td>Srikakulam</td>\n",
       "      <td>31/10/2017 00:00:00</td>\n",
       "      <td>11/11/2017 00:00:00</td>\n",
       "      <td>NO</td>\n",
       "      <td>NaN</td>\n",
       "      <td>D</td>\n",
       "      <td>-96000</td>\n",
       "      <td>192000</td>\n",
       "      <td>37808.0</td>\n",
       "    </tr>\n",
       "  </tbody>\n",
       "</table>\n",
       "<p>5 rows × 27 columns</p>\n",
       "</div>"
      ],
      "text/plain": [
       "                AGE     SEX CASTE_NAME CATEGORY_CODE  \\\n",
       "476785  476786   69  Female         BC            S3   \n",
       "476813  476814   66    Male         SC            S5   \n",
       "476881  476882   36    Male         OC           S10   \n",
       "476901  476902   37    Male         SC            S3   \n",
       "477660  477661   51    Male         BC            S1   \n",
       "\n",
       "                             CATEGORY_NAME SURGERY_CODE  \\\n",
       "476785              OPHTHALMOLOGY  SURGERY       S3.3.1   \n",
       "476813  ORTHOPEDIC  SURGERY AND PROCEDURES       S5.1.4   \n",
       "476881                        NEUROSURGERY     S10.1.26   \n",
       "476901              OPHTHALMOLOGY  SURGERY       S3.3.1   \n",
       "477660                     GENERAL SURGERY    S1.3.3.10   \n",
       "\n",
       "                                                  SURGERY  \\\n",
       "476785                                         Vitrectomy   \n",
       "476813  Reduction Of Compound Fractures and External F...   \n",
       "476881                           Excision Of Brain Abcess   \n",
       "476901                                         Vitrectomy   \n",
       "477660        Surgical management of Duodenal perforation   \n",
       "\n",
       "                        VILLAGE          MANDAL_NAME  ...    HOSP_LOCATION  \\\n",
       "476785               Nallajerla           Nallajerla  ...  TADEPALLI GUDEM   \n",
       "476813                 Peramana               Sangam  ...          NELLORE   \n",
       "476881                Narrawada             Duttalur  ...          NELLORE   \n",
       "476901              Gunnampalle           D.Tirumala  ...  TADEPALLI GUDEM   \n",
       "477660  Venkata Rangaraya Puram  Regidiamadalavalasa  ...       SRIKAKULAM   \n",
       "\n",
       "        HOSP_DISTRICT         SURGERY_DATE       DISCHARGE_DATE  \\\n",
       "476785  West Godavari  31/10/2017 00:00:00  02/11/2017 00:00:00   \n",
       "476813        Nellore  31/10/2017 00:00:00  03/11/2017 00:00:00   \n",
       "476881        Nellore  31/10/2017 00:00:00  06/11/2017 00:00:00   \n",
       "476901  West Godavari  31/10/2017 00:00:00  02/11/2017 00:00:00   \n",
       "477660     Srikakulam  31/10/2017 00:00:00  11/11/2017 00:00:00   \n",
       "\n",
       "        Mortality Y / N MORTALITY_DATE SRC_REGISTRATION CLAIM_AMOUNT_min  \\\n",
       "476785               NO            NaN                D           -46040   \n",
       "476813               NO            NaN                D           -50000   \n",
       "476881               NO            NaN                D          -140000   \n",
       "476901               NO            NaN                D           -46040   \n",
       "477660               NO            NaN                D           -96000   \n",
       "\n",
       "       CLAIM_AMOUNT_max CLAIM_AMOUNT_RM  \n",
       "476785            92080         24224.0  \n",
       "476813           100000         26724.0  \n",
       "476881           280000         35604.0  \n",
       "476901            92080         34208.0  \n",
       "477660           192000         37808.0  \n",
       "\n",
       "[5 rows x 27 columns]"
      ]
     },
     "execution_count": 80,
     "metadata": {},
     "output_type": "execute_result"
    }
   ],
   "source": [
    "data_graph.tail()"
   ]
  },
  {
   "cell_type": "code",
   "execution_count": 81,
   "metadata": {},
   "outputs": [
    {
     "data": {
      "image/png": "[encoded data removed]",
      "text/plain": [
       "<Figure size 1440x432 with 1 Axes>"
      ]
     },
     "metadata": {
      "needs_background": "light"
     },
     "output_type": "display_data"
    }
   ],
   "source": [
    "fig, ax = plt.subplots(figsize=(20, 6))\n",
    "\n",
    "sns.lineplot(x='SURGERY_DATE',\n",
    "             y='CLAIM_AMOUNT_max',\n",
    "             data=data_graph,\n",
    "             ci=False)\n",
    "\n",
    "sns.lineplot(x='SURGERY_DATE',\n",
    "             y='CLAIM_AMOUNT_min',\n",
    "             data=data_graph,\n",
    "             color='y',\n",
    "             ci=False)\n",
    "\n",
    "sns.lineplot(x='SURGERY_DATE', \n",
    "             y='CLAIM_AMOUNT', \n",
    "             data=data_graph, \n",
    "             color='g')\n",
    "\n",
    "sns.scatterplot(x='SURGERY_DATE', \n",
    "             y='CLAIM_AMOUNT', \n",
    "             data=data_graph, \n",
    "             color='g')\n",
    "\n",
    "# ax.axes.set_title(\"Date and Claim Amount\",fontsize=20)\n",
    "# ax.set_xlabel(\"Date\",fontsize=15)\n",
    "# ax.set_ylabel(\"Claim Amount\",fontsize=15)\n",
    "# ax.tick_params(labelsize=5)\n",
    "# plt.xticks(rotation=45)\n",
    "\n",
    "plt.show()"
   ]
  },
  {
   "cell_type": "code",
   "execution_count": 82,
   "metadata": {},
   "outputs": [
    {
     "data": {
      "image/png": "[encoded data removed]",
      "text/plain": [
       "<Figure size 1440x432 with 1 Axes>"
      ]
     },
     "metadata": {
      "needs_background": "light"
     },
     "output_type": "display_data"
    }
   ],
   "source": [
    "# Agrupamos los datos por fecha, con el promedio del CLAIM_AMOUNT\n",
    "graph = data_graph.groupby(['SURGERY_DATE']).agg({'CLAIM_AMOUNT': 'mean'}).reset_index()\n",
    "\n",
    "# Calculamos el la media movil para el CLAIM_AMOUNT y -+ 3 desvíos\n",
    "graph.sort_values(by='SURGERY_DATE', ascending=False)\n",
    "graph['CLAIM_AMOUNT_min'] = graph['CLAIM_AMOUNT'].rolling(5).mean() - 3*graph['CLAIM_AMOUNT'].rolling(5).std()\n",
    "graph['CLAIM_AMOUNT_max'] = graph['CLAIM_AMOUNT'].rolling(5).mean() + 3*graph['CLAIM_AMOUNT'].rolling(5).std()\n",
    "graph['CLAIM_AMOUNT_RM'] = graph['CLAIM_AMOUNT'].rolling(5).mean()\n",
    "\n",
    "fig, ax = plt.subplots(figsize=(20, 6))\n",
    "\n",
    "sns.lineplot(x='SURGERY_DATE',\n",
    "             y='CLAIM_AMOUNT_max',\n",
    "             data=graph,\n",
    "             ci=False)\n",
    "\n",
    "sns.lineplot(x='SURGERY_DATE',\n",
    "             y='CLAIM_AMOUNT_min',\n",
    "             data=graph,\n",
    "             color='y',\n",
    "             ci=False)\n",
    "\n",
    "sns.lineplot(x='SURGERY_DATE', \n",
    "             y='CLAIM_AMOUNT_RM', \n",
    "             data=graph, \n",
    "             color='g')\n",
    "\n",
    "sns.scatterplot(x='SURGERY_DATE', \n",
    "             y='CLAIM_AMOUNT', \n",
    "             data=data_graph, \n",
    "             color='g');"
   ]
  },
  {
   "cell_type": "markdown",
   "metadata": {},
   "source": [
    "#### Eliminar outliers"
   ]
  },
  {
   "cell_type": "markdown",
   "metadata": {},
   "source": [
    "- Computamos el Z-score para la columna seleccionada, relativo a la media y al STD de esa columna\n",
    "- Tomamos el valor absoluto del Z-score.\n",
    "\n",
    "Si queremos calcular para todas las variables\n",
    "- df[(np.abs(stats.zscore(df)) < 3).all(axis=1)]\n",
    "  \n",
    "_all(axis=1)_  garantiza qeu para cada fila, todas las columnas satisfacen la restricciónensures that for each row, all column satisfy the constraint.\n"
   ]
  },
  {
   "cell_type": "code",
   "execution_count": 87,
   "metadata": {},
   "outputs": [],
   "source": [
    "from scipy import stats\n",
    "import numpy as np\n",
    "# graph_graph = data_graph.groupby(['SURGERY_DATE']).agg({'CLAIM_AMOUNT': 'mean'}).reset_index()\n",
    "\n",
    "data_graph = data_graph[(np.abs(stats.zscore(data_graph['CLAIM_AMOUNT'])) < 3)]"
   ]
  },
  {
   "cell_type": "code",
   "execution_count": 88,
   "metadata": {},
   "outputs": [
    {
     "data": {
      "image/png": "[encoded data removed]",
      "text/plain": [
       "<Figure size 1440x432 with 1 Axes>"
      ]
     },
     "metadata": {
      "needs_background": "light"
     },
     "output_type": "display_data"
    }
   ],
   "source": [
    "fig, ax = plt.subplots(figsize=(20, 6))\n",
    "\n",
    "sns.boxplot(x=data_graph['DISTRICT_NAME'], y=data_graph['CLAIM_AMOUNT']);"
   ]
  },
  {
   "cell_type": "code",
   "execution_count": 86,
   "metadata": {},
   "outputs": [
    {
     "data": {
      "image/png": "[encoded data removed]",
      "text/plain": [
       "<Figure size 1440x432 with 1 Axes>"
      ]
     },
     "metadata": {
      "needs_background": "light"
     },
     "output_type": "display_data"
    }
   ],
   "source": [
    "# Graficamos las series sin los valores que exceden el z-score\n",
    "fig, ax = plt.subplots(figsize=(20, 6))\n",
    "\n",
    "sns.lineplot(x='SURGERY_DATE',\n",
    "             y='CLAIM_AMOUNT_max',\n",
    "             data=data_graph,\n",
    "             ci=False)\n",
    "\n",
    "sns.lineplot(x='SURGERY_DATE',\n",
    "             y='CLAIM_AMOUNT_min',\n",
    "             data=data_graph,\n",
    "             color='y',\n",
    "             ci=False)\n",
    "\n",
    "sns.lineplot(x='SURGERY_DATE', \n",
    "             y='CLAIM_AMOUNT_RM', \n",
    "             data=data_graph, \n",
    "             color='g',\n",
    "             ci=False)\n",
    "\n",
    "sns.scatterplot(x='SURGERY_DATE', \n",
    "             y='CLAIM_AMOUNT', \n",
    "             data=data_graph, \n",
    "             color='g');"
   ]
  },
  {
   "cell_type": "markdown",
   "metadata": {},
   "source": [
    "### Exportar Notebook \n",
    "Primero, obtenemos el nombre del archivo"
   ]
  },
  {
   "cell_type": "code",
   "execution_count": null,
   "metadata": {},
   "outputs": [],
   "source": [
    "%%javascript\n",
    "IPython.notebook.kernel.execute('nb_name = \"' + IPython.notebook.notebook_name + '\"')"
   ]
  },
  {
   "cell_type": "markdown",
   "metadata": {},
   "source": [
    "Exportamos todo el notebook. Código y resultados"
   ]
  },
  {
   "cell_type": "code",
   "execution_count": null,
   "metadata": {},
   "outputs": [],
   "source": [
    "!jupyter nbconvert --TagRemovePreprocessor.enabled=True --to html $nb_name "
   ]
  },
  {
   "cell_type": "markdown",
   "metadata": {},
   "source": [
    "Exportamos solo los resultados"
   ]
  },
  {
   "cell_type": "code",
   "execution_count": null,
   "metadata": {},
   "outputs": [],
   "source": [
    "!jupyter nbconvert --TagRemovePreprocessor.enabled=True --no-input --to html $nb_name "
   ]
  },
  {
   "cell_type": "markdown",
   "metadata": {},
   "source": [
    "Exportamos solo resultados, y sólo celdas que no tengan _tag=no_"
   ]
  },
  {
   "cell_type": "code",
   "execution_count": null,
   "metadata": {},
   "outputs": [],
   "source": [
    "!jupyter nbconvert --TagRemovePreprocessor.enabled=True --TagRemovePreprocessor.remove_cell_tags='{\"no\"}' --no-input --to html $nb_name "
   ]
  },
  {
   "cell_type": "code",
   "execution_count": null,
   "metadata": {},
   "outputs": [],
   "source": []
  }
 ],
 "metadata": {
  "hide_input": false,
  "kernelspec": {
   "display_name": "Python 3 (ipykernel)",
   "language": "python",
   "name": "python3"
  },
  "language_info": {
   "codemirror_mode": {
    "name": "ipython",
    "version": 3
   },
   "file_extension": ".py",
   "mimetype": "text/x-python",
   "name": "python",
   "nbconvert_exporter": "python",
   "pygments_lexer": "ipython3",
   "version": "3.10.4"
  }
 },
 "nbformat": 4,
 "nbformat_minor": 1
}
