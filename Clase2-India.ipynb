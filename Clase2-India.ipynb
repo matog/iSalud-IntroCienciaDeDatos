{
 "cells": [
  {
   "cell_type": "markdown",
   "metadata": {},
   "source": [
    "![alt text](iSalud_Covecare.png 'Logo')"
   ]
  },
  {
   "cell_type": "markdown",
   "metadata": {},
   "source": [
    "Fuente: \n",
    "- https://www.kaggle.com/scratchpad/notebook4031fa4176/edit\n",
    "- https://www.kaggle.com/srikarkashyap/analyzing-healthcare-data-tutorial"
   ]
  },
  {
   "cell_type": "markdown",
   "metadata": {
    "_cell_guid": "b1076dfc-b9ad-4769-8c92-a6c4dae69d19",
    "_uuid": "8f2839f25d086af736a60e9eeb907d3b93b6e0e5"
   },
   "source": [
    "# Analizando datos de programas de salud (EDA)"
   ]
  },
  {
   "cell_type": "markdown",
   "metadata": {
    "_uuid": "aea8db27e486c1c26418a782a8a081c50d7da7f3"
   },
   "source": [
    "## Introducción"
   ]
  },
  {
   "cell_type": "markdown",
   "metadata": {
    "_uuid": "c3634a5da5eb2b84bab4c4f2912c8d6d8a0df46a"
   },
   "source": [
    "NTR Vaidya Seva (o Arogya Seva) es el programa de salud insignia del gobierno de Anhra Pradesh (India), con el cual las personas de bajos ingresos de ese estado pueden obtener salud pública de forma gratuita para muchas enfermedades y dolencias importantes"
   ]
  },
  {
   "cell_type": "markdown",
   "metadata": {
    "_uuid": "44db94a8c4fb80c1198142503f13be5ac8b59977"
   },
   "source": [
    "## A meter código!"
   ]
  },
  {
   "cell_type": "markdown",
   "metadata": {
    "_uuid": "2096876a1726710169d7532650d02ba5e6fb6a27"
   },
   "source": [
    "Comenzamos importando las librerias necesarias:\n",
    "* *Pandas* para cargar datos y explorar los datos\n",
    "* *Matplotlib, Seaborn* para su visualización."
   ]
  },
  {
   "cell_type": "code",
   "execution_count": 1,
   "metadata": {
    "_uuid": "d9a347c9f1d9e2417f882e80145701e44499de16"
   },
   "outputs": [],
   "source": [
    "# Importamos las librerias \n",
    "import pandas as pd\n",
    "import matplotlib.pyplot as plt\n",
    "%matplotlib inline\n",
    "import seaborn as sns\n"
   ]
  },
  {
   "cell_type": "markdown",
   "metadata": {
    "_uuid": "c1aa9fc946bc3551c4627928f37e0a628cc0a972"
   },
   "source": [
    "Vamos a leer el archivo de datos usando la función *read_csv* de Pandas. *read_csv* puede leer de manera sencilla archivos de valores separados por comas (csv).\n",
    "\n",
    "No existen restricciones para nombrar las variables. *df*, *data* son los términos genéricos más comunes. Arrancamos con *data*."
   ]
  },
  {
   "cell_type": "code",
   "execution_count": 2,
   "metadata": {
    "_uuid": "281f7407d81726f5658ce4eb26e03df2998dab26"
   },
   "outputs": [],
   "source": [
    "# Leemos el dataframe\n",
    "data = pd.read_csv('data/ntrarogyaseva.csv')"
   ]
  },
  {
   "cell_type": "markdown",
   "metadata": {
    "_uuid": "949c0003ecd61b2028abb2e7bc0bd8143c78e349"
   },
   "source": [
    "Explotamos los datos con la función *head()* que por defecto, muestra los primeros 5 datos."
   ]
  },
  {
   "cell_type": "code",
   "execution_count": 10,
   "metadata": {},
   "outputs": [
    {
     "data": {
      "text/html": [
       "<div>\n",
       "<style scoped>\n",
       "    .dataframe tbody tr th:only-of-type {\n",
       "        vertical-align: middle;\n",
       "    }\n",
       "\n",
       "    .dataframe tbody tr th {\n",
       "        vertical-align: top;\n",
       "    }\n",
       "\n",
       "    .dataframe thead th {\n",
       "        text-align: right;\n",
       "    }\n",
       "</style>\n",
       "<table border=\"1\" class=\"dataframe\">\n",
       "  <thead>\n",
       "    <tr style=\"text-align: right;\">\n",
       "      <th></th>\n",
       "      <th></th>\n",
       "      <th>AGE</th>\n",
       "      <th>SEX</th>\n",
       "      <th>CASTE_NAME</th>\n",
       "      <th>CATEGORY_CODE</th>\n",
       "      <th>CATEGORY_NAME</th>\n",
       "      <th>SURGERY_CODE</th>\n",
       "      <th>SURGERY</th>\n",
       "      <th>VILLAGE</th>\n",
       "      <th>MANDAL_NAME</th>\n",
       "      <th>...</th>\n",
       "      <th>CLAIM_AMOUNT</th>\n",
       "      <th>HOSP_NAME</th>\n",
       "      <th>HOSP_TYPE</th>\n",
       "      <th>HOSP_LOCATION</th>\n",
       "      <th>HOSP_DISTRICT</th>\n",
       "      <th>SURGERY_DATE</th>\n",
       "      <th>DISCHARGE_DATE</th>\n",
       "      <th>Mortality Y / N</th>\n",
       "      <th>MORTALITY_DATE</th>\n",
       "      <th>SRC_REGISTRATION</th>\n",
       "    </tr>\n",
       "  </thead>\n",
       "  <tbody>\n",
       "    <tr>\n",
       "      <th>397376</th>\n",
       "      <td>397377</td>\n",
       "      <td>29</td>\n",
       "      <td>Male</td>\n",
       "      <td>BC</td>\n",
       "      <td>S15</td>\n",
       "      <td>POLY TRAUMA</td>\n",
       "      <td>S15.1.1</td>\n",
       "      <td>Surgical Correction Of Longbone Fracture</td>\n",
       "      <td>Ghantasala</td>\n",
       "      <td>Ghantasala</td>\n",
       "      <td>...</td>\n",
       "      <td>33408</td>\n",
       "      <td>ANDHRA HOSPITALS BHAVANIPURAM PVT LTD</td>\n",
       "      <td>C</td>\n",
       "      <td>VIJAYAWADA</td>\n",
       "      <td>Krishna</td>\n",
       "      <td>25/07/2017 00:00:00</td>\n",
       "      <td>02/08/2017 00:00:00</td>\n",
       "      <td>NO</td>\n",
       "      <td>NaN</td>\n",
       "      <td>D</td>\n",
       "    </tr>\n",
       "    <tr>\n",
       "      <th>90067</th>\n",
       "      <td>90068</td>\n",
       "      <td>34</td>\n",
       "      <td>Female</td>\n",
       "      <td>OC</td>\n",
       "      <td>M6</td>\n",
       "      <td>NEPHROLOGY</td>\n",
       "      <td>M6.5</td>\n",
       "      <td>Maintenance Hemodialysis For Crf</td>\n",
       "      <td>Srikantapuram</td>\n",
       "      <td>Anantapur</td>\n",
       "      <td>...</td>\n",
       "      <td>10000</td>\n",
       "      <td>Dr. YSR Memorial Hospitals</td>\n",
       "      <td>C</td>\n",
       "      <td>ANANTAPUR</td>\n",
       "      <td>Anantapur</td>\n",
       "      <td>08/11/2016 00:00:00</td>\n",
       "      <td>NaN</td>\n",
       "      <td>YES</td>\n",
       "      <td>16/12/2016 00:00:00</td>\n",
       "      <td>D</td>\n",
       "    </tr>\n",
       "    <tr>\n",
       "      <th>394639</th>\n",
       "      <td>394640</td>\n",
       "      <td>44</td>\n",
       "      <td>Male</td>\n",
       "      <td>ST</td>\n",
       "      <td>S5</td>\n",
       "      <td>ORTHOPEDIC  SURGERY AND PROCEDURES</td>\n",
       "      <td>S5.4.2</td>\n",
       "      <td>Diagnostic Arthroscopy</td>\n",
       "      <td>Sunkarapalem</td>\n",
       "      <td>Tallarevu</td>\n",
       "      <td>...</td>\n",
       "      <td>28451</td>\n",
       "      <td>SURYA GLOBAL MULTI SPECIALITY HOSPITALS AND CA...</td>\n",
       "      <td>C</td>\n",
       "      <td>KAKINADA</td>\n",
       "      <td>East Godavari</td>\n",
       "      <td>27/07/2017 00:00:00</td>\n",
       "      <td>29/07/2017 00:00:00</td>\n",
       "      <td>NO</td>\n",
       "      <td>NaN</td>\n",
       "      <td>D</td>\n",
       "    </tr>\n",
       "    <tr>\n",
       "      <th>365672</th>\n",
       "      <td>365673</td>\n",
       "      <td>46</td>\n",
       "      <td>Female</td>\n",
       "      <td>BC</td>\n",
       "      <td>S10</td>\n",
       "      <td>NEUROSURGERY</td>\n",
       "      <td>S10.2.9</td>\n",
       "      <td>Spinal Fusion Procedure</td>\n",
       "      <td>Krishnapuram</td>\n",
       "      <td>V.Kota</td>\n",
       "      <td>...</td>\n",
       "      <td>50000</td>\n",
       "      <td>Sree Ramadevi Multy Speciality Hospital</td>\n",
       "      <td>C</td>\n",
       "      <td>TIRUPATHI</td>\n",
       "      <td>Chittoor</td>\n",
       "      <td>02/07/2017 00:00:00</td>\n",
       "      <td>14/07/2017 00:00:00</td>\n",
       "      <td>NO</td>\n",
       "      <td>NaN</td>\n",
       "      <td>D</td>\n",
       "    </tr>\n",
       "    <tr>\n",
       "      <th>443707</th>\n",
       "      <td>443708</td>\n",
       "      <td>48</td>\n",
       "      <td>Male</td>\n",
       "      <td>BC</td>\n",
       "      <td>M6</td>\n",
       "      <td>NEPHROLOGY</td>\n",
       "      <td>M6.5</td>\n",
       "      <td>Maintenance Hemodialysis For Crf</td>\n",
       "      <td>Chakalakonda</td>\n",
       "      <td>Vinjamur</td>\n",
       "      <td>...</td>\n",
       "      <td>4132</td>\n",
       "      <td>ABHIRAM INSTITUTE OF MEDICAL SCIENCES</td>\n",
       "      <td>C</td>\n",
       "      <td>NELLORE</td>\n",
       "      <td>Nellore</td>\n",
       "      <td>13/09/2017 00:00:00</td>\n",
       "      <td>NaN</td>\n",
       "      <td>YES</td>\n",
       "      <td>23/09/2017 00:00:00</td>\n",
       "      <td>D</td>\n",
       "    </tr>\n",
       "    <tr>\n",
       "      <th>228469</th>\n",
       "      <td>228470</td>\n",
       "      <td>51</td>\n",
       "      <td>Female</td>\n",
       "      <td>ST</td>\n",
       "      <td>S12</td>\n",
       "      <td>MEDICAL ONCOLOGY</td>\n",
       "      <td>S12.2.1</td>\n",
       "      <td>Chemotherapy for Cervical Cancer with Weekly C...</td>\n",
       "      <td>Cheemalapadu</td>\n",
       "      <td>A Konduru</td>\n",
       "      <td>...</td>\n",
       "      <td>2000</td>\n",
       "      <td>HCG Curie City Cancer Centre Health Care Globa...</td>\n",
       "      <td>C</td>\n",
       "      <td>VIJAYAWADA</td>\n",
       "      <td>Krishna</td>\n",
       "      <td>09/03/2017 00:00:00</td>\n",
       "      <td>10/03/2017 00:00:00</td>\n",
       "      <td>NO</td>\n",
       "      <td>NaN</td>\n",
       "      <td>D</td>\n",
       "    </tr>\n",
       "    <tr>\n",
       "      <th>322569</th>\n",
       "      <td>322570</td>\n",
       "      <td>0</td>\n",
       "      <td>Female(Child)</td>\n",
       "      <td>SC</td>\n",
       "      <td>M4</td>\n",
       "      <td>PEDIATRICS</td>\n",
       "      <td>M4.1.4</td>\n",
       "      <td>Medicalmanagement of Preterm baby of 35 To 36 ...</td>\n",
       "      <td>Thukivakam</td>\n",
       "      <td>Renigunta</td>\n",
       "      <td>...</td>\n",
       "      <td>23000</td>\n",
       "      <td>S.V.R.R.Hospital</td>\n",
       "      <td>G</td>\n",
       "      <td>TIRUPATHI</td>\n",
       "      <td>Chittoor</td>\n",
       "      <td>25/05/2017 00:00:00</td>\n",
       "      <td>05/06/2017 00:00:00</td>\n",
       "      <td>NO</td>\n",
       "      <td>NaN</td>\n",
       "      <td>D</td>\n",
       "    </tr>\n",
       "    <tr>\n",
       "      <th>402937</th>\n",
       "      <td>402938</td>\n",
       "      <td>56</td>\n",
       "      <td>Male</td>\n",
       "      <td>BC</td>\n",
       "      <td>S7</td>\n",
       "      <td>CARDIAC AND CARDIOTHORACIC SURGERY</td>\n",
       "      <td>S7.2.1.1</td>\n",
       "      <td>Coronary Bypass Surgery</td>\n",
       "      <td>Ward-8</td>\n",
       "      <td>Gudivada</td>\n",
       "      <td>...</td>\n",
       "      <td>115846</td>\n",
       "      <td>Nri Academyof Sciences</td>\n",
       "      <td>C</td>\n",
       "      <td>GUNTUR</td>\n",
       "      <td>Guntur</td>\n",
       "      <td>05/08/2017 00:00:00</td>\n",
       "      <td>11/08/2017 00:00:00</td>\n",
       "      <td>NO</td>\n",
       "      <td>NaN</td>\n",
       "      <td>D</td>\n",
       "    </tr>\n",
       "    <tr>\n",
       "      <th>129525</th>\n",
       "      <td>129526</td>\n",
       "      <td>48</td>\n",
       "      <td>Female</td>\n",
       "      <td>BC</td>\n",
       "      <td>M6</td>\n",
       "      <td>NEPHROLOGY</td>\n",
       "      <td>M6.5</td>\n",
       "      <td>Maintenance Hemodialysis For Crf</td>\n",
       "      <td>Ravulapalem</td>\n",
       "      <td>Ravulapalem</td>\n",
       "      <td>...</td>\n",
       "      <td>12500</td>\n",
       "      <td>Government General Hospital,Kakinada</td>\n",
       "      <td>G</td>\n",
       "      <td>KAKINADA</td>\n",
       "      <td>East Godavari</td>\n",
       "      <td>13/12/2016 00:00:00</td>\n",
       "      <td>20/01/2017 00:00:00</td>\n",
       "      <td>NO</td>\n",
       "      <td>NaN</td>\n",
       "      <td>CMO</td>\n",
       "    </tr>\n",
       "    <tr>\n",
       "      <th>269050</th>\n",
       "      <td>269051</td>\n",
       "      <td>16</td>\n",
       "      <td>Male</td>\n",
       "      <td>BC</td>\n",
       "      <td>S2</td>\n",
       "      <td>ENT  SURGERY</td>\n",
       "      <td>S2.1.4.1</td>\n",
       "      <td>Myringoplasty with ossiculoplasty (19.3)</td>\n",
       "      <td>Mynampadu</td>\n",
       "      <td>Santhanuthlapadu</td>\n",
       "      <td>...</td>\n",
       "      <td>17340</td>\n",
       "      <td>Nalluri Nursing Home</td>\n",
       "      <td>C</td>\n",
       "      <td>Ongole</td>\n",
       "      <td>Prakasam</td>\n",
       "      <td>14/04/2017 00:00:00</td>\n",
       "      <td>15/04/2017 00:00:00</td>\n",
       "      <td>NO</td>\n",
       "      <td>NaN</td>\n",
       "      <td>D</td>\n",
       "    </tr>\n",
       "  </tbody>\n",
       "</table>\n",
       "<p>10 rows × 24 columns</p>\n",
       "</div>"
      ],
      "text/plain": [
       "                AGE            SEX CASTE_NAME CATEGORY_CODE  \\\n",
       "397376  397377   29           Male         BC           S15   \n",
       "90067    90068   34         Female         OC            M6   \n",
       "394639  394640   44           Male         ST            S5   \n",
       "365672  365673   46         Female         BC           S10   \n",
       "443707  443708   48           Male         BC            M6   \n",
       "228469  228470   51         Female         ST           S12   \n",
       "322569  322570    0  Female(Child)         SC            M4   \n",
       "402937  402938   56           Male         BC            S7   \n",
       "129525  129526   48         Female         BC            M6   \n",
       "269050  269051   16           Male         BC            S2   \n",
       "\n",
       "                             CATEGORY_NAME SURGERY_CODE  \\\n",
       "397376                         POLY TRAUMA      S15.1.1   \n",
       "90067                           NEPHROLOGY         M6.5   \n",
       "394639  ORTHOPEDIC  SURGERY AND PROCEDURES       S5.4.2   \n",
       "365672                        NEUROSURGERY      S10.2.9   \n",
       "443707                          NEPHROLOGY         M6.5   \n",
       "228469                    MEDICAL ONCOLOGY      S12.2.1   \n",
       "322569                          PEDIATRICS       M4.1.4   \n",
       "402937  CARDIAC AND CARDIOTHORACIC SURGERY     S7.2.1.1   \n",
       "129525                          NEPHROLOGY         M6.5   \n",
       "269050                        ENT  SURGERY     S2.1.4.1   \n",
       "\n",
       "                                                  SURGERY         VILLAGE  \\\n",
       "397376           Surgical Correction Of Longbone Fracture      Ghantasala   \n",
       "90067                    Maintenance Hemodialysis For Crf  Srikantapuram    \n",
       "394639                             Diagnostic Arthroscopy    Sunkarapalem   \n",
       "365672                            Spinal Fusion Procedure    Krishnapuram   \n",
       "443707                   Maintenance Hemodialysis For Crf    Chakalakonda   \n",
       "228469  Chemotherapy for Cervical Cancer with Weekly C...    Cheemalapadu   \n",
       "322569  Medicalmanagement of Preterm baby of 35 To 36 ...      Thukivakam   \n",
       "402937                            Coronary Bypass Surgery          Ward-8   \n",
       "129525                   Maintenance Hemodialysis For Crf     Ravulapalem   \n",
       "269050           Myringoplasty with ossiculoplasty (19.3)       Mynampadu   \n",
       "\n",
       "             MANDAL_NAME  ... CLAIM_AMOUNT  \\\n",
       "397376        Ghantasala  ...        33408   \n",
       "90067          Anantapur  ...        10000   \n",
       "394639         Tallarevu  ...        28451   \n",
       "365672            V.Kota  ...        50000   \n",
       "443707          Vinjamur  ...         4132   \n",
       "228469         A Konduru  ...         2000   \n",
       "322569         Renigunta  ...        23000   \n",
       "402937          Gudivada  ...       115846   \n",
       "129525       Ravulapalem  ...        12500   \n",
       "269050  Santhanuthlapadu  ...        17340   \n",
       "\n",
       "                                                HOSP_NAME  HOSP_TYPE  \\\n",
       "397376              ANDHRA HOSPITALS BHAVANIPURAM PVT LTD          C   \n",
       "90067                          Dr. YSR Memorial Hospitals          C   \n",
       "394639  SURYA GLOBAL MULTI SPECIALITY HOSPITALS AND CA...          C   \n",
       "365672            Sree Ramadevi Multy Speciality Hospital          C   \n",
       "443707              ABHIRAM INSTITUTE OF MEDICAL SCIENCES          C   \n",
       "228469  HCG Curie City Cancer Centre Health Care Globa...          C   \n",
       "322569                                   S.V.R.R.Hospital          G   \n",
       "402937                             Nri Academyof Sciences          C   \n",
       "129525               Government General Hospital,Kakinada          G   \n",
       "269050                               Nalluri Nursing Home          C   \n",
       "\n",
       "       HOSP_LOCATION  HOSP_DISTRICT         SURGERY_DATE       DISCHARGE_DATE  \\\n",
       "397376    VIJAYAWADA        Krishna  25/07/2017 00:00:00  02/08/2017 00:00:00   \n",
       "90067      ANANTAPUR      Anantapur  08/11/2016 00:00:00                  NaN   \n",
       "394639      KAKINADA  East Godavari  27/07/2017 00:00:00  29/07/2017 00:00:00   \n",
       "365672     TIRUPATHI       Chittoor  02/07/2017 00:00:00  14/07/2017 00:00:00   \n",
       "443707       NELLORE        Nellore  13/09/2017 00:00:00                  NaN   \n",
       "228469    VIJAYAWADA        Krishna  09/03/2017 00:00:00  10/03/2017 00:00:00   \n",
       "322569     TIRUPATHI       Chittoor  25/05/2017 00:00:00  05/06/2017 00:00:00   \n",
       "402937        GUNTUR         Guntur  05/08/2017 00:00:00  11/08/2017 00:00:00   \n",
       "129525      KAKINADA  East Godavari  13/12/2016 00:00:00  20/01/2017 00:00:00   \n",
       "269050        Ongole       Prakasam  14/04/2017 00:00:00  15/04/2017 00:00:00   \n",
       "\n",
       "       Mortality Y / N       MORTALITY_DATE SRC_REGISTRATION  \n",
       "397376              NO                  NaN                D  \n",
       "90067              YES  16/12/2016 00:00:00                D  \n",
       "394639              NO                  NaN                D  \n",
       "365672              NO                  NaN                D  \n",
       "443707             YES  23/09/2017 00:00:00                D  \n",
       "228469              NO                  NaN                D  \n",
       "322569              NO                  NaN                D  \n",
       "402937              NO                  NaN                D  \n",
       "129525              NO                  NaN              CMO  \n",
       "269050              NO                  NaN                D  \n",
       "\n",
       "[10 rows x 24 columns]"
      ]
     },
     "execution_count": 10,
     "metadata": {},
     "output_type": "execute_result"
    }
   ],
   "source": [
    "data.sample(10)"
   ]
  },
  {
   "cell_type": "markdown",
   "metadata": {
    "_uuid": "ad5cb3a33ba0a2d3e28dfbca46379fd58288c511"
   },
   "source": [
    "Ahora vamos a mostrar algunas estadisticas simples de las columnas numéricas del dataset. Utilizamos la función *describe* de los datos para obtenerlas.."
   ]
  },
  {
   "cell_type": "code",
   "execution_count": 12,
   "metadata": {
    "_uuid": "7df4c2f7e8da9f29fa2ee72ccf5ff6324b264bca"
   },
   "outputs": [
    {
     "data": {
      "text/html": [
       "<div>\n",
       "<style scoped>\n",
       "    .dataframe tbody tr th:only-of-type {\n",
       "        vertical-align: middle;\n",
       "    }\n",
       "\n",
       "    .dataframe tbody tr th {\n",
       "        vertical-align: top;\n",
       "    }\n",
       "\n",
       "    .dataframe thead th {\n",
       "        text-align: right;\n",
       "    }\n",
       "</style>\n",
       "<table border=\"1\" class=\"dataframe\">\n",
       "  <thead>\n",
       "    <tr style=\"text-align: right;\">\n",
       "      <th></th>\n",
       "      <th></th>\n",
       "      <th>AGE</th>\n",
       "      <th>SEX</th>\n",
       "      <th>CASTE_NAME</th>\n",
       "      <th>CATEGORY_CODE</th>\n",
       "      <th>CATEGORY_NAME</th>\n",
       "      <th>SURGERY_CODE</th>\n",
       "      <th>SURGERY</th>\n",
       "      <th>VILLAGE</th>\n",
       "      <th>MANDAL_NAME</th>\n",
       "      <th>...</th>\n",
       "      <th>CLAIM_AMOUNT</th>\n",
       "      <th>HOSP_NAME</th>\n",
       "      <th>HOSP_TYPE</th>\n",
       "      <th>HOSP_LOCATION</th>\n",
       "      <th>HOSP_DISTRICT</th>\n",
       "      <th>SURGERY_DATE</th>\n",
       "      <th>DISCHARGE_DATE</th>\n",
       "      <th>Mortality Y / N</th>\n",
       "      <th>MORTALITY_DATE</th>\n",
       "      <th>SRC_REGISTRATION</th>\n",
       "    </tr>\n",
       "  </thead>\n",
       "  <tbody>\n",
       "    <tr>\n",
       "      <th>count</th>\n",
       "      <td>479688.000000</td>\n",
       "      <td>479688.000000</td>\n",
       "      <td>479688</td>\n",
       "      <td>479688</td>\n",
       "      <td>479688</td>\n",
       "      <td>479688</td>\n",
       "      <td>479688</td>\n",
       "      <td>479688</td>\n",
       "      <td>479688</td>\n",
       "      <td>479688</td>\n",
       "      <td>...</td>\n",
       "      <td>479688.000000</td>\n",
       "      <td>479688</td>\n",
       "      <td>479688</td>\n",
       "      <td>479688</td>\n",
       "      <td>479688</td>\n",
       "      <td>479688</td>\n",
       "      <td>475128</td>\n",
       "      <td>479688</td>\n",
       "      <td>10122</td>\n",
       "      <td>479688</td>\n",
       "    </tr>\n",
       "    <tr>\n",
       "      <th>unique</th>\n",
       "      <td>NaN</td>\n",
       "      <td>NaN</td>\n",
       "      <td>6</td>\n",
       "      <td>6</td>\n",
       "      <td>29</td>\n",
       "      <td>29</td>\n",
       "      <td>925</td>\n",
       "      <td>923</td>\n",
       "      <td>11801</td>\n",
       "      <td>711</td>\n",
       "      <td>...</td>\n",
       "      <td>NaN</td>\n",
       "      <td>467</td>\n",
       "      <td>2</td>\n",
       "      <td>61</td>\n",
       "      <td>20</td>\n",
       "      <td>937</td>\n",
       "      <td>918</td>\n",
       "      <td>2</td>\n",
       "      <td>740</td>\n",
       "      <td>4</td>\n",
       "    </tr>\n",
       "    <tr>\n",
       "      <th>top</th>\n",
       "      <td>NaN</td>\n",
       "      <td>NaN</td>\n",
       "      <td>Male</td>\n",
       "      <td>BC</td>\n",
       "      <td>M6</td>\n",
       "      <td>NEPHROLOGY</td>\n",
       "      <td>M6.5</td>\n",
       "      <td>Maintenance Hemodialysis For Crf</td>\n",
       "      <td>Ward-1</td>\n",
       "      <td>Visakhapatnam</td>\n",
       "      <td>...</td>\n",
       "      <td>NaN</td>\n",
       "      <td>Sri Venkateswara Institute Of Medical Sciences</td>\n",
       "      <td>C</td>\n",
       "      <td>VISAKHAPATNAM</td>\n",
       "      <td>Guntur</td>\n",
       "      <td>13/02/2017 00:00:00</td>\n",
       "      <td>29/05/2017 00:00:00</td>\n",
       "      <td>NO</td>\n",
       "      <td>04/01/2017 00:00:00</td>\n",
       "      <td>D</td>\n",
       "    </tr>\n",
       "    <tr>\n",
       "      <th>freq</th>\n",
       "      <td>NaN</td>\n",
       "      <td>NaN</td>\n",
       "      <td>260718</td>\n",
       "      <td>246164</td>\n",
       "      <td>74947</td>\n",
       "      <td>74947</td>\n",
       "      <td>65378</td>\n",
       "      <td>65378</td>\n",
       "      <td>3277</td>\n",
       "      <td>9264</td>\n",
       "      <td>...</td>\n",
       "      <td>NaN</td>\n",
       "      <td>21854</td>\n",
       "      <td>369346</td>\n",
       "      <td>50715</td>\n",
       "      <td>60988</td>\n",
       "      <td>1602</td>\n",
       "      <td>1764</td>\n",
       "      <td>469566</td>\n",
       "      <td>40</td>\n",
       "      <td>437948</td>\n",
       "    </tr>\n",
       "    <tr>\n",
       "      <th>mean</th>\n",
       "      <td>239844.500000</td>\n",
       "      <td>44.912264</td>\n",
       "      <td>NaN</td>\n",
       "      <td>NaN</td>\n",
       "      <td>NaN</td>\n",
       "      <td>NaN</td>\n",
       "      <td>NaN</td>\n",
       "      <td>NaN</td>\n",
       "      <td>NaN</td>\n",
       "      <td>NaN</td>\n",
       "      <td>...</td>\n",
       "      <td>27652.205861</td>\n",
       "      <td>NaN</td>\n",
       "      <td>NaN</td>\n",
       "      <td>NaN</td>\n",
       "      <td>NaN</td>\n",
       "      <td>NaN</td>\n",
       "      <td>NaN</td>\n",
       "      <td>NaN</td>\n",
       "      <td>NaN</td>\n",
       "      <td>NaN</td>\n",
       "    </tr>\n",
       "    <tr>\n",
       "      <th>std</th>\n",
       "      <td>138474.142301</td>\n",
       "      <td>18.961084</td>\n",
       "      <td>NaN</td>\n",
       "      <td>NaN</td>\n",
       "      <td>NaN</td>\n",
       "      <td>NaN</td>\n",
       "      <td>NaN</td>\n",
       "      <td>NaN</td>\n",
       "      <td>NaN</td>\n",
       "      <td>NaN</td>\n",
       "      <td>...</td>\n",
       "      <td>25951.706037</td>\n",
       "      <td>NaN</td>\n",
       "      <td>NaN</td>\n",
       "      <td>NaN</td>\n",
       "      <td>NaN</td>\n",
       "      <td>NaN</td>\n",
       "      <td>NaN</td>\n",
       "      <td>NaN</td>\n",
       "      <td>NaN</td>\n",
       "      <td>NaN</td>\n",
       "    </tr>\n",
       "    <tr>\n",
       "      <th>min</th>\n",
       "      <td>1.000000</td>\n",
       "      <td>0.000000</td>\n",
       "      <td>NaN</td>\n",
       "      <td>NaN</td>\n",
       "      <td>NaN</td>\n",
       "      <td>NaN</td>\n",
       "      <td>NaN</td>\n",
       "      <td>NaN</td>\n",
       "      <td>NaN</td>\n",
       "      <td>NaN</td>\n",
       "      <td>...</td>\n",
       "      <td>2.000000</td>\n",
       "      <td>NaN</td>\n",
       "      <td>NaN</td>\n",
       "      <td>NaN</td>\n",
       "      <td>NaN</td>\n",
       "      <td>NaN</td>\n",
       "      <td>NaN</td>\n",
       "      <td>NaN</td>\n",
       "      <td>NaN</td>\n",
       "      <td>NaN</td>\n",
       "    </tr>\n",
       "    <tr>\n",
       "      <th>25%</th>\n",
       "      <td>119922.750000</td>\n",
       "      <td>34.000000</td>\n",
       "      <td>NaN</td>\n",
       "      <td>NaN</td>\n",
       "      <td>NaN</td>\n",
       "      <td>NaN</td>\n",
       "      <td>NaN</td>\n",
       "      <td>NaN</td>\n",
       "      <td>NaN</td>\n",
       "      <td>NaN</td>\n",
       "      <td>...</td>\n",
       "      <td>12500.000000</td>\n",
       "      <td>NaN</td>\n",
       "      <td>NaN</td>\n",
       "      <td>NaN</td>\n",
       "      <td>NaN</td>\n",
       "      <td>NaN</td>\n",
       "      <td>NaN</td>\n",
       "      <td>NaN</td>\n",
       "      <td>NaN</td>\n",
       "      <td>NaN</td>\n",
       "    </tr>\n",
       "    <tr>\n",
       "      <th>50%</th>\n",
       "      <td>239844.500000</td>\n",
       "      <td>47.000000</td>\n",
       "      <td>NaN</td>\n",
       "      <td>NaN</td>\n",
       "      <td>NaN</td>\n",
       "      <td>NaN</td>\n",
       "      <td>NaN</td>\n",
       "      <td>NaN</td>\n",
       "      <td>NaN</td>\n",
       "      <td>NaN</td>\n",
       "      <td>...</td>\n",
       "      <td>23200.000000</td>\n",
       "      <td>NaN</td>\n",
       "      <td>NaN</td>\n",
       "      <td>NaN</td>\n",
       "      <td>NaN</td>\n",
       "      <td>NaN</td>\n",
       "      <td>NaN</td>\n",
       "      <td>NaN</td>\n",
       "      <td>NaN</td>\n",
       "      <td>NaN</td>\n",
       "    </tr>\n",
       "    <tr>\n",
       "      <th>75%</th>\n",
       "      <td>359766.250000</td>\n",
       "      <td>59.000000</td>\n",
       "      <td>NaN</td>\n",
       "      <td>NaN</td>\n",
       "      <td>NaN</td>\n",
       "      <td>NaN</td>\n",
       "      <td>NaN</td>\n",
       "      <td>NaN</td>\n",
       "      <td>NaN</td>\n",
       "      <td>NaN</td>\n",
       "      <td>...</td>\n",
       "      <td>30600.000000</td>\n",
       "      <td>NaN</td>\n",
       "      <td>NaN</td>\n",
       "      <td>NaN</td>\n",
       "      <td>NaN</td>\n",
       "      <td>NaN</td>\n",
       "      <td>NaN</td>\n",
       "      <td>NaN</td>\n",
       "      <td>NaN</td>\n",
       "      <td>NaN</td>\n",
       "    </tr>\n",
       "    <tr>\n",
       "      <th>max</th>\n",
       "      <td>479688.000000</td>\n",
       "      <td>107.000000</td>\n",
       "      <td>NaN</td>\n",
       "      <td>NaN</td>\n",
       "      <td>NaN</td>\n",
       "      <td>NaN</td>\n",
       "      <td>NaN</td>\n",
       "      <td>NaN</td>\n",
       "      <td>NaN</td>\n",
       "      <td>NaN</td>\n",
       "      <td>...</td>\n",
       "      <td>520000.000000</td>\n",
       "      <td>NaN</td>\n",
       "      <td>NaN</td>\n",
       "      <td>NaN</td>\n",
       "      <td>NaN</td>\n",
       "      <td>NaN</td>\n",
       "      <td>NaN</td>\n",
       "      <td>NaN</td>\n",
       "      <td>NaN</td>\n",
       "      <td>NaN</td>\n",
       "    </tr>\n",
       "  </tbody>\n",
       "</table>\n",
       "<p>11 rows × 24 columns</p>\n",
       "</div>"
      ],
      "text/plain": [
       "                                 AGE     SEX CASTE_NAME CATEGORY_CODE  \\\n",
       "count   479688.000000  479688.000000  479688     479688        479688   \n",
       "unique            NaN            NaN       6          6            29   \n",
       "top               NaN            NaN    Male         BC            M6   \n",
       "freq              NaN            NaN  260718     246164         74947   \n",
       "mean    239844.500000      44.912264     NaN        NaN           NaN   \n",
       "std     138474.142301      18.961084     NaN        NaN           NaN   \n",
       "min          1.000000       0.000000     NaN        NaN           NaN   \n",
       "25%     119922.750000      34.000000     NaN        NaN           NaN   \n",
       "50%     239844.500000      47.000000     NaN        NaN           NaN   \n",
       "75%     359766.250000      59.000000     NaN        NaN           NaN   \n",
       "max     479688.000000     107.000000     NaN        NaN           NaN   \n",
       "\n",
       "       CATEGORY_NAME SURGERY_CODE                           SURGERY VILLAGE  \\\n",
       "count         479688       479688                            479688  479688   \n",
       "unique            29          925                               923   11801   \n",
       "top       NEPHROLOGY         M6.5  Maintenance Hemodialysis For Crf  Ward-1   \n",
       "freq           74947        65378                             65378    3277   \n",
       "mean             NaN          NaN                               NaN     NaN   \n",
       "std              NaN          NaN                               NaN     NaN   \n",
       "min              NaN          NaN                               NaN     NaN   \n",
       "25%              NaN          NaN                               NaN     NaN   \n",
       "50%              NaN          NaN                               NaN     NaN   \n",
       "75%              NaN          NaN                               NaN     NaN   \n",
       "max              NaN          NaN                               NaN     NaN   \n",
       "\n",
       "          MANDAL_NAME  ...   CLAIM_AMOUNT  \\\n",
       "count          479688  ...  479688.000000   \n",
       "unique            711  ...            NaN   \n",
       "top     Visakhapatnam  ...            NaN   \n",
       "freq             9264  ...            NaN   \n",
       "mean              NaN  ...   27652.205861   \n",
       "std               NaN  ...   25951.706037   \n",
       "min               NaN  ...       2.000000   \n",
       "25%               NaN  ...   12500.000000   \n",
       "50%               NaN  ...   23200.000000   \n",
       "75%               NaN  ...   30600.000000   \n",
       "max               NaN  ...  520000.000000   \n",
       "\n",
       "                                             HOSP_NAME  HOSP_TYPE  \\\n",
       "count                                           479688     479688   \n",
       "unique                                             467          2   \n",
       "top     Sri Venkateswara Institute Of Medical Sciences          C   \n",
       "freq                                             21854     369346   \n",
       "mean                                               NaN        NaN   \n",
       "std                                                NaN        NaN   \n",
       "min                                                NaN        NaN   \n",
       "25%                                                NaN        NaN   \n",
       "50%                                                NaN        NaN   \n",
       "75%                                                NaN        NaN   \n",
       "max                                                NaN        NaN   \n",
       "\n",
       "        HOSP_LOCATION  HOSP_DISTRICT         SURGERY_DATE  \\\n",
       "count          479688         479688               479688   \n",
       "unique             61             20                  937   \n",
       "top     VISAKHAPATNAM         Guntur  13/02/2017 00:00:00   \n",
       "freq            50715          60988                 1602   \n",
       "mean              NaN            NaN                  NaN   \n",
       "std               NaN            NaN                  NaN   \n",
       "min               NaN            NaN                  NaN   \n",
       "25%               NaN            NaN                  NaN   \n",
       "50%               NaN            NaN                  NaN   \n",
       "75%               NaN            NaN                  NaN   \n",
       "max               NaN            NaN                  NaN   \n",
       "\n",
       "             DISCHARGE_DATE Mortality Y / N       MORTALITY_DATE  \\\n",
       "count                475128          479688                10122   \n",
       "unique                  918               2                  740   \n",
       "top     29/05/2017 00:00:00              NO  04/01/2017 00:00:00   \n",
       "freq                   1764          469566                   40   \n",
       "mean                    NaN             NaN                  NaN   \n",
       "std                     NaN             NaN                  NaN   \n",
       "min                     NaN             NaN                  NaN   \n",
       "25%                     NaN             NaN                  NaN   \n",
       "50%                     NaN             NaN                  NaN   \n",
       "75%                     NaN             NaN                  NaN   \n",
       "max                     NaN             NaN                  NaN   \n",
       "\n",
       "       SRC_REGISTRATION  \n",
       "count            479688  \n",
       "unique                4  \n",
       "top                   D  \n",
       "freq             437948  \n",
       "mean                NaN  \n",
       "std                 NaN  \n",
       "min                 NaN  \n",
       "25%                 NaN  \n",
       "50%                 NaN  \n",
       "75%                 NaN  \n",
       "max                 NaN  \n",
       "\n",
       "[11 rows x 24 columns]"
      ]
     },
     "execution_count": 12,
     "metadata": {},
     "output_type": "execute_result"
    }
   ],
   "source": [
    "# Estadísticas descriptivas\n",
    "# data.describe(include='all') # Incluye todas las variables\n",
    "data.describe(include='all')"
   ]
  },
  {
   "cell_type": "markdown",
   "metadata": {
    "_uuid": "f46a3e2d51b788921ff9667aeefeae4acf5b0900"
   },
   "source": [
    "Ahora analizamos los nombres de las columnas"
   ]
  },
  {
   "cell_type": "code",
   "execution_count": 13,
   "metadata": {
    "_kg_hide-input": false,
    "_kg_hide-output": false,
    "_uuid": "3994dacd6627fe5fd89832fd4d355eb114fd55b8"
   },
   "outputs": [
    {
     "data": {
      "text/plain": [
       "Index(['   ', 'AGE', 'SEX', 'CASTE_NAME', 'CATEGORY_CODE', 'CATEGORY_NAME',\n",
       "       'SURGERY_CODE', 'SURGERY', 'VILLAGE', 'MANDAL_NAME', 'DISTRICT_NAME',\n",
       "       'PREAUTH_DATE', 'PREAUTH_AMT', 'CLAIM_DATE', 'CLAIM_AMOUNT',\n",
       "       'HOSP_NAME', 'HOSP_TYPE', 'HOSP_LOCATION', 'HOSP_DISTRICT',\n",
       "       'SURGERY_DATE', 'DISCHARGE_DATE', 'Mortality Y / N', 'MORTALITY_DATE',\n",
       "       'SRC_REGISTRATION'],\n",
       "      dtype='object')"
      ]
     },
     "execution_count": 13,
     "metadata": {},
     "output_type": "execute_result"
    }
   ],
   "source": [
    "# Muestra los nombres de las columnas en el dataset _data_\n",
    "data.columns"
   ]
  },
  {
   "cell_type": "code",
   "execution_count": 14,
   "metadata": {},
   "outputs": [
    {
     "name": "stdout",
     "output_type": "stream",
     "text": [
      "<class 'pandas.core.frame.DataFrame'>\n",
      "RangeIndex: 479688 entries, 0 to 479687\n",
      "Data columns (total 24 columns):\n",
      " #   Column            Non-Null Count   Dtype \n",
      "---  ------            --------------   ----- \n",
      " 0                     479688 non-null  int64 \n",
      " 1   AGE               479688 non-null  int64 \n",
      " 2   SEX               479688 non-null  object\n",
      " 3   CASTE_NAME        479688 non-null  object\n",
      " 4   CATEGORY_CODE     479688 non-null  object\n",
      " 5   CATEGORY_NAME     479688 non-null  object\n",
      " 6   SURGERY_CODE      479688 non-null  object\n",
      " 7   SURGERY           479688 non-null  object\n",
      " 8   VILLAGE           479688 non-null  object\n",
      " 9   MANDAL_NAME       479688 non-null  object\n",
      " 10  DISTRICT_NAME     479688 non-null  object\n",
      " 11  PREAUTH_DATE      479688 non-null  object\n",
      " 12  PREAUTH_AMT       479688 non-null  int64 \n",
      " 13  CLAIM_DATE        479688 non-null  object\n",
      " 14  CLAIM_AMOUNT      479688 non-null  int64 \n",
      " 15  HOSP_NAME         479688 non-null  object\n",
      " 16  HOSP_TYPE         479688 non-null  object\n",
      " 17  HOSP_LOCATION     479688 non-null  object\n",
      " 18  HOSP_DISTRICT     479688 non-null  object\n",
      " 19  SURGERY_DATE      479688 non-null  object\n",
      " 20  DISCHARGE_DATE    475128 non-null  object\n",
      " 21  Mortality Y / N   479688 non-null  object\n",
      " 22  MORTALITY_DATE    10122 non-null   object\n",
      " 23  SRC_REGISTRATION  479688 non-null  object\n",
      "dtypes: int64(4), object(20)\n",
      "memory usage: 87.8+ MB\n"
     ]
    }
   ],
   "source": [
    "data.info()"
   ]
  },
  {
   "cell_type": "markdown",
   "metadata": {},
   "source": [
    "### Tamaño del dataframe"
   ]
  },
  {
   "cell_type": "code",
   "execution_count": null,
   "metadata": {},
   "outputs": [],
   "source": [
    "data['HOSP_DISTRICT'].value_counts()"
   ]
  },
  {
   "cell_type": "code",
   "execution_count": null,
   "metadata": {},
   "outputs": [],
   "source": [
    "data.shape"
   ]
  },
  {
   "cell_type": "markdown",
   "metadata": {},
   "source": [
    "### Creación de variables\n",
    "Es muy útil trabajar con las variables existentes para generar nueva información."
   ]
  },
  {
   "cell_type": "code",
   "execution_count": null,
   "metadata": {},
   "outputs": [],
   "source": [
    "data['CATEGORY'] = data['CATEGORY_CODE'] + ' - ' + data['CATEGORY_NAME']\n",
    "data['CATEGORY'].reset_index()"
   ]
  },
  {
   "cell_type": "code",
   "execution_count": null,
   "metadata": {},
   "outputs": [],
   "source": [
    "data['DIFF'] = data['CLAIM_AMOUNT'] - data['PREAUTH_AMT']"
   ]
  },
  {
   "cell_type": "code",
   "execution_count": null,
   "metadata": {},
   "outputs": [],
   "source": [
    "data['DIFF'].reset_index()"
   ]
  },
  {
   "cell_type": "markdown",
   "metadata": {},
   "source": [
    "### Corrección de formatos "
   ]
  },
  {
   "cell_type": "markdown",
   "metadata": {},
   "source": [
    "Las columnas PREAUTH_DATE, CLAIM_DATE, SURGERY_DATE, DISCHARGE_DATE y MORTALITY_DATE son cargadas como si fueran del tipo Object, cuando en realidad deberían ser levantadas como fechas"
   ]
  },
  {
   "cell_type": "code",
   "execution_count": null,
   "metadata": {},
   "outputs": [],
   "source": [
    "# data = pd.read_csv(\"input/ntrarogyaseva.csv\")\n",
    "from datetime import datetime"
   ]
  },
  {
   "cell_type": "code",
   "execution_count": null,
   "metadata": {},
   "outputs": [],
   "source": [
    "# Convertimos el campo DISCHARGE_DATE a fecha. Tira un error\n",
    "data['DISCHARGE_DATE'] = pd.to_datetime(data['DISCHARGE_DATE'])"
   ]
  },
  {
   "cell_type": "code",
   "execution_count": null,
   "metadata": {},
   "outputs": [],
   "source": [
    "# Buscamos el error:\n",
    "# Alternativa I:\n",
    "data.loc[data['DISCHARGE_DATE'].str.contains('116', na=False)]"
   ]
  },
  {
   "cell_type": "code",
   "execution_count": null,
   "metadata": {},
   "outputs": [],
   "source": [
    "# Alternativa II\n",
    "data.loc[data['DISCHARGE_DATE']=='30/04/0116 00:00:00']"
   ]
  },
  {
   "cell_type": "code",
   "execution_count": null,
   "metadata": {},
   "outputs": [],
   "source": [
    "# Reemplazamos los datos erroneos:\n",
    "# Alternativa I\n",
    "mappings = {'30/04/0116 00:00:00':'30/04/2016 00:00:00'}\n",
    "data['DISCHARGE_DATE'] = data['DISCHARGE_DATE'].replace(mappings)\n",
    "\n",
    "# Alternativa II\n",
    "data.loc[data['DISCHARGE_DATE']=='30/04/0116 00:00:00', 'DISCHARGE_DATE'] = '30/04/2016 00:00:00'"
   ]
  },
  {
   "cell_type": "code",
   "execution_count": null,
   "metadata": {},
   "outputs": [],
   "source": [
    "# Convertimos el campo DISCHARGE_DATE a fecha nuevamente\n",
    "data['DISCHARGE_DATE'] = pd.to_datetime(data['DISCHARGE_DATE'])"
   ]
  },
  {
   "cell_type": "code",
   "execution_count": null,
   "metadata": {},
   "outputs": [],
   "source": [
    "data['PREAUTH_DATE'] = pd.to_datetime(data['PREAUTH_DATE'])\n",
    "data['CLAIM_DATE'] = pd.to_datetime(data['CLAIM_DATE'])\n",
    "data['MORTALITY_DATE'] = pd.to_datetime(data['MORTALITY_DATE'])\n",
    "data['SURGERY_DATE'] = pd.to_datetime(data['SURGERY_DATE'])"
   ]
  },
  {
   "cell_type": "code",
   "execution_count": null,
   "metadata": {},
   "outputs": [],
   "source": [
    "# Borramos la columna que tiene el índice del CSV \n",
    "data = data.drop('   ', axis = 1)"
   ]
  },
  {
   "cell_type": "code",
   "execution_count": null,
   "metadata": {},
   "outputs": [],
   "source": [
    "data.to_csv('data/ntrarogyaseva_cut.csv', index = False)"
   ]
  },
  {
   "cell_type": "markdown",
   "metadata": {},
   "source": [
    "### NAN Values "
   ]
  },
  {
   "cell_type": "code",
   "execution_count": null,
   "metadata": {},
   "outputs": [],
   "source": [
    "data.isnull().sum()"
   ]
  },
  {
   "cell_type": "code",
   "execution_count": null,
   "metadata": {},
   "outputs": [],
   "source": [
    "# DISCHARGE_DATE tiene NAs porque pueden referirse a los pacientes que siguen internados o no tienen el alta\n",
    "data.loc[data['DISCHARGE_DATE'].isna()]"
   ]
  },
  {
   "cell_type": "code",
   "execution_count": null,
   "metadata": {},
   "outputs": [],
   "source": [
    "# Podemos chequear si hay pacientes con DISCHARGE_DATE NA y que hallan fallecido\n",
    "data.loc[(data['Mortality Y / N']=='YES') & (data['DISCHARGE_DATE'].isna())]"
   ]
  },
  {
   "cell_type": "code",
   "execution_count": null,
   "metadata": {},
   "outputs": [],
   "source": [
    "# Los MORTALITY_DATE en blanco, es porque no falleció o por error en la base\n",
    "data.loc[(data['Mortality Y / N']=='NO') & (data['MORTALITY_DATE'].isna())]"
   ]
  },
  {
   "cell_type": "markdown",
   "metadata": {
    "_uuid": "c62aea5ceff3e742443abe2fa8ce43c914a1f50c"
   },
   "source": [
    "## Analizando un poco mas profundo..."
   ]
  },
  {
   "cell_type": "markdown",
   "metadata": {
    "_uuid": "bffee16b17d1eaade1d9038bcce91f17f0b37e57"
   },
   "source": [
    "### Cual es la distribución de la variable SEX?"
   ]
  },
  {
   "cell_type": "markdown",
   "metadata": {
    "_uuid": "57643886b47dfe5b4c1ede755944617d8196df9e"
   },
   "source": [
    "*value_counts()* es una función de Pandas que puede ser usada para obtener la distribución de los datos, en la columna que se especifique."
   ]
  },
  {
   "cell_type": "code",
   "execution_count": null,
   "metadata": {
    "_uuid": "f5fe97a1545fa7e0ff484e70ea06c7696ce192f8"
   },
   "outputs": [],
   "source": [
    "# Cantidad de cada valor en la columna SEX\n",
    "data['SEX'].value_counts()"
   ]
  },
  {
   "cell_type": "markdown",
   "metadata": {
    "_uuid": "e194cef08961d651834ed9bfaceccfb97402bf30"
   },
   "source": [
    "*CUIDADO*: Existe valores que están ingresados de forma diferente, que refieren al mismo valor. *Male* and *MALE* no representan valores diferentes! \n",
    "\n",
    "Es posible hacer un *replace* de los valores mal ingresados para normalizar la variable.\n",
    "(Ademas de reemplazar Male (Child) -> Boy and Female (Child) -> Girl por conveniencia)"
   ]
  },
  {
   "cell_type": "code",
   "execution_count": null,
   "metadata": {
    "_uuid": "99a7772d15e3a171ab6e48a423eb43afa7831e8f"
   },
   "outputs": [],
   "source": [
    "# Mapeamos para normalizar\n",
    "mappings = {'MALE' : 'Male', 'FEMALE' : 'Female', 'Male(Child)' : 'Boy', 'Female(Child)' : 'Girl'}"
   ]
  },
  {
   "cell_type": "code",
   "execution_count": null,
   "metadata": {
    "_uuid": "79f45ad169d6a28068bff0d7b41264701c400a18"
   },
   "outputs": [],
   "source": [
    "# Reemplazamos los valores utilizando el mapping arriba definido\n",
    "data['SEX'] = data['SEX'].replace(mappings)\n",
    "data['SEX'].value_counts()"
   ]
  },
  {
   "cell_type": "markdown",
   "metadata": {
    "_uuid": "d0240556a5b1f04e24ec9fd934deeefed64738c8"
   },
   "source": [
    "La visualización de esta información se puede hacer de manera sencilla utilizando la función gráfica que incluye Pandas."
   ]
  },
  {
   "cell_type": "code",
   "execution_count": null,
   "metadata": {
    "_uuid": "dcda1f0b90c7be08de6afe1b793c98798fe1f36b"
   },
   "outputs": [],
   "source": [
    "# Value count de Sex de forma gráfica\n",
    "data['SEX'].value_counts().plot.bar()"
   ]
  },
  {
   "cell_type": "markdown",
   "metadata": {
    "_uuid": "054bd96effe714b478ce136b7e39fb3970d0b5b8"
   },
   "source": [
    "### Cual es la distribución de la variable AGE?"
   ]
  },
  {
   "cell_type": "markdown",
   "metadata": {
    "_uuid": "f9970fbf7c21aff98cba076ba47e3a46b2430085"
   },
   "source": [
    "Media, mediana y moda:"
   ]
  },
  {
   "cell_type": "code",
   "execution_count": null,
   "metadata": {
    "_uuid": "ec00f8bb13699429867785ec79d42b78d1a13739"
   },
   "outputs": [],
   "source": [
    "# print the mean, median and mode of the age distribution\n",
    "print(\"Mean: {}\".format(data['AGE'].mean()))\n",
    "print(\"Median: {}\".format(data['AGE'].median()))\n",
    "print(\"Mode: {}\".format(data['AGE'].mode()))"
   ]
  },
  {
   "cell_type": "markdown",
   "metadata": {
    "_uuid": "83ad4c4247b0293100eb08cee636837b17d9d7a7"
   },
   "source": [
    "Top 10 de las edades mas repetidas."
   ]
  },
  {
   "cell_type": "code",
   "execution_count": null,
   "metadata": {
    "_uuid": "9eb0488d786f60d452568411aea1982fa7997d10"
   },
   "outputs": [],
   "source": [
    "# top 10 age\n",
    "data['AGE'].value_counts().head(10)"
   ]
  },
  {
   "cell_type": "code",
   "execution_count": null,
   "metadata": {
    "_uuid": "2e720e15a7bdc74cf3f5a3937bc30e0ac7c24cea"
   },
   "outputs": [],
   "source": [
    "# boxplot para AGE\n",
    "data['AGE'].plot.box()"
   ]
  },
  {
   "cell_type": "markdown",
   "metadata": {
    "_uuid": "ce0456471733af1564ae8ed4a387babf82461962"
   },
   "source": [
    "En el grafico de arriba, la caja representa el **[Rango Intercuatilico (IQR, en inglés)](https://es.wikipedia.org/wiki/Rango_intercuart%C3%ADlico)** de los datos. \n",
    "\n",
    "\n",
    "El IQR representa la región donde cae el 50% de los datos. Por ejemplo del 25% al 75% del dataframe.\n",
    "Todo dato que cae fuera de 1.5 veces el IQR es considerado, en general, una anomalía (OJO, NO SIEMPRE, DEPENDE DEL CONOCIMIENTO DE LOS DATOS POR PARTE DEL ANALISTA)\n",
    "\n",
    "Los círculos se considerarían _outliers_\n",
    "\n",
    "La librería _Seaborn_ ofrece visualizaciones mejores, de forma sencilla.\n"
   ]
  },
  {
   "cell_type": "code",
   "execution_count": null,
   "metadata": {},
   "outputs": [],
   "source": [
    "# sns.boxplot(data['AGE']) # Devuelve un warning, que se solucina definiendo x e y.\n",
    "sns.boxplot(x=data['AGE']); # El ; evita la impresión de texto previo al gráfico."
   ]
  },
  {
   "cell_type": "markdown",
   "metadata": {
    "_uuid": "e920506fd8b4015db64a9e561c65cf3040cc1c11"
   },
   "source": [
    "### Preguntando y respondiendo con los datos"
   ]
  },
  {
   "cell_type": "markdown",
   "metadata": {
    "_uuid": "80f9d6152640714c896924754e6f92798064b070"
   },
   "source": [
    "Una vez que hayamos realizado una pequeña exploración en los datos, ahora avancemos a realizarnos algunas preguntas para entender mejor el dataframe."
   ]
  },
  {
   "cell_type": "markdown",
   "metadata": {
    "_uuid": "a783ae63d8383ffc47b13567c81c9d7de722434e"
   },
   "source": [
    "**Qué debería hacer si sólo quiero analizar los registros que pertenecen al distrito de Krishna?**\n",
    "\n",
    "Deberí selecciononar un subconjunto de datos pertenencientes a Krishna. Pandas lo hace en dos sencillos pasos:\n",
    "\n",
    "    1. Condición que se debe satisfacer: data['DISTRICT_NAME']=='Krishna'\n",
    "    2. Insertamos la condición en el dataframe: [data['DISTRICT_NAME']=='Krishna']\n",
    "      "
   ]
  },
  {
   "cell_type": "code",
   "execution_count": null,
   "metadata": {
    "_uuid": "7856e814e3611237be2daca829949c342776265b"
   },
   "outputs": [],
   "source": [
    "# subset de datos que pertenecen al distrito de Krishna\n",
    "data[data['DISTRICT_NAME']=='Krishna'].head()"
   ]
  },
  {
   "cell_type": "markdown",
   "metadata": {
    "_uuid": "9c242fd17479160f20a3a36f92f26d7998ea2b39"
   },
   "source": [
    "**Enfermedad/intervención con mayor prevalencia, por distrito**\n",
    "\n",
    "Se puede obtener iterando a través de todos los distritos, y seleccionando el subset de datos para cada uno de ellos.\n"
   ]
  },
  {
   "cell_type": "code",
   "execution_count": null,
   "metadata": {
    "_kg_hide-input": false,
    "_uuid": "10eb76eebb7eb16a9540e7028f9bc01cab634a86"
   },
   "outputs": [],
   "source": [
    "# Iteración\n",
    "for i in data['DISTRICT_NAME'].unique():\n",
    "    print(\"Distrito: {}\\nEnfermedad/intervención y Count: {}\".format(i,data[data['DISTRICT_NAME']==i]['SURGERY'].value_counts().head(1)))"
   ]
  },
  {
   "cell_type": "markdown",
   "metadata": {
    "_uuid": "515f4c29401c3926da12f9a74bc355dadaa412f3"
   },
   "source": [
    "**Promedio de claim amount, por distrito**"
   ]
  },
  {
   "cell_type": "code",
   "execution_count": null,
   "metadata": {
    "_uuid": "a9388061e6230b1d17901bd3a90c53e118e18ffd",
    "scrolled": true
   },
   "outputs": [],
   "source": [
    "# Average claim amount for surgery by district\n",
    "for i in data['DISTRICT_NAME'].unique():\n",
    "    print(\"Distrito: {}\\nMedia Claim Amount: ₹{}\".format(i,data[data['DISTRICT_NAME']==i]['CLAIM_AMOUNT'].mean()))"
   ]
  },
  {
   "cell_type": "markdown",
   "metadata": {
    "_uuid": "14390a8e64a68ef435bc2c5b0e8a0e7127c7de75"
   },
   "source": [
    "El desvio estandar no parece ser demasiado alto. El distrito de Guntur es el de valor mas alto con ₹31048 mientras  Vizianagaram ocupa el último lugar con ₹25097"
   ]
  },
  {
   "cell_type": "markdown",
   "metadata": {
    "_uuid": "0b41795fc91b7eb47b5a3c17a13bec8815fdde74"
   },
   "source": [
    "**Estadísticas por categoria de operación**\n",
    "\n",
    "Vamos a utilizar el _groupby_ de Pandas para construir estadísticas, agrupando los datos por la categoría de operación. El _groupby_ trabaja de forma similar al comando de _SQL_ del mismo nombre"
   ]
  },
  {
   "cell_type": "code",
   "execution_count": null,
   "metadata": {
    "_uuid": "017c61dd85a6157ccd2eca1e362220da917b5abd"
   },
   "outputs": [],
   "source": [
    "# group by surgery para obtener estadísticas\n",
    "data.groupby(['CATEGORY_NAME']).mean()\n",
    "#data.groupby(['CATEGORY_NAME','HOSP_DISTRICT']).mean()"
   ]
  },
  {
   "cell_type": "markdown",
   "metadata": {
    "_uuid": "470cdfbcf914cc518d1525c384be7895436bb2e4"
   },
   "source": [
    "Cochlear Implant Surgery es el que tiene la operación mas costosa. (₹520000 en promedio). Las Protesis (Prostheses) cuestan ₹1200 (las mas baratas). A su vez, el grupo mas joven también para ser el que demanada la Cochlear Implant Surgery: 1.58 años, mientras que Neurology  tiene pacientes de, en promedio, ~56."
   ]
  },
  {
   "cell_type": "code",
   "execution_count": null,
   "metadata": {
    "_uuid": "017c61dd85a6157ccd2eca1e362220da917b5abd"
   },
   "outputs": [],
   "source": [
    "#data.groupby(['HOSP_DISTRICT','CATEGORY_NAME'])['AGE'].mean().reset_index()\n",
    "data.groupby(['CATEGORY_NAME']).agg({\n",
    "    'AGE':'mean',\n",
    "#     'DISCHARGE_DATE':'min',\n",
    "    'Mortality Y / N':'count'\n",
    "})"
   ]
  },
  {
   "cell_type": "code",
   "execution_count": null,
   "metadata": {
    "_uuid": "017c61dd85a6157ccd2eca1e362220da917b5abd"
   },
   "outputs": [],
   "source": [
    "data.groupby(['CATEGORY_NAME']).agg(\n",
    "    **{\n",
    "        'Edad Mínima': ('AGE', 'min'),\n",
    "        'Edad Maxima': ('AGE', 'max'),\n",
    "    })"
   ]
  },
  {
   "cell_type": "markdown",
   "metadata": {
    "_uuid": "7010a66455e53939062a0530a3468eca2cf003d0"
   },
   "source": [
    "**Operación mas común por grupo de edad**\n",
    "\n",
    "Para encontrar la operación mas común por grupo de edad, vamos a redondear las edades al valor múltiplo de 10 mas cercano.\n",
    "\n",
    "Hacemos una copia del dataframe para no _ensuciar_ el dataframe original."
   ]
  },
  {
   "cell_type": "code",
   "execution_count": null,
   "metadata": {
    "_uuid": "87545ae3eb1a4a4221e741037d57eb4603bc45f2"
   },
   "outputs": [],
   "source": [
    "dataround = data.copy()"
   ]
  },
  {
   "cell_type": "markdown",
   "metadata": {
    "_uuid": "299226d237b866bebee79abf06173393e09eb1c7"
   },
   "source": [
    "Utilizamos la función _round_ de Pandas para redonder el valor de la edad. *-1* indica que redondeamos hasta1 dígito a la izquierda del valor decimal."
   ]
  },
  {
   "cell_type": "code",
   "execution_count": null,
   "metadata": {
    "_uuid": "ad4f2cc897cbbab1f682ed2f36d9b77abc41527b"
   },
   "outputs": [],
   "source": [
    "# round a la edad en 0 o 1\n",
    "dataround['AGE'] = dataround['AGE'].round(-1)"
   ]
  },
  {
   "cell_type": "markdown",
   "metadata": {
    "_uuid": "cf785a57d4529ab715db2a7cd1973e35249850d1"
   },
   "source": [
    "Visualizamos los grupos de edad utilizando la función _Seaborn countplot_ "
   ]
  },
  {
   "cell_type": "code",
   "execution_count": null,
   "metadata": {
    "_uuid": "5cc771e7f23696b1c097ac749d2a41458d06234b"
   },
   "outputs": [],
   "source": [
    "# frequency plot\n",
    "sns.countplot(x=dataround['AGE'])"
   ]
  },
  {
   "cell_type": "markdown",
   "metadata": {
    "_uuid": "293cbab7ccc792be8215b052624d7b6c4355efa4"
   },
   "source": [
    "**Operaciones mas comunes por grupo de edad**"
   ]
  },
  {
   "cell_type": "code",
   "execution_count": null,
   "metadata": {},
   "outputs": [],
   "source": [
    "res = dataround.groupby(['AGE', 'CATEGORY_NAME'], as_index=False)['SEX'].count()\\\n",
    "        .sort_values('SEX', ascending=False)\\\n",
    "        .drop_duplicates('AGE')\\\n",
    "        .sort_values('AGE')\n",
    "        \n",
    "res"
   ]
  },
  {
   "cell_type": "markdown",
   "metadata": {},
   "source": [
    "#### Unir dataframes\n",
    "\n",
    "Vamos a descargar la tabla de distritos del estado de Andhra Pradesh (https://en.wikipedia.org/wiki/List_of_districts_of_Andhra_Pradesh) con algunas variables adicionales, para pegarle datos del dataframe original a nivel distrito."
   ]
  },
  {
   "cell_type": "code",
   "execution_count": null,
   "metadata": {},
   "outputs": [],
   "source": [
    "wiki_url = 'https://en.wikipedia.org/wiki/List_of_districts_of_Andhra_Pradesh'\n",
    "df_wiki = pd.read_html(wiki_url, header=0)[1]\n",
    "df_wiki"
   ]
  },
  {
   "cell_type": "markdown",
   "metadata": {},
   "source": [
    "Vamos a agregar ua columna en la tabla extraída de wikipedia con la cantidad de personas de cada Distrito, que aparece en la base del programa de salud.\n",
    "\n",
    "Para poder hacerlo, vamos a crear un nuevo dataframe que es el resultado de agrupar en la base del programa la cantidad de registros por distrito."
   ]
  },
  {
   "cell_type": "code",
   "execution_count": null,
   "metadata": {},
   "outputs": [],
   "source": [
    "df_new = data.groupby(['HOSP_DISTRICT'])['AGE'].count().reset_index()\n",
    "df_new"
   ]
  },
  {
   "cell_type": "markdown",
   "metadata": {},
   "source": [
    "Vamos a cambiar el nombre de la columna AGE:"
   ]
  },
  {
   "cell_type": "code",
   "execution_count": null,
   "metadata": {},
   "outputs": [],
   "source": [
    "df_new.rename(columns = {'AGE': 'Cantidad de Personas en el program'}, \n",
    "                inplace = True)"
   ]
  },
  {
   "cell_type": "code",
   "execution_count": null,
   "metadata": {},
   "outputs": [],
   "source": [
    "df_merged = pd.merge(df_wiki,\n",
    "                    df_new,\n",
    "                    left_on = 'Official name',\n",
    "                    right_on = 'HOSP_DISTRICT',\n",
    "                    how = 'left')"
   ]
  },
  {
   "cell_type": "code",
   "execution_count": null,
   "metadata": {},
   "outputs": [],
   "source": [
    "df_merged.reset_index()"
   ]
  },
  {
   "cell_type": "markdown",
   "metadata": {},
   "source": [
    "Borramos la columna HOSP_DISTRICT"
   ]
  },
  {
   "cell_type": "code",
   "execution_count": null,
   "metadata": {},
   "outputs": [],
   "source": [
    "df_merged = df_merged[['Code[10]', 'Official name', 'Headquarters', 'Revenuedivisions',\n",
    "       'Mandals', 'Population', 'Area(in sq.km)', 'Density(per sq.km)', 'Cantidad de Personas en el program']]"
   ]
  },
  {
   "cell_type": "code",
   "execution_count": null,
   "metadata": {},
   "outputs": [],
   "source": [
    "df_merged"
   ]
  },
  {
   "cell_type": "markdown",
   "metadata": {},
   "source": [
    "\n",
    "Reemplazar varios valores en una columna\n",
    "\n",
    "Sumar columnas y generar nuevas"
   ]
  },
  {
   "cell_type": "markdown",
   "metadata": {},
   "source": [
    "### Anomalías\n",
    "Fuente: https://towardsdatascience.com/5-ways-to-detect-outliers-that-every-data-scientist-should-know-python-code-70a54335a623"
   ]
  },
  {
   "cell_type": "code",
   "execution_count": null,
   "metadata": {},
   "outputs": [],
   "source": [
    "# Leemos el dataset\n",
    "# data = pd.read_csv('data/ntrarogyaseva_cut.csv')"
   ]
  },
  {
   "cell_type": "code",
   "execution_count": null,
   "metadata": {
    "scrolled": true
   },
   "outputs": [],
   "source": [
    "plt.figure(figsize=(20, 6))\n",
    "sns.lineplot(data=data, x=\"AGE\", y=\"CLAIM_AMOUNT\", ci=95, hue=\"Mortality Y / N\")\n",
    "# sns.scatterplot(x='AGE', \n",
    "#              y='CLAIM_AMOUNT', \n",
    "#              data=data, \n",
    "#              color='g')"
   ]
  },
  {
   "cell_type": "code",
   "execution_count": null,
   "metadata": {},
   "outputs": [],
   "source": [
    "data"
   ]
  },
  {
   "cell_type": "code",
   "execution_count": null,
   "metadata": {},
   "outputs": [],
   "source": [
    "# Reducimos el DF para trabajar con mayor velocidad\n",
    "# d1 = pd.to_datetime('2016-06-01')\n",
    "# data_graph = data.loc[data['PREAUTH_DATE']<d1]\n",
    "\n",
    "data_graph = data.loc[data['SURGERY_DATE']>'28/12/2016 00:00:00']\n",
    "\n",
    "#data_graph = data_graph.copy()\n",
    "data_graph.shape"
   ]
  },
  {
   "cell_type": "code",
   "execution_count": null,
   "metadata": {},
   "outputs": [],
   "source": [
    "plt.figure(figsize=(20, 6))\n",
    "ax = sns.lineplot(data=data_graph, x=\"SURGERY_DATE\", y=\"CLAIM_AMOUNT\")\n",
    "plt.xticks(rotation=45); # el ; oculta el texto previo al gráfico. El mismo resultado se logra con plt.show()"
   ]
  },
  {
   "cell_type": "code",
   "execution_count": null,
   "metadata": {},
   "outputs": [],
   "source": [
    "data_graph.sort_values(by='SURGERY_DATE', ascending=False)\n",
    "data_graph['CLAIM_AMOUNT_min'] = data_graph['CLAIM_AMOUNT'].rolling(5).mean() - 3*data_graph['CLAIM_AMOUNT'].rolling(5).std()\n",
    "data_graph['CLAIM_AMOUNT_max'] = data_graph['CLAIM_AMOUNT'].rolling(5).mean() + 3*data_graph['CLAIM_AMOUNT'].rolling(5).std()\n",
    "data_graph['CLAIM_AMOUNT_RM'] = data_graph['CLAIM_AMOUNT'].rolling(5).mean()\n",
    "\n",
    "#data_graph['CLAIM_AMOUNT_min'] = data_graph['CLAIM_AMOUNT'] - 3*data_graph['CLAIM_AMOUNT']\n",
    "#data_graph['CLAIM_AMOUNT_max'] = data_graph['CLAIM_AMOUNT'] + 3*data_graph['CLAIM_AMOUNT']\n",
    "# data_graph['CLAIM_AMOUNT_RM'] = data_graph['CLAIM_AMOUNT'].rolling(5).mean()"
   ]
  },
  {
   "cell_type": "code",
   "execution_count": null,
   "metadata": {},
   "outputs": [],
   "source": [
    "fig, ax = plt.subplots(figsize=(20, 6))\n",
    "\n",
    "sns.lineplot(x='SURGERY_DATE',\n",
    "             y='CLAIM_AMOUNT_max',\n",
    "             data=data_graph,\n",
    "             ci=False)\n",
    "\n",
    "sns.lineplot(x='SURGERY_DATE',\n",
    "             y='CLAIM_AMOUNT_min',\n",
    "             data=data_graph,\n",
    "             color='y',\n",
    "             ci=False)\n",
    "\n",
    "sns.lineplot(x='SURGERY_DATE', \n",
    "             y='CLAIM_AMOUNT', \n",
    "             data=data_graph, \n",
    "             color='g')\n",
    "\n",
    "sns.scatterplot(x='SURGERY_DATE', \n",
    "             y='CLAIM_AMOUNT', \n",
    "             data=data_graph, \n",
    "             color='g')\n",
    "\n",
    "# ax.axes.set_title(\"Date and Claim Amount\",fontsize=20)\n",
    "# ax.set_xlabel(\"Date\",fontsize=15)\n",
    "# ax.set_ylabel(\"Claim Amount\",fontsize=15)\n",
    "# ax.tick_params(labelsize=5)\n",
    "# plt.xticks(rotation=45)\n",
    "\n",
    "plt.show()"
   ]
  },
  {
   "cell_type": "code",
   "execution_count": null,
   "metadata": {},
   "outputs": [],
   "source": [
    "# Agrupamos los datos por fecha, con el promedio del CLAIM_AMOUNT\n",
    "graph = data_graph.groupby(['SURGERY_DATE']).agg({'CLAIM_AMOUNT': 'mean'}).reset_index()\n",
    "\n",
    "# Calculamos el la media movil para el CLAIM_AMOUNT y -+ 3 desvíos\n",
    "graph.sort_values(by='SURGERY_DATE', ascending=False)\n",
    "graph['CLAIM_AMOUNT_min'] = graph['CLAIM_AMOUNT'].rolling(5).mean() - 3*graph['CLAIM_AMOUNT'].rolling(5).std()\n",
    "graph['CLAIM_AMOUNT_max'] = graph['CLAIM_AMOUNT'].rolling(5).mean() + 3*graph['CLAIM_AMOUNT'].rolling(5).std()\n",
    "graph['CLAIM_AMOUNT_RM'] = graph['CLAIM_AMOUNT'].rolling(5).mean()\n",
    "\n",
    "fig, ax = plt.subplots(figsize=(20, 6))\n",
    "\n",
    "sns.lineplot(x='SURGERY_DATE',\n",
    "             y='CLAIM_AMOUNT_max',\n",
    "             data=graph,\n",
    "             ci=False)\n",
    "\n",
    "sns.lineplot(x='SURGERY_DATE',\n",
    "             y='CLAIM_AMOUNT_min',\n",
    "             data=graph,\n",
    "             color='y',\n",
    "             ci=False)\n",
    "\n",
    "sns.lineplot(x='SURGERY_DATE', \n",
    "             y='CLAIM_AMOUNT_RM', \n",
    "             data=graph, \n",
    "             color='g')\n",
    "\n",
    "sns.scatterplot(x='SURGERY_DATE', \n",
    "             y='CLAIM_AMOUNT', \n",
    "             data=data_graph, \n",
    "             color='g');"
   ]
  },
  {
   "cell_type": "markdown",
   "metadata": {},
   "source": [
    "#### Eliminar outliers"
   ]
  },
  {
   "cell_type": "markdown",
   "metadata": {},
   "source": [
    "- Computamos el Z-score para la columna seleccionada, relativo a la media y al STD de esa columna\n",
    "- Tomamos el valor absoluto del Z-score.\n",
    "\n",
    "Si queremos calcular para todas las variables\n",
    "- df[(np.abs(stats.zscore(df)) < 3).all(axis=1)]\n",
    "  \n",
    "_all(axis=1)_  garantiza qeu para cada fila, todas las columnas satisfacen la restricciónensures that for each row, all column satisfy the constraint.\n"
   ]
  },
  {
   "cell_type": "code",
   "execution_count": null,
   "metadata": {},
   "outputs": [],
   "source": [
    "from scipy import stats\n",
    "import numpy as np\n",
    "# graph_graph = data_graph.groupby(['SURGERY_DATE']).agg({'CLAIM_AMOUNT': 'mean'}).reset_index()\n",
    "\n",
    "data_graph = data_graph[(np.abs(stats.zscore(data_graph['CLAIM_AMOUNT'])) < 3)]"
   ]
  },
  {
   "cell_type": "code",
   "execution_count": null,
   "metadata": {},
   "outputs": [],
   "source": [
    "fig, ax = plt.subplots(figsize=(20, 6))\n",
    "\n",
    "sns.boxplot(x=data_graph['DISTRICT_NAME'], y=data_graph['CLAIM_AMOUNT']);"
   ]
  },
  {
   "cell_type": "code",
   "execution_count": null,
   "metadata": {},
   "outputs": [],
   "source": [
    "# Graficamos las series sin los valores que exceden el z-score\n",
    "fig, ax = plt.subplots(figsize=(20, 6))\n",
    "\n",
    "sns.lineplot(x='SURGERY_DATE',\n",
    "             y='CLAIM_AMOUNT_max',\n",
    "             data=data_graph,\n",
    "             ci=False)\n",
    "\n",
    "sns.lineplot(x='SURGERY_DATE',\n",
    "             y='CLAIM_AMOUNT_min',\n",
    "             data=data_graph,\n",
    "             color='y',\n",
    "             ci=False)\n",
    "\n",
    "sns.lineplot(x='SURGERY_DATE', \n",
    "             y='CLAIM_AMOUNT_RM', \n",
    "             data=data_graph, \n",
    "             color='g',\n",
    "             ci=False)\n",
    "\n",
    "sns.scatterplot(x='SURGERY_DATE', \n",
    "             y='CLAIM_AMOUNT', \n",
    "             data=data_graph, \n",
    "             color='g');"
   ]
  },
  {
   "cell_type": "markdown",
   "metadata": {},
   "source": [
    "### Exportar Notebook \n",
    "Primero, obtenemos el nombre del archivo"
   ]
  },
  {
   "cell_type": "code",
   "execution_count": null,
   "metadata": {},
   "outputs": [],
   "source": [
    "%%javascript\n",
    "IPython.notebook.kernel.execute('nb_name = \"' + IPython.notebook.notebook_name + '\"')"
   ]
  },
  {
   "cell_type": "markdown",
   "metadata": {},
   "source": [
    "Exportamos todo el notebook. Código y resultados"
   ]
  },
  {
   "cell_type": "code",
   "execution_count": null,
   "metadata": {},
   "outputs": [],
   "source": [
    "!jupyter nbconvert --TagRemovePreprocessor.enabled=True --to html $nb_name "
   ]
  },
  {
   "cell_type": "markdown",
   "metadata": {},
   "source": [
    "Exportamos solo los resultados"
   ]
  },
  {
   "cell_type": "code",
   "execution_count": null,
   "metadata": {},
   "outputs": [],
   "source": [
    "!jupyter nbconvert --TagRemovePreprocessor.enabled=True --no-input --to html $nb_name "
   ]
  },
  {
   "cell_type": "markdown",
   "metadata": {},
   "source": [
    "Exportamos solo resultados, y sólo celdas que no tengan _tag=no_"
   ]
  },
  {
   "cell_type": "code",
   "execution_count": null,
   "metadata": {},
   "outputs": [],
   "source": [
    "!jupyter nbconvert --TagRemovePreprocessor.enabled=True --TagRemovePreprocessor.remove_cell_tags='{\"no\"}' --no-input --to html $nb_name "
   ]
  },
  {
   "cell_type": "code",
   "execution_count": null,
   "metadata": {},
   "outputs": [],
   "source": []
  },
  {
   "cell_type": "markdown",
   "metadata": {},
   "source": [
    "### MAPA"
   ]
  },
  {
   "cell_type": "code",
   "execution_count": null,
   "metadata": {},
   "outputs": [],
   "source": [
    "import geopandas"
   ]
  },
  {
   "cell_type": "code",
   "execution_count": null,
   "metadata": {},
   "outputs": [],
   "source": [
    "df = geopandas.read_file('Census_2011/2011_Dist.shp')"
   ]
  },
  {
   "cell_type": "code",
   "execution_count": null,
   "metadata": {},
   "outputs": [],
   "source": [
    "type(df)"
   ]
  },
  {
   "cell_type": "code",
   "execution_count": null,
   "metadata": {},
   "outputs": [],
   "source": [
    "df['geometry'].plot()"
   ]
  },
  {
   "cell_type": "code",
   "execution_count": null,
   "metadata": {},
   "outputs": [],
   "source": [
    "df = pd.merge(df,\n",
    "              df_merged,\n",
    "              left_on = 'DISTRICT',\n",
    "              right_on ='Official name',\n",
    "              how = 'left'\n",
    "             )"
   ]
  },
  {
   "cell_type": "code",
   "execution_count": null,
   "metadata": {},
   "outputs": [],
   "source": [
    "df = df.loc[df['Population']>0]"
   ]
  },
  {
   "cell_type": "code",
   "execution_count": null,
   "metadata": {},
   "outputs": [],
   "source": [
    "fig, ax = plt.subplots(1, figsize=(10,6))\n",
    "df.plot(column='Population', cmap='Blues', linewidth=1, ax=ax, edgecolor='0.9', legend = True)\n",
    "ax.axis('off')"
   ]
  },
  {
   "cell_type": "code",
   "execution_count": null,
   "metadata": {},
   "outputs": [],
   "source": []
  }
 ],
 "metadata": {
  "hide_input": false,
  "kernelspec": {
   "display_name": "Python 3 (ipykernel)",
   "language": "python",
   "name": "python3"
  },
  "language_info": {
   "codemirror_mode": {
    "name": "ipython",
    "version": 3
   },
   "file_extension": ".py",
   "mimetype": "text/x-python",
   "name": "python",
   "nbconvert_exporter": "python",
   "pygments_lexer": "ipython3",
   "version": "3.10.4"
  }
 },
 "nbformat": 4,
 "nbformat_minor": 1
}
