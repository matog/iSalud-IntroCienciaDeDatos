{
  "cells": [
    {
      "cell_type": "markdown",
      "metadata": {
        "id": "99dXiFq8oJgk"
      },
      "source": [
        "![alt text](iSalud_Covecare.png 'Logo')"
      ]
    },
    {
      "cell_type": "markdown",
      "metadata": {
        "id": "uq01ELiKoJgn"
      },
      "source": [
        "Este notebook se realizó tomando como base:\n",
        "- https://www.kaggle.com/kashnitsky/a2-demo-analyzing-cardiovascular-data-solution\n",
        "- https://www.kaggle.com/sulianova/eda-cardiovascular-data"
      ]
    },
    {
      "cell_type": "markdown",
      "metadata": {
        "_uuid": "db8dfe3cf8a24964acc7d4f832e8cba1cbf8ffe8",
        "id": "dhUwttLgoJgq"
      },
      "source": [
        "## EDA de datos de enfermedades cardiovasculares"
      ]
    },
    {
      "cell_type": "markdown",
      "metadata": {
        "_uuid": "db8dfe3cf8a24964acc7d4f832e8cba1cbf8ffe8",
        "id": "JpCC9pfKoJgr"
      },
      "source": [
        "El dataset contiene 70.000 registros de pacientes en 12 variables o _features_ (edad, sexo, systolic blood pressure, diastolic blood pressure, and etc). La clase \"cardio\" toma el valor 1 cuando el paciente tuvo una enfermedad cardiovascular y 0 si el paciente es saludable.\n",
        "\n",
        "#### Descripción de los datos\n",
        "\n",
        "Hay 3 tipos de variablesut features:\n",
        "\n",
        "- *Objetivas*: factual information;\n",
        "- *caracteristica de examen*: results of medical examination;\n",
        "- *subjetivas*: information given by the patient.\n",
        "\n",
        "| Feature | Variable Type | Variable      | Value Type |\n",
        "|---------|--------------|---------------|------------|\n",
        "| Age | Objective Feature | age | int (days) |\n",
        "| Height | Objective Feature | height | int (cm) |\n",
        "| Weight | Objective Feature | weight | float (kg) |\n",
        "| Gender | Objective Feature | gender | categorical code |\n",
        "| Systolic blood pressure | Examination Feature | ap_hi | int |\n",
        "| Diastolic blood pressure | Examination Feature | ap_lo | int |\n",
        "| Cholesterol | Examination Feature | cholesterol | 1: normal, 2: above normal, 3: well above normal |\n",
        "| Glucose | Examination Feature | gluc | 1: normal, 2: above normal, 3: well above normal |\n",
        "| Smoking | Subjective Feature | smoke | binary |\n",
        "| Alcohol intake | Subjective Feature | alco | binary |\n",
        "| Physical activity | Subjective Feature | active | binary |\n",
        "| Presence or absence of cardiovascular disease | Target Variable | cardio | binary |"
      ]
    },
    {
      "cell_type": "markdown",
      "metadata": {
        "_uuid": "db8dfe3cf8a24964acc7d4f832e8cba1cbf8ffe8",
        "heading_collapsed": true,
        "id": "o411t-cqoJgt"
      },
      "source": [
        "### Analisis inicial"
      ]
    },
    {
      "cell_type": "code",
      "execution_count": 1,
      "metadata": {
        "_cell_guid": "b1076dfc-b9ad-4769-8c92-a6c4dae69d19",
        "_uuid": "8f2839f25d086af736a60e9eeb907d3b93b6e0e5",
        "hidden": true,
        "id": "_Dqf3x2ToJgu"
      },
      "outputs": [],
      "source": [
        "import pandas as pd  #importamos el modulo pandas, y lo vamos a llamar pd\n",
        "import seaborn as sns  # importamos el modulo seaborn, y lo llamamos sns\n",
        "from matplotlib import pyplot as plt\n",
        "\n",
        "df = pd.read_csv(\n",
        "    \"https://github.com/matog/iSalud-IntroCienciaDeDatos/raw/main/cardio_train.zip\", sep=\";\"\n",
        ")  # Leemos el dataset llamado cardio_train, e indicamos que la separación de los datos se hace con ;"
      ]
    },
    {
      "cell_type": "code",
      "execution_count": null,
      "metadata": {
        "hidden": true,
        "id": "wv2g4V_roJgw",
        "outputId": "60a0d390-0858-4876-dc40-037f9d6fbf87"
      },
      "outputs": [
        {
          "data": {
            "text/plain": [
              "(70000, 13)"
            ]
          },
          "execution_count": 143,
          "metadata": {},
          "output_type": "execute_result"
        }
      ],
      "source": [
        "df.shape"
      ]
    },
    {
      "cell_type": "code",
      "execution_count": null,
      "metadata": {
        "hidden": true,
        "id": "jgAx56lloJgw",
        "outputId": "80dc5cf2-0bdf-447c-a8d1-45e2c0dcef6f"
      },
      "outputs": [
        {
          "data": {
            "text/plain": [
              "70000"
            ]
          },
          "execution_count": 144,
          "metadata": {},
          "output_type": "execute_result"
        }
      ],
      "source": [
        "df.shape[0] # Como shape tiene dos argumentos, podemos imprimir cada uno indicando la posición"
      ]
    },
    {
      "cell_type": "code",
      "execution_count": null,
      "metadata": {
        "hidden": true,
        "id": "t326vowmoJgy",
        "outputId": "025e423f-6c79-47e2-b6ea-be8207e21f9c"
      },
      "outputs": [
        {
          "data": {
            "text/html": [
              "<div>\n",
              "<style scoped>\n",
              "    .dataframe tbody tr th:only-of-type {\n",
              "        vertical-align: middle;\n",
              "    }\n",
              "\n",
              "    .dataframe tbody tr th {\n",
              "        vertical-align: top;\n",
              "    }\n",
              "\n",
              "    .dataframe thead th {\n",
              "        text-align: right;\n",
              "    }\n",
              "</style>\n",
              "<table border=\"1\" class=\"dataframe\">\n",
              "  <thead>\n",
              "    <tr style=\"text-align: right;\">\n",
              "      <th></th>\n",
              "      <th>id</th>\n",
              "      <th>age</th>\n",
              "      <th>gender</th>\n",
              "      <th>height</th>\n",
              "      <th>weight</th>\n",
              "      <th>ap_hi</th>\n",
              "      <th>ap_lo</th>\n",
              "      <th>cholesterol</th>\n",
              "      <th>gluc</th>\n",
              "      <th>smoke</th>\n",
              "      <th>alco</th>\n",
              "      <th>active</th>\n",
              "      <th>cardio</th>\n",
              "    </tr>\n",
              "  </thead>\n",
              "  <tbody>\n",
              "    <tr>\n",
              "      <th>0</th>\n",
              "      <td>0</td>\n",
              "      <td>18393</td>\n",
              "      <td>2</td>\n",
              "      <td>168</td>\n",
              "      <td>62.00</td>\n",
              "      <td>110</td>\n",
              "      <td>80</td>\n",
              "      <td>1</td>\n",
              "      <td>1</td>\n",
              "      <td>0</td>\n",
              "      <td>0</td>\n",
              "      <td>1</td>\n",
              "      <td>0</td>\n",
              "    </tr>\n",
              "    <tr>\n",
              "      <th>1</th>\n",
              "      <td>1</td>\n",
              "      <td>20228</td>\n",
              "      <td>1</td>\n",
              "      <td>156</td>\n",
              "      <td>85.00</td>\n",
              "      <td>140</td>\n",
              "      <td>90</td>\n",
              "      <td>3</td>\n",
              "      <td>1</td>\n",
              "      <td>0</td>\n",
              "      <td>0</td>\n",
              "      <td>1</td>\n",
              "      <td>1</td>\n",
              "    </tr>\n",
              "    <tr>\n",
              "      <th>2</th>\n",
              "      <td>2</td>\n",
              "      <td>18857</td>\n",
              "      <td>1</td>\n",
              "      <td>165</td>\n",
              "      <td>64.00</td>\n",
              "      <td>130</td>\n",
              "      <td>70</td>\n",
              "      <td>3</td>\n",
              "      <td>1</td>\n",
              "      <td>0</td>\n",
              "      <td>0</td>\n",
              "      <td>0</td>\n",
              "      <td>1</td>\n",
              "    </tr>\n",
              "    <tr>\n",
              "      <th>3</th>\n",
              "      <td>3</td>\n",
              "      <td>17623</td>\n",
              "      <td>2</td>\n",
              "      <td>169</td>\n",
              "      <td>82.00</td>\n",
              "      <td>150</td>\n",
              "      <td>100</td>\n",
              "      <td>1</td>\n",
              "      <td>1</td>\n",
              "      <td>0</td>\n",
              "      <td>0</td>\n",
              "      <td>1</td>\n",
              "      <td>1</td>\n",
              "    </tr>\n",
              "    <tr>\n",
              "      <th>4</th>\n",
              "      <td>4</td>\n",
              "      <td>17474</td>\n",
              "      <td>1</td>\n",
              "      <td>156</td>\n",
              "      <td>56.00</td>\n",
              "      <td>100</td>\n",
              "      <td>60</td>\n",
              "      <td>1</td>\n",
              "      <td>1</td>\n",
              "      <td>0</td>\n",
              "      <td>0</td>\n",
              "      <td>0</td>\n",
              "      <td>0</td>\n",
              "    </tr>\n",
              "  </tbody>\n",
              "</table>\n",
              "</div>"
            ],
            "text/plain": [
              "   id    age  gender  height  weight  ap_hi  ap_lo  cholesterol  gluc  smoke  \\\n",
              "0   0  18393       2     168   62.00    110     80            1     1      0   \n",
              "1   1  20228       1     156   85.00    140     90            3     1      0   \n",
              "2   2  18857       1     165   64.00    130     70            3     1      0   \n",
              "3   3  17623       2     169   82.00    150    100            1     1      0   \n",
              "4   4  17474       1     156   56.00    100     60            1     1      0   \n",
              "\n",
              "   alco  active  cardio  \n",
              "0     0       1       0  \n",
              "1     0       1       1  \n",
              "2     0       0       1  \n",
              "3     0       1       1  \n",
              "4     0       0       0  "
            ]
          },
          "execution_count": 145,
          "metadata": {},
          "output_type": "execute_result"
        }
      ],
      "source": [
        "df.head()"
      ]
    },
    {
      "cell_type": "markdown",
      "metadata": {
        "_uuid": "5ba11ab7bcc335fd3f5ef2b52b303a8c34b1051e",
        "hidden": true,
        "id": "D91EZ7QxoJgz"
      },
      "source": [
        "#### Análisis univariado\n",
        "Para comenzar a entender los datos, primero necesitamos saber que tipo de datos son. Esto se realiza con la función `info()`:"
      ]
    },
    {
      "cell_type": "code",
      "execution_count": null,
      "metadata": {
        "_uuid": "ec92a220aabb9596f24376fb51177fd3cd497c31",
        "hidden": true,
        "id": "xPw_4HCnoJg0",
        "outputId": "183e0b6f-97a3-4f64-825c-abeedb8a93c6"
      },
      "outputs": [
        {
          "name": "stdout",
          "output_type": "stream",
          "text": [
            "<class 'pandas.core.frame.DataFrame'>\n",
            "RangeIndex: 70000 entries, 0 to 69999\n",
            "Data columns (total 13 columns):\n",
            " #   Column       Non-Null Count  Dtype  \n",
            "---  ------       --------------  -----  \n",
            " 0   id           70000 non-null  int64  \n",
            " 1   age          70000 non-null  int64  \n",
            " 2   gender       70000 non-null  int64  \n",
            " 3   height       70000 non-null  int64  \n",
            " 4   weight       70000 non-null  float64\n",
            " 5   ap_hi        70000 non-null  int64  \n",
            " 6   ap_lo        70000 non-null  int64  \n",
            " 7   cholesterol  70000 non-null  int64  \n",
            " 8   gluc         70000 non-null  int64  \n",
            " 9   smoke        70000 non-null  int64  \n",
            " 10  alco         70000 non-null  int64  \n",
            " 11  active       70000 non-null  int64  \n",
            " 12  cardio       70000 non-null  int64  \n",
            "dtypes: float64(1), int64(12)\n",
            "memory usage: 6.9 MB\n"
          ]
        }
      ],
      "source": [
        "df.info()"
      ]
    },
    {
      "cell_type": "markdown",
      "metadata": {
        "_uuid": "6878ef95cbfd1911879df48e762d2faccc1a7bce",
        "hidden": true,
        "id": "XGwCHpICoJg0"
      },
      "source": [
        "Todas las variables o _features_ son numéricas, 12 _integers_ y 1 número decimal (weight). La segunda columna nos da una idea del tamaño del dataset y cuantas observaciones no contienen valores nulos. Podemos utilizar `describe()` para mostrar algunas estadísticas como `min`, `max`, `mean`,`std` para cada variable (numérica):"
      ]
    },
    {
      "cell_type": "code",
      "execution_count": null,
      "metadata": {
        "_uuid": "841e5cd4156b89e3a70ce8fdd5d0f9253d4b2297",
        "hidden": true,
        "id": "14FqqpgroJg1",
        "outputId": "2e8131ac-eabd-4fc9-fefb-96448ce3d4d7"
      },
      "outputs": [
        {
          "data": {
            "text/html": [
              "<div>\n",
              "<style scoped>\n",
              "    .dataframe tbody tr th:only-of-type {\n",
              "        vertical-align: middle;\n",
              "    }\n",
              "\n",
              "    .dataframe tbody tr th {\n",
              "        vertical-align: top;\n",
              "    }\n",
              "\n",
              "    .dataframe thead th {\n",
              "        text-align: right;\n",
              "    }\n",
              "</style>\n",
              "<table border=\"1\" class=\"dataframe\">\n",
              "  <thead>\n",
              "    <tr style=\"text-align: right;\">\n",
              "      <th></th>\n",
              "      <th>id</th>\n",
              "      <th>age</th>\n",
              "      <th>gender</th>\n",
              "      <th>height</th>\n",
              "      <th>weight</th>\n",
              "      <th>ap_hi</th>\n",
              "      <th>ap_lo</th>\n",
              "      <th>cholesterol</th>\n",
              "      <th>gluc</th>\n",
              "      <th>smoke</th>\n",
              "      <th>alco</th>\n",
              "      <th>active</th>\n",
              "      <th>cardio</th>\n",
              "    </tr>\n",
              "  </thead>\n",
              "  <tbody>\n",
              "    <tr>\n",
              "      <th>count</th>\n",
              "      <td>70,000.00</td>\n",
              "      <td>70,000.00</td>\n",
              "      <td>70,000.00</td>\n",
              "      <td>70,000.00</td>\n",
              "      <td>70,000.00</td>\n",
              "      <td>70,000.00</td>\n",
              "      <td>70,000.00</td>\n",
              "      <td>70,000.00</td>\n",
              "      <td>70,000.00</td>\n",
              "      <td>70,000.00</td>\n",
              "      <td>70,000.00</td>\n",
              "      <td>70,000.00</td>\n",
              "      <td>70,000.00</td>\n",
              "    </tr>\n",
              "    <tr>\n",
              "      <th>mean</th>\n",
              "      <td>49,972.42</td>\n",
              "      <td>19,468.87</td>\n",
              "      <td>1.35</td>\n",
              "      <td>164.36</td>\n",
              "      <td>74.21</td>\n",
              "      <td>128.82</td>\n",
              "      <td>96.63</td>\n",
              "      <td>1.37</td>\n",
              "      <td>1.23</td>\n",
              "      <td>0.09</td>\n",
              "      <td>0.05</td>\n",
              "      <td>0.80</td>\n",
              "      <td>0.50</td>\n",
              "    </tr>\n",
              "    <tr>\n",
              "      <th>std</th>\n",
              "      <td>28,851.30</td>\n",
              "      <td>2,467.25</td>\n",
              "      <td>0.48</td>\n",
              "      <td>8.21</td>\n",
              "      <td>14.40</td>\n",
              "      <td>154.01</td>\n",
              "      <td>188.47</td>\n",
              "      <td>0.68</td>\n",
              "      <td>0.57</td>\n",
              "      <td>0.28</td>\n",
              "      <td>0.23</td>\n",
              "      <td>0.40</td>\n",
              "      <td>0.50</td>\n",
              "    </tr>\n",
              "    <tr>\n",
              "      <th>min</th>\n",
              "      <td>0.00</td>\n",
              "      <td>10,798.00</td>\n",
              "      <td>1.00</td>\n",
              "      <td>55.00</td>\n",
              "      <td>10.00</td>\n",
              "      <td>-150.00</td>\n",
              "      <td>-70.00</td>\n",
              "      <td>1.00</td>\n",
              "      <td>1.00</td>\n",
              "      <td>0.00</td>\n",
              "      <td>0.00</td>\n",
              "      <td>0.00</td>\n",
              "      <td>0.00</td>\n",
              "    </tr>\n",
              "    <tr>\n",
              "      <th>25%</th>\n",
              "      <td>25,006.75</td>\n",
              "      <td>17,664.00</td>\n",
              "      <td>1.00</td>\n",
              "      <td>159.00</td>\n",
              "      <td>65.00</td>\n",
              "      <td>120.00</td>\n",
              "      <td>80.00</td>\n",
              "      <td>1.00</td>\n",
              "      <td>1.00</td>\n",
              "      <td>0.00</td>\n",
              "      <td>0.00</td>\n",
              "      <td>1.00</td>\n",
              "      <td>0.00</td>\n",
              "    </tr>\n",
              "    <tr>\n",
              "      <th>50%</th>\n",
              "      <td>50,001.50</td>\n",
              "      <td>19,703.00</td>\n",
              "      <td>1.00</td>\n",
              "      <td>165.00</td>\n",
              "      <td>72.00</td>\n",
              "      <td>120.00</td>\n",
              "      <td>80.00</td>\n",
              "      <td>1.00</td>\n",
              "      <td>1.00</td>\n",
              "      <td>0.00</td>\n",
              "      <td>0.00</td>\n",
              "      <td>1.00</td>\n",
              "      <td>0.00</td>\n",
              "    </tr>\n",
              "    <tr>\n",
              "      <th>75%</th>\n",
              "      <td>74,889.25</td>\n",
              "      <td>21,327.00</td>\n",
              "      <td>2.00</td>\n",
              "      <td>170.00</td>\n",
              "      <td>82.00</td>\n",
              "      <td>140.00</td>\n",
              "      <td>90.00</td>\n",
              "      <td>2.00</td>\n",
              "      <td>1.00</td>\n",
              "      <td>0.00</td>\n",
              "      <td>0.00</td>\n",
              "      <td>1.00</td>\n",
              "      <td>1.00</td>\n",
              "    </tr>\n",
              "    <tr>\n",
              "      <th>max</th>\n",
              "      <td>99,999.00</td>\n",
              "      <td>23,713.00</td>\n",
              "      <td>2.00</td>\n",
              "      <td>250.00</td>\n",
              "      <td>200.00</td>\n",
              "      <td>16,020.00</td>\n",
              "      <td>11,000.00</td>\n",
              "      <td>3.00</td>\n",
              "      <td>3.00</td>\n",
              "      <td>1.00</td>\n",
              "      <td>1.00</td>\n",
              "      <td>1.00</td>\n",
              "      <td>1.00</td>\n",
              "    </tr>\n",
              "  </tbody>\n",
              "</table>\n",
              "</div>"
            ],
            "text/plain": [
              "             id       age    gender    height    weight     ap_hi     ap_lo  \\\n",
              "count 70,000.00 70,000.00 70,000.00 70,000.00 70,000.00 70,000.00 70,000.00   \n",
              "mean  49,972.42 19,468.87      1.35    164.36     74.21    128.82     96.63   \n",
              "std   28,851.30  2,467.25      0.48      8.21     14.40    154.01    188.47   \n",
              "min        0.00 10,798.00      1.00     55.00     10.00   -150.00    -70.00   \n",
              "25%   25,006.75 17,664.00      1.00    159.00     65.00    120.00     80.00   \n",
              "50%   50,001.50 19,703.00      1.00    165.00     72.00    120.00     80.00   \n",
              "75%   74,889.25 21,327.00      2.00    170.00     82.00    140.00     90.00   \n",
              "max   99,999.00 23,713.00      2.00    250.00    200.00 16,020.00 11,000.00   \n",
              "\n",
              "       cholesterol      gluc     smoke      alco    active    cardio  \n",
              "count    70,000.00 70,000.00 70,000.00 70,000.00 70,000.00 70,000.00  \n",
              "mean          1.37      1.23      0.09      0.05      0.80      0.50  \n",
              "std           0.68      0.57      0.28      0.23      0.40      0.50  \n",
              "min           1.00      1.00      0.00      0.00      0.00      0.00  \n",
              "25%           1.00      1.00      0.00      0.00      1.00      0.00  \n",
              "50%           1.00      1.00      0.00      0.00      1.00      0.00  \n",
              "75%           2.00      1.00      0.00      0.00      1.00      1.00  \n",
              "max           3.00      3.00      1.00      1.00      1.00      1.00  "
            ]
          },
          "execution_count": 148,
          "metadata": {},
          "output_type": "execute_result"
        }
      ],
      "source": [
        "df.describe()"
      ]
    },
    {
      "cell_type": "markdown",
      "metadata": {
        "hidden": true,
        "id": "SAHkFOBpoJg1"
      },
      "source": [
        "#### Nan Values - Valores nulos\n"
      ]
    },
    {
      "cell_type": "markdown",
      "metadata": {
        "_uuid": "db8dfe3cf8a24964acc7d4f832e8cba1cbf8ffe8",
        "hidden": true,
        "id": "mna00xTmoJg2"
      },
      "source": [
        "Verificamos la cantidad de valores nulos que tiene le DF\n"
      ]
    },
    {
      "cell_type": "code",
      "execution_count": null,
      "metadata": {
        "hidden": true,
        "scrolled": false,
        "id": "jjr4-_ZkoJg2",
        "outputId": "0dc597a0-0143-4527-9901-17fbcbb9c0ea"
      },
      "outputs": [
        {
          "data": {
            "text/plain": [
              "id             0\n",
              "age            0\n",
              "gender         0\n",
              "height         0\n",
              "weight         0\n",
              "ap_hi          0\n",
              "ap_lo          0\n",
              "cholesterol    0\n",
              "gluc           0\n",
              "smoke          0\n",
              "alco           0\n",
              "active         0\n",
              "cardio         0\n",
              "dtype: int64"
            ]
          },
          "execution_count": 149,
          "metadata": {},
          "output_type": "execute_result"
        }
      ],
      "source": [
        "df.isna().sum()"
      ]
    },
    {
      "cell_type": "markdown",
      "metadata": {
        "hidden": true,
        "id": "i62MYvlYoJg2"
      },
      "source": [
        "Como muestra la salida anterior, no hay valores nulos en el DF. Pero para hacer mas interesante la práctica, vamos a reemplazar algunos valores de la columna `height`, seleccionados al azar, por `na`"
      ]
    },
    {
      "cell_type": "code",
      "execution_count": null,
      "metadata": {
        "hidden": true,
        "id": "BD_vpdWnoJg3"
      },
      "outputs": [],
      "source": [
        "import random\n",
        "import numpy as np\n",
        "\n",
        "random.seed(3)\n",
        "null_values = random.sample(range(df.shape[0]), 7)"
      ]
    },
    {
      "cell_type": "code",
      "execution_count": null,
      "metadata": {
        "hidden": true,
        "id": "4XEYMWPMoJg3",
        "outputId": "adc759dd-ab81-4a08-ee6c-d594ce9a5bd6"
      },
      "outputs": [
        {
          "data": {
            "text/plain": [
              "[31190, 17094, 48490, 62135, 8588, 1725, 61503]"
            ]
          },
          "execution_count": 151,
          "metadata": {},
          "output_type": "execute_result"
        }
      ],
      "source": [
        "null_values"
      ]
    },
    {
      "cell_type": "code",
      "execution_count": null,
      "metadata": {
        "hidden": true,
        "id": "BYpo-SXeoJg4"
      },
      "outputs": [],
      "source": [
        "df.loc[df.index.isin(null_values),'height'] = np.nan"
      ]
    },
    {
      "cell_type": "code",
      "execution_count": null,
      "metadata": {
        "_uuid": "010df08d1394e4666a485ba4493f6ca511076cd8",
        "hidden": true,
        "id": "xEewyKx3oJg4",
        "outputId": "08218df8-b979-4a76-b9cf-38a3d62082ee"
      },
      "outputs": [
        {
          "data": {
            "text/plain": [
              "7"
            ]
          },
          "execution_count": 153,
          "metadata": {},
          "output_type": "execute_result"
        }
      ],
      "source": [
        "df['height'].isna().sum()"
      ]
    },
    {
      "cell_type": "code",
      "execution_count": null,
      "metadata": {
        "hidden": true,
        "scrolled": true,
        "id": "1QIhhRsIoJg4",
        "outputId": "086db4e3-3e61-4885-b5e6-74f1aff83e2f"
      },
      "outputs": [
        {
          "data": {
            "text/html": [
              "<div>\n",
              "<style scoped>\n",
              "    .dataframe tbody tr th:only-of-type {\n",
              "        vertical-align: middle;\n",
              "    }\n",
              "\n",
              "    .dataframe tbody tr th {\n",
              "        vertical-align: top;\n",
              "    }\n",
              "\n",
              "    .dataframe thead th {\n",
              "        text-align: right;\n",
              "    }\n",
              "</style>\n",
              "<table border=\"1\" class=\"dataframe\">\n",
              "  <thead>\n",
              "    <tr style=\"text-align: right;\">\n",
              "      <th></th>\n",
              "      <th>id</th>\n",
              "      <th>age</th>\n",
              "      <th>gender</th>\n",
              "      <th>height</th>\n",
              "      <th>weight</th>\n",
              "      <th>ap_hi</th>\n",
              "      <th>ap_lo</th>\n",
              "      <th>cholesterol</th>\n",
              "      <th>gluc</th>\n",
              "      <th>smoke</th>\n",
              "      <th>alco</th>\n",
              "      <th>active</th>\n",
              "      <th>cardio</th>\n",
              "    </tr>\n",
              "  </thead>\n",
              "  <tbody>\n",
              "    <tr>\n",
              "      <th>1725</th>\n",
              "      <td>2441</td>\n",
              "      <td>18399</td>\n",
              "      <td>1</td>\n",
              "      <td>NaN</td>\n",
              "      <td>71.00</td>\n",
              "      <td>120</td>\n",
              "      <td>70</td>\n",
              "      <td>1</td>\n",
              "      <td>1</td>\n",
              "      <td>0</td>\n",
              "      <td>0</td>\n",
              "      <td>1</td>\n",
              "      <td>0</td>\n",
              "    </tr>\n",
              "    <tr>\n",
              "      <th>8588</th>\n",
              "      <td>12257</td>\n",
              "      <td>15514</td>\n",
              "      <td>1</td>\n",
              "      <td>NaN</td>\n",
              "      <td>65.00</td>\n",
              "      <td>120</td>\n",
              "      <td>70</td>\n",
              "      <td>1</td>\n",
              "      <td>1</td>\n",
              "      <td>0</td>\n",
              "      <td>0</td>\n",
              "      <td>0</td>\n",
              "      <td>0</td>\n",
              "    </tr>\n",
              "    <tr>\n",
              "      <th>17094</th>\n",
              "      <td>24426</td>\n",
              "      <td>16177</td>\n",
              "      <td>1</td>\n",
              "      <td>NaN</td>\n",
              "      <td>80.00</td>\n",
              "      <td>140</td>\n",
              "      <td>90</td>\n",
              "      <td>1</td>\n",
              "      <td>1</td>\n",
              "      <td>0</td>\n",
              "      <td>0</td>\n",
              "      <td>1</td>\n",
              "      <td>1</td>\n",
              "    </tr>\n",
              "    <tr>\n",
              "      <th>31190</th>\n",
              "      <td>44531</td>\n",
              "      <td>21934</td>\n",
              "      <td>1</td>\n",
              "      <td>NaN</td>\n",
              "      <td>78.00</td>\n",
              "      <td>130</td>\n",
              "      <td>80</td>\n",
              "      <td>1</td>\n",
              "      <td>1</td>\n",
              "      <td>0</td>\n",
              "      <td>0</td>\n",
              "      <td>1</td>\n",
              "      <td>0</td>\n",
              "    </tr>\n",
              "    <tr>\n",
              "      <th>48490</th>\n",
              "      <td>69238</td>\n",
              "      <td>21718</td>\n",
              "      <td>1</td>\n",
              "      <td>NaN</td>\n",
              "      <td>66.00</td>\n",
              "      <td>120</td>\n",
              "      <td>80</td>\n",
              "      <td>1</td>\n",
              "      <td>1</td>\n",
              "      <td>0</td>\n",
              "      <td>0</td>\n",
              "      <td>1</td>\n",
              "      <td>1</td>\n",
              "    </tr>\n",
              "    <tr>\n",
              "      <th>61503</th>\n",
              "      <td>87816</td>\n",
              "      <td>17375</td>\n",
              "      <td>1</td>\n",
              "      <td>NaN</td>\n",
              "      <td>110.00</td>\n",
              "      <td>110</td>\n",
              "      <td>60</td>\n",
              "      <td>1</td>\n",
              "      <td>3</td>\n",
              "      <td>0</td>\n",
              "      <td>0</td>\n",
              "      <td>0</td>\n",
              "      <td>0</td>\n",
              "    </tr>\n",
              "    <tr>\n",
              "      <th>62135</th>\n",
              "      <td>88725</td>\n",
              "      <td>21243</td>\n",
              "      <td>1</td>\n",
              "      <td>NaN</td>\n",
              "      <td>68.00</td>\n",
              "      <td>120</td>\n",
              "      <td>80</td>\n",
              "      <td>1</td>\n",
              "      <td>1</td>\n",
              "      <td>0</td>\n",
              "      <td>0</td>\n",
              "      <td>1</td>\n",
              "      <td>1</td>\n",
              "    </tr>\n",
              "  </tbody>\n",
              "</table>\n",
              "</div>"
            ],
            "text/plain": [
              "          id    age  gender  height  weight  ap_hi  ap_lo  cholesterol  gluc  \\\n",
              "1725    2441  18399       1     NaN   71.00    120     70            1     1   \n",
              "8588   12257  15514       1     NaN   65.00    120     70            1     1   \n",
              "17094  24426  16177       1     NaN   80.00    140     90            1     1   \n",
              "31190  44531  21934       1     NaN   78.00    130     80            1     1   \n",
              "48490  69238  21718       1     NaN   66.00    120     80            1     1   \n",
              "61503  87816  17375       1     NaN  110.00    110     60            1     3   \n",
              "62135  88725  21243       1     NaN   68.00    120     80            1     1   \n",
              "\n",
              "       smoke  alco  active  cardio  \n",
              "1725       0     0       1       0  \n",
              "8588       0     0       0       0  \n",
              "17094      0     0       1       1  \n",
              "31190      0     0       1       0  \n",
              "48490      0     0       1       1  \n",
              "61503      0     0       0       0  \n",
              "62135      0     0       1       1  "
            ]
          },
          "execution_count": 154,
          "metadata": {},
          "output_type": "execute_result"
        }
      ],
      "source": [
        "df.loc[df['height'].isna()]"
      ]
    },
    {
      "cell_type": "markdown",
      "metadata": {
        "hidden": true,
        "id": "OQa0ENX5oJg5"
      },
      "source": [
        "Reemplazamos los valores `nan` por el promedio de la columna `height`"
      ]
    },
    {
      "cell_type": "code",
      "execution_count": null,
      "metadata": {
        "hidden": true,
        "id": "DKZmKA6PoJg5"
      },
      "outputs": [],
      "source": [
        "height_mean = df['height'].mean()"
      ]
    },
    {
      "cell_type": "code",
      "execution_count": null,
      "metadata": {
        "hidden": true,
        "id": "Nxqo5404oJg6",
        "outputId": "5c403e9e-37d9-4e37-92a4-c56b23b75219"
      },
      "outputs": [
        {
          "data": {
            "text/plain": [
              "164.35980740931237"
            ]
          },
          "execution_count": 156,
          "metadata": {},
          "output_type": "execute_result"
        }
      ],
      "source": [
        "height_mean"
      ]
    },
    {
      "cell_type": "code",
      "execution_count": null,
      "metadata": {
        "hidden": true,
        "id": "BCJl8Hr9oJg6"
      },
      "outputs": [],
      "source": [
        "df.loc[df['height'].isna(),'height'] = height_mean"
      ]
    },
    {
      "cell_type": "code",
      "execution_count": null,
      "metadata": {
        "hidden": true,
        "scrolled": true,
        "id": "QDY2ao3LoJg7",
        "outputId": "54a3023c-caaa-4eb4-b21a-f5eaa81eef45"
      },
      "outputs": [
        {
          "data": {
            "text/html": [
              "<div>\n",
              "<style scoped>\n",
              "    .dataframe tbody tr th:only-of-type {\n",
              "        vertical-align: middle;\n",
              "    }\n",
              "\n",
              "    .dataframe tbody tr th {\n",
              "        vertical-align: top;\n",
              "    }\n",
              "\n",
              "    .dataframe thead th {\n",
              "        text-align: right;\n",
              "    }\n",
              "</style>\n",
              "<table border=\"1\" class=\"dataframe\">\n",
              "  <thead>\n",
              "    <tr style=\"text-align: right;\">\n",
              "      <th></th>\n",
              "      <th>id</th>\n",
              "      <th>age</th>\n",
              "      <th>gender</th>\n",
              "      <th>height</th>\n",
              "      <th>weight</th>\n",
              "      <th>ap_hi</th>\n",
              "      <th>ap_lo</th>\n",
              "      <th>cholesterol</th>\n",
              "      <th>gluc</th>\n",
              "      <th>smoke</th>\n",
              "      <th>alco</th>\n",
              "      <th>active</th>\n",
              "      <th>cardio</th>\n",
              "    </tr>\n",
              "  </thead>\n",
              "  <tbody>\n",
              "    <tr>\n",
              "      <th>48490</th>\n",
              "      <td>69238</td>\n",
              "      <td>21718</td>\n",
              "      <td>1</td>\n",
              "      <td>164.36</td>\n",
              "      <td>66.00</td>\n",
              "      <td>120</td>\n",
              "      <td>80</td>\n",
              "      <td>1</td>\n",
              "      <td>1</td>\n",
              "      <td>0</td>\n",
              "      <td>0</td>\n",
              "      <td>1</td>\n",
              "      <td>1</td>\n",
              "    </tr>\n",
              "  </tbody>\n",
              "</table>\n",
              "</div>"
            ],
            "text/plain": [
              "          id    age  gender  height  weight  ap_hi  ap_lo  cholesterol  gluc  \\\n",
              "48490  69238  21718       1  164.36   66.00    120     80            1     1   \n",
              "\n",
              "       smoke  alco  active  cardio  \n",
              "48490      0     0       1       1  "
            ]
          },
          "execution_count": 158,
          "metadata": {},
          "output_type": "execute_result"
        }
      ],
      "source": [
        "# Verificamos que el reemplazo haya sido exitoso\n",
        "df.loc[df['id']==69238]"
      ]
    },
    {
      "cell_type": "code",
      "execution_count": null,
      "metadata": {
        "hidden": true,
        "id": "H5Id1_w0oJg7"
      },
      "outputs": [],
      "source": [
        "pd.options.display.float_format = \"{:,.2f}\".format # Convertimos todos los float a dos decimales"
      ]
    },
    {
      "cell_type": "markdown",
      "metadata": {
        "hidden": true,
        "id": "axsrVGURoJg8"
      },
      "source": [
        "#### Reenombramos columnas"
      ]
    },
    {
      "cell_type": "code",
      "execution_count": null,
      "metadata": {
        "hidden": true,
        "id": "DFFrYULPoJg8"
      },
      "outputs": [],
      "source": [
        "# df.rename(columns={\n",
        "#     \"age\": \"edad\",\n",
        "#     \"gender\": \"sexo\",\n",
        "#     \"height\": \"altura\",\n",
        "#     \"weight\": \"peso\",\n",
        "#     \"ap_hi\":\"sistolica\",\n",
        "#     \"ap_lo\":\"diastolica\",\n",
        "#     \"cholesterol\":\"colesterol\",\n",
        "#     \"gluc\":\"glucosa\",\n",
        "#     \"smoke\":\"fumador\",\n",
        "#     \"alco\":\"alcohol\",\n",
        "#     \"active\":\"actividad_fisica\",\n",
        "#     \"cardio\":\"cardiaco\",\n",
        "# }, inplace = True)"
      ]
    },
    {
      "cell_type": "code",
      "execution_count": null,
      "metadata": {
        "hidden": true,
        "scrolled": true,
        "id": "5eDCB5GCoJg8",
        "outputId": "e9489969-06da-4c18-e293-b048d33917e2"
      },
      "outputs": [
        {
          "data": {
            "text/html": [
              "<div>\n",
              "<style scoped>\n",
              "    .dataframe tbody tr th:only-of-type {\n",
              "        vertical-align: middle;\n",
              "    }\n",
              "\n",
              "    .dataframe tbody tr th {\n",
              "        vertical-align: top;\n",
              "    }\n",
              "\n",
              "    .dataframe thead th {\n",
              "        text-align: right;\n",
              "    }\n",
              "</style>\n",
              "<table border=\"1\" class=\"dataframe\">\n",
              "  <thead>\n",
              "    <tr style=\"text-align: right;\">\n",
              "      <th></th>\n",
              "      <th>id</th>\n",
              "      <th>age</th>\n",
              "      <th>gender</th>\n",
              "      <th>height</th>\n",
              "      <th>weight</th>\n",
              "      <th>ap_hi</th>\n",
              "      <th>ap_lo</th>\n",
              "      <th>cholesterol</th>\n",
              "      <th>gluc</th>\n",
              "      <th>smoke</th>\n",
              "      <th>alco</th>\n",
              "      <th>active</th>\n",
              "      <th>cardio</th>\n",
              "    </tr>\n",
              "  </thead>\n",
              "  <tbody>\n",
              "    <tr>\n",
              "      <th>0</th>\n",
              "      <td>0</td>\n",
              "      <td>18393</td>\n",
              "      <td>2</td>\n",
              "      <td>168.00</td>\n",
              "      <td>62.00</td>\n",
              "      <td>110</td>\n",
              "      <td>80</td>\n",
              "      <td>1</td>\n",
              "      <td>1</td>\n",
              "      <td>0</td>\n",
              "      <td>0</td>\n",
              "      <td>1</td>\n",
              "      <td>0</td>\n",
              "    </tr>\n",
              "    <tr>\n",
              "      <th>1</th>\n",
              "      <td>1</td>\n",
              "      <td>20228</td>\n",
              "      <td>1</td>\n",
              "      <td>156.00</td>\n",
              "      <td>85.00</td>\n",
              "      <td>140</td>\n",
              "      <td>90</td>\n",
              "      <td>3</td>\n",
              "      <td>1</td>\n",
              "      <td>0</td>\n",
              "      <td>0</td>\n",
              "      <td>1</td>\n",
              "      <td>1</td>\n",
              "    </tr>\n",
              "    <tr>\n",
              "      <th>2</th>\n",
              "      <td>2</td>\n",
              "      <td>18857</td>\n",
              "      <td>1</td>\n",
              "      <td>165.00</td>\n",
              "      <td>64.00</td>\n",
              "      <td>130</td>\n",
              "      <td>70</td>\n",
              "      <td>3</td>\n",
              "      <td>1</td>\n",
              "      <td>0</td>\n",
              "      <td>0</td>\n",
              "      <td>0</td>\n",
              "      <td>1</td>\n",
              "    </tr>\n",
              "    <tr>\n",
              "      <th>3</th>\n",
              "      <td>3</td>\n",
              "      <td>17623</td>\n",
              "      <td>2</td>\n",
              "      <td>169.00</td>\n",
              "      <td>82.00</td>\n",
              "      <td>150</td>\n",
              "      <td>100</td>\n",
              "      <td>1</td>\n",
              "      <td>1</td>\n",
              "      <td>0</td>\n",
              "      <td>0</td>\n",
              "      <td>1</td>\n",
              "      <td>1</td>\n",
              "    </tr>\n",
              "    <tr>\n",
              "      <th>4</th>\n",
              "      <td>4</td>\n",
              "      <td>17474</td>\n",
              "      <td>1</td>\n",
              "      <td>156.00</td>\n",
              "      <td>56.00</td>\n",
              "      <td>100</td>\n",
              "      <td>60</td>\n",
              "      <td>1</td>\n",
              "      <td>1</td>\n",
              "      <td>0</td>\n",
              "      <td>0</td>\n",
              "      <td>0</td>\n",
              "      <td>0</td>\n",
              "    </tr>\n",
              "  </tbody>\n",
              "</table>\n",
              "</div>"
            ],
            "text/plain": [
              "   id    age  gender  height  weight  ap_hi  ap_lo  cholesterol  gluc  smoke  \\\n",
              "0   0  18393       2  168.00   62.00    110     80            1     1      0   \n",
              "1   1  20228       1  156.00   85.00    140     90            3     1      0   \n",
              "2   2  18857       1  165.00   64.00    130     70            3     1      0   \n",
              "3   3  17623       2  169.00   82.00    150    100            1     1      0   \n",
              "4   4  17474       1  156.00   56.00    100     60            1     1      0   \n",
              "\n",
              "   alco  active  cardio  \n",
              "0     0       1       0  \n",
              "1     0       1       1  \n",
              "2     0       0       1  \n",
              "3     0       1       1  \n",
              "4     0       0       0  "
            ]
          },
          "execution_count": 161,
          "metadata": {},
          "output_type": "execute_result"
        }
      ],
      "source": [
        "df.head()"
      ]
    },
    {
      "cell_type": "code",
      "execution_count": null,
      "metadata": {
        "hidden": true,
        "scrolled": true,
        "id": "RMDRkvDAoJg9",
        "outputId": "fb267bd7-71fa-42c8-edc5-c6363f699818"
      },
      "outputs": [
        {
          "data": {
            "text/plain": [
              "1    56261\n",
              "0    13739\n",
              "Name: active, dtype: int64"
            ]
          },
          "execution_count": 162,
          "metadata": {},
          "output_type": "execute_result"
        }
      ],
      "source": [
        "df['active'].value_counts()"
      ]
    },
    {
      "cell_type": "markdown",
      "metadata": {
        "hidden": true,
        "id": "1UFZ0pLhoJg9"
      },
      "source": [
        "Convertimos `age`, expresada en dias, en años."
      ]
    },
    {
      "cell_type": "code",
      "execution_count": null,
      "metadata": {
        "hidden": true,
        "id": "uqNf-lScoJg9"
      },
      "outputs": [],
      "source": [
        "df['age_year'] = round(df['age']/365)"
      ]
    },
    {
      "cell_type": "markdown",
      "metadata": {
        "hidden": true,
        "id": "Aj2kwl_VoJg-"
      },
      "source": [
        "Asignamos valores desde un diccionario a las escalas\n",
        "\n",
        "- Alternativa I:"
      ]
    },
    {
      "cell_type": "code",
      "execution_count": null,
      "metadata": {
        "hidden": true,
        "id": "taG07rRjoJg-"
      },
      "outputs": [],
      "source": [
        "dict = {1: 'normal', 2: 'above normal', 3: 'well above normal'}\n",
        "df['cholesterol'] = df['cholesterol'].map(dict)\n",
        "\n",
        "dict = {1: 'CVD', 0: 'No CVD'}\n",
        "df['cardio'] = df['cardio'].map(dict)"
      ]
    },
    {
      "cell_type": "markdown",
      "metadata": {
        "hidden": true,
        "id": "W2FjawyZoJg-"
      },
      "source": [
        "- Alternativa II"
      ]
    },
    {
      "cell_type": "code",
      "execution_count": null,
      "metadata": {
        "hidden": true,
        "id": "Pncri0PsoJg_"
      },
      "outputs": [],
      "source": [
        "cols = ['cholesterol', 'gluc', 'smoke', 'alco', 'active']\n",
        "dict = {1: 'normal', 2: 'above normal', 3: 'well above normal'}\n",
        "\n",
        "# Iteramos por la lista de variables a las cuales le reemplazamos el valor\n",
        "for col in cols:\n",
        "    df[col] = df[col].map(dict)"
      ]
    },
    {
      "cell_type": "markdown",
      "metadata": {
        "hidden": true,
        "id": "MxSayEM6oJg_"
      },
      "source": [
        "- Alternativa III"
      ]
    },
    {
      "cell_type": "code",
      "execution_count": null,
      "metadata": {
        "hidden": true,
        "id": "Qqa8CBAsoJhA"
      },
      "outputs": [],
      "source": [
        "def replace_dict(cols,dict):\n",
        "    for col in cols:\n",
        "        print(dict)\n",
        "        df[col] = df[col].map(dict)"
      ]
    },
    {
      "cell_type": "code",
      "execution_count": null,
      "metadata": {
        "hidden": true,
        "id": "_sSfJO4uoJhA",
        "outputId": "3593f0c8-28ea-4d14-a4a7-4478f57c004a"
      },
      "outputs": [
        {
          "name": "stdout",
          "output_type": "stream",
          "text": [
            "{1: 'normal', 2: 'above normal', 3: 'well above normal'}\n",
            "{1: 'normal', 2: 'above normal', 3: 'well above normal'}\n",
            "{0: 'No', 1: 'Yes'}\n",
            "{0: 'No', 1: 'Yes'}\n",
            "{0: 'No', 1: 'Yes'}\n"
          ]
        }
      ],
      "source": [
        "col_cg = ['cholesterol', 'gluc']\n",
        "dict_cg = {1: 'normal', 2: 'above normal', 3: 'well above normal'}\n",
        "\n",
        "col_saa = ['smoke', 'alco', 'active']\n",
        "dict_saa = {0:'No', 1:'Yes'}\n",
        "\n",
        "replace_dict(col_cg,dict_cg)\n",
        "replace_dict(col_saa,dict_saa)"
      ]
    },
    {
      "cell_type": "markdown",
      "metadata": {
        "_uuid": "c63b756c818d41c246b9391df23cb6362acf3001",
        "hidden": true,
        "id": "eERE6foooJhA"
      },
      "source": [
        "La edad(`age`) está medida en días, la altura(`height`) en centímetros. \n",
        "Vamos a analizar como se compartan las variables según el valor de la clase objetivo.\n",
        "\n",
        "Por ejemplo, a que edad el número de personas con CVD es mayor al número de personas sin CVD?"
      ]
    },
    {
      "cell_type": "code",
      "execution_count": null,
      "metadata": {
        "hidden": true,
        "id": "wfUk0BXRoJhB",
        "outputId": "b52fe7f6-404f-4963-fa4f-aad005cfffbd"
      },
      "outputs": [
        {
          "data": {
            "text/plain": [
              "Index(['id', 'age', 'gender', 'height', 'weight', 'ap_hi', 'ap_lo',\n",
              "       'cholesterol', 'gluc', 'smoke', 'alco', 'active', 'cardio', 'age_year'],\n",
              "      dtype='object')"
            ]
          },
          "execution_count": 168,
          "metadata": {},
          "output_type": "execute_result"
        }
      ],
      "source": [
        "df.columns"
      ]
    },
    {
      "cell_type": "code",
      "execution_count": null,
      "metadata": {
        "_uuid": "5821c84aeb66d917d2504a1429f21b6e2bd03de9",
        "hidden": true,
        "id": "UXU8fF3poJhB",
        "outputId": "82b964ec-ffd0-4278-bb2d-3f24b0ac0a8a"
      },
      "outputs": [
        {
          "data": {
            "text/plain": [
              "<AxesSubplot:xlabel='years', ylabel='count'>"
            ]
          },
          "execution_count": 169,
          "metadata": {},
          "output_type": "execute_result"
        },
        {
          "data": {
            "image/png": "[encoded data removed]",
            "text/plain": [
              "<Figure size 1512x576 with 1 Axes>"
            ]
          },
          "metadata": {
            "needs_background": "light"
          },
          "output_type": "display_data"
        }
      ],
      "source": [
        "from matplotlib import rcParams\n",
        "rcParams['figure.figsize'] = 21, 8\n",
        "\n",
        "\n",
        "df['years'] = (df['age'] / 365).round().astype('int')\n",
        "sns.countplot(x='years', hue='cardio', data=df, palette=\"Set2\")"
      ]
    },
    {
      "cell_type": "markdown",
      "metadata": {
        "_uuid": "3cc8640e4da27cd8d76b5ff0eeffbaa2b6856c2b",
        "hidden": true,
        "id": "hf3Ps_aFoJhB"
      },
      "source": [
        "Se observa qeu las personas mayores de 55 años se encuentran más expuestas al CVD.\n",
        "En la tabla podemos ver qeu existen _outliers_ en `ap_hi`, `ap_lo`, `weight` y `height`. Trabajaremos con esas observaciones mas adelante."
      ]
    },
    {
      "cell_type": "code",
      "execution_count": null,
      "metadata": {
        "_uuid": "e34e1ac671a3f78088ad259fde064994011cd946",
        "hidden": true,
        "id": "0xdqXdYgoJhB",
        "outputId": "ed7c6b88-aec0-40ed-f7fb-67db70d0da91"
      },
      "outputs": [
        {
          "data": {
            "text/html": [
              "<div>\n",
              "<style scoped>\n",
              "    .dataframe tbody tr th:only-of-type {\n",
              "        vertical-align: middle;\n",
              "    }\n",
              "\n",
              "    .dataframe tbody tr th {\n",
              "        vertical-align: top;\n",
              "    }\n",
              "\n",
              "    .dataframe thead th {\n",
              "        text-align: right;\n",
              "    }\n",
              "</style>\n",
              "<table border=\"1\" class=\"dataframe\">\n",
              "  <thead>\n",
              "    <tr style=\"text-align: right;\">\n",
              "      <th></th>\n",
              "      <th>id</th>\n",
              "      <th>age</th>\n",
              "      <th>gender</th>\n",
              "      <th>height</th>\n",
              "      <th>weight</th>\n",
              "      <th>ap_hi</th>\n",
              "      <th>ap_lo</th>\n",
              "      <th>cholesterol</th>\n",
              "      <th>gluc</th>\n",
              "      <th>smoke</th>\n",
              "      <th>alco</th>\n",
              "      <th>active</th>\n",
              "      <th>cardio</th>\n",
              "      <th>age_year</th>\n",
              "      <th>years</th>\n",
              "    </tr>\n",
              "  </thead>\n",
              "  <tbody>\n",
              "    <tr>\n",
              "      <th>0</th>\n",
              "      <td>0</td>\n",
              "      <td>18393</td>\n",
              "      <td>2</td>\n",
              "      <td>168.00</td>\n",
              "      <td>62.00</td>\n",
              "      <td>110</td>\n",
              "      <td>80</td>\n",
              "      <td>NaN</td>\n",
              "      <td>NaN</td>\n",
              "      <td>NaN</td>\n",
              "      <td>NaN</td>\n",
              "      <td>NaN</td>\n",
              "      <td>No CVD</td>\n",
              "      <td>50.00</td>\n",
              "      <td>50</td>\n",
              "    </tr>\n",
              "    <tr>\n",
              "      <th>1</th>\n",
              "      <td>1</td>\n",
              "      <td>20228</td>\n",
              "      <td>1</td>\n",
              "      <td>156.00</td>\n",
              "      <td>85.00</td>\n",
              "      <td>140</td>\n",
              "      <td>90</td>\n",
              "      <td>NaN</td>\n",
              "      <td>NaN</td>\n",
              "      <td>NaN</td>\n",
              "      <td>NaN</td>\n",
              "      <td>NaN</td>\n",
              "      <td>CVD</td>\n",
              "      <td>55.00</td>\n",
              "      <td>55</td>\n",
              "    </tr>\n",
              "    <tr>\n",
              "      <th>2</th>\n",
              "      <td>2</td>\n",
              "      <td>18857</td>\n",
              "      <td>1</td>\n",
              "      <td>165.00</td>\n",
              "      <td>64.00</td>\n",
              "      <td>130</td>\n",
              "      <td>70</td>\n",
              "      <td>NaN</td>\n",
              "      <td>NaN</td>\n",
              "      <td>NaN</td>\n",
              "      <td>NaN</td>\n",
              "      <td>NaN</td>\n",
              "      <td>CVD</td>\n",
              "      <td>52.00</td>\n",
              "      <td>52</td>\n",
              "    </tr>\n",
              "    <tr>\n",
              "      <th>3</th>\n",
              "      <td>3</td>\n",
              "      <td>17623</td>\n",
              "      <td>2</td>\n",
              "      <td>169.00</td>\n",
              "      <td>82.00</td>\n",
              "      <td>150</td>\n",
              "      <td>100</td>\n",
              "      <td>NaN</td>\n",
              "      <td>NaN</td>\n",
              "      <td>NaN</td>\n",
              "      <td>NaN</td>\n",
              "      <td>NaN</td>\n",
              "      <td>CVD</td>\n",
              "      <td>48.00</td>\n",
              "      <td>48</td>\n",
              "    </tr>\n",
              "    <tr>\n",
              "      <th>4</th>\n",
              "      <td>4</td>\n",
              "      <td>17474</td>\n",
              "      <td>1</td>\n",
              "      <td>156.00</td>\n",
              "      <td>56.00</td>\n",
              "      <td>100</td>\n",
              "      <td>60</td>\n",
              "      <td>NaN</td>\n",
              "      <td>NaN</td>\n",
              "      <td>NaN</td>\n",
              "      <td>NaN</td>\n",
              "      <td>NaN</td>\n",
              "      <td>No CVD</td>\n",
              "      <td>48.00</td>\n",
              "      <td>48</td>\n",
              "    </tr>\n",
              "    <tr>\n",
              "      <th>...</th>\n",
              "      <td>...</td>\n",
              "      <td>...</td>\n",
              "      <td>...</td>\n",
              "      <td>...</td>\n",
              "      <td>...</td>\n",
              "      <td>...</td>\n",
              "      <td>...</td>\n",
              "      <td>...</td>\n",
              "      <td>...</td>\n",
              "      <td>...</td>\n",
              "      <td>...</td>\n",
              "      <td>...</td>\n",
              "      <td>...</td>\n",
              "      <td>...</td>\n",
              "      <td>...</td>\n",
              "    </tr>\n",
              "    <tr>\n",
              "      <th>69995</th>\n",
              "      <td>99993</td>\n",
              "      <td>19240</td>\n",
              "      <td>2</td>\n",
              "      <td>168.00</td>\n",
              "      <td>76.00</td>\n",
              "      <td>120</td>\n",
              "      <td>80</td>\n",
              "      <td>NaN</td>\n",
              "      <td>NaN</td>\n",
              "      <td>NaN</td>\n",
              "      <td>NaN</td>\n",
              "      <td>NaN</td>\n",
              "      <td>No CVD</td>\n",
              "      <td>53.00</td>\n",
              "      <td>53</td>\n",
              "    </tr>\n",
              "    <tr>\n",
              "      <th>69996</th>\n",
              "      <td>99995</td>\n",
              "      <td>22601</td>\n",
              "      <td>1</td>\n",
              "      <td>158.00</td>\n",
              "      <td>126.00</td>\n",
              "      <td>140</td>\n",
              "      <td>90</td>\n",
              "      <td>NaN</td>\n",
              "      <td>NaN</td>\n",
              "      <td>NaN</td>\n",
              "      <td>NaN</td>\n",
              "      <td>NaN</td>\n",
              "      <td>CVD</td>\n",
              "      <td>62.00</td>\n",
              "      <td>62</td>\n",
              "    </tr>\n",
              "    <tr>\n",
              "      <th>69997</th>\n",
              "      <td>99996</td>\n",
              "      <td>19066</td>\n",
              "      <td>2</td>\n",
              "      <td>183.00</td>\n",
              "      <td>105.00</td>\n",
              "      <td>180</td>\n",
              "      <td>90</td>\n",
              "      <td>NaN</td>\n",
              "      <td>NaN</td>\n",
              "      <td>NaN</td>\n",
              "      <td>NaN</td>\n",
              "      <td>NaN</td>\n",
              "      <td>CVD</td>\n",
              "      <td>52.00</td>\n",
              "      <td>52</td>\n",
              "    </tr>\n",
              "    <tr>\n",
              "      <th>69998</th>\n",
              "      <td>99998</td>\n",
              "      <td>22431</td>\n",
              "      <td>1</td>\n",
              "      <td>163.00</td>\n",
              "      <td>72.00</td>\n",
              "      <td>135</td>\n",
              "      <td>80</td>\n",
              "      <td>NaN</td>\n",
              "      <td>NaN</td>\n",
              "      <td>NaN</td>\n",
              "      <td>NaN</td>\n",
              "      <td>NaN</td>\n",
              "      <td>CVD</td>\n",
              "      <td>61.00</td>\n",
              "      <td>61</td>\n",
              "    </tr>\n",
              "    <tr>\n",
              "      <th>69999</th>\n",
              "      <td>99999</td>\n",
              "      <td>20540</td>\n",
              "      <td>1</td>\n",
              "      <td>170.00</td>\n",
              "      <td>72.00</td>\n",
              "      <td>120</td>\n",
              "      <td>80</td>\n",
              "      <td>NaN</td>\n",
              "      <td>NaN</td>\n",
              "      <td>NaN</td>\n",
              "      <td>NaN</td>\n",
              "      <td>NaN</td>\n",
              "      <td>No CVD</td>\n",
              "      <td>56.00</td>\n",
              "      <td>56</td>\n",
              "    </tr>\n",
              "  </tbody>\n",
              "</table>\n",
              "<p>70000 rows × 15 columns</p>\n",
              "</div>"
            ],
            "text/plain": [
              "          id    age  gender  height  weight  ap_hi  ap_lo cholesterol gluc  \\\n",
              "0          0  18393       2  168.00   62.00    110     80         NaN  NaN   \n",
              "1          1  20228       1  156.00   85.00    140     90         NaN  NaN   \n",
              "2          2  18857       1  165.00   64.00    130     70         NaN  NaN   \n",
              "3          3  17623       2  169.00   82.00    150    100         NaN  NaN   \n",
              "4          4  17474       1  156.00   56.00    100     60         NaN  NaN   \n",
              "...      ...    ...     ...     ...     ...    ...    ...         ...  ...   \n",
              "69995  99993  19240       2  168.00   76.00    120     80         NaN  NaN   \n",
              "69996  99995  22601       1  158.00  126.00    140     90         NaN  NaN   \n",
              "69997  99996  19066       2  183.00  105.00    180     90         NaN  NaN   \n",
              "69998  99998  22431       1  163.00   72.00    135     80         NaN  NaN   \n",
              "69999  99999  20540       1  170.00   72.00    120     80         NaN  NaN   \n",
              "\n",
              "      smoke alco active  cardio  age_year  years  \n",
              "0       NaN  NaN    NaN  No CVD     50.00     50  \n",
              "1       NaN  NaN    NaN     CVD     55.00     55  \n",
              "2       NaN  NaN    NaN     CVD     52.00     52  \n",
              "3       NaN  NaN    NaN     CVD     48.00     48  \n",
              "4       NaN  NaN    NaN  No CVD     48.00     48  \n",
              "...     ...  ...    ...     ...       ...    ...  \n",
              "69995   NaN  NaN    NaN  No CVD     53.00     53  \n",
              "69996   NaN  NaN    NaN     CVD     62.00     62  \n",
              "69997   NaN  NaN    NaN     CVD     52.00     52  \n",
              "69998   NaN  NaN    NaN     CVD     61.00     61  \n",
              "69999   NaN  NaN    NaN  No CVD     56.00     56  \n",
              "\n",
              "[70000 rows x 15 columns]"
            ]
          },
          "execution_count": 170,
          "metadata": {},
          "output_type": "execute_result"
        }
      ],
      "source": [
        "# Seleccionamos las columnas object\n",
        "df_categorical = df.select_dtypes(include=['object']) # También se puede utilizar EXCLUDE\n",
        "# sns.countplot(x=\"variable\", hue=\"value\",data= pd.melt(df_categorical));\n",
        "df"
      ]
    },
    {
      "cell_type": "markdown",
      "metadata": {
        "hidden": true,
        "id": "F_N2NPfxoJhC"
      },
      "source": [
        "##### Agrupamientos"
      ]
    },
    {
      "cell_type": "code",
      "execution_count": null,
      "metadata": {
        "hidden": true,
        "id": "Wv4JIYFDoJhC",
        "outputId": "093b8e1c-fedd-45de-d626-5b0940b35c2f"
      },
      "outputs": [
        {
          "data": {
            "text/plain": [
              "Series([], Name: active, dtype: int64)"
            ]
          },
          "execution_count": 171,
          "metadata": {},
          "output_type": "execute_result"
        }
      ],
      "source": [
        "df['active'].value_counts()"
      ]
    },
    {
      "cell_type": "code",
      "execution_count": null,
      "metadata": {
        "hidden": true,
        "id": "TkQiDj8hoJhD",
        "outputId": "11a4254b-3d3b-4440-b877-21bc1524b7be"
      },
      "outputs": [
        {
          "data": {
            "text/html": [
              "<div>\n",
              "<style scoped>\n",
              "    .dataframe tbody tr th:only-of-type {\n",
              "        vertical-align: middle;\n",
              "    }\n",
              "\n",
              "    .dataframe tbody tr th {\n",
              "        vertical-align: top;\n",
              "    }\n",
              "\n",
              "    .dataframe thead th {\n",
              "        text-align: right;\n",
              "    }\n",
              "</style>\n",
              "<table border=\"1\" class=\"dataframe\">\n",
              "  <thead>\n",
              "    <tr style=\"text-align: right;\">\n",
              "      <th></th>\n",
              "      <th>id</th>\n",
              "      <th>age</th>\n",
              "      <th>gender</th>\n",
              "      <th>height</th>\n",
              "      <th>weight</th>\n",
              "      <th>ap_hi</th>\n",
              "      <th>ap_lo</th>\n",
              "      <th>age_year</th>\n",
              "      <th>years</th>\n",
              "    </tr>\n",
              "    <tr>\n",
              "      <th>active</th>\n",
              "      <th></th>\n",
              "      <th></th>\n",
              "      <th></th>\n",
              "      <th></th>\n",
              "      <th></th>\n",
              "      <th></th>\n",
              "      <th></th>\n",
              "      <th></th>\n",
              "      <th></th>\n",
              "    </tr>\n",
              "  </thead>\n",
              "  <tbody>\n",
              "  </tbody>\n",
              "</table>\n",
              "</div>"
            ],
            "text/plain": [
              "Empty DataFrame\n",
              "Columns: [id, age, gender, height, weight, ap_hi, ap_lo, age_year, years]\n",
              "Index: []"
            ]
          },
          "execution_count": 172,
          "metadata": {},
          "output_type": "execute_result"
        }
      ],
      "source": [
        "# df.groupby(['gender','active']).sum()\n",
        "df.groupby(['active']).sum()\n",
        "# df.groupby(['gender','active']).agg({'height':'mean', 'smoke':'sum'})"
      ]
    },
    {
      "cell_type": "code",
      "execution_count": null,
      "metadata": {
        "hidden": true,
        "id": "4UWaVoh_oJhD",
        "outputId": "73c35085-0370-4e83-8402-252d979f6bfb"
      },
      "outputs": [
        {
          "data": {
            "text/html": [
              "<div>\n",
              "<style scoped>\n",
              "    .dataframe tbody tr th:only-of-type {\n",
              "        vertical-align: middle;\n",
              "    }\n",
              "\n",
              "    .dataframe tbody tr th {\n",
              "        vertical-align: top;\n",
              "    }\n",
              "\n",
              "    .dataframe thead th {\n",
              "        text-align: right;\n",
              "    }\n",
              "</style>\n",
              "<table border=\"1\" class=\"dataframe\">\n",
              "  <thead>\n",
              "    <tr style=\"text-align: right;\">\n",
              "      <th></th>\n",
              "      <th>id</th>\n",
              "      <th>age</th>\n",
              "      <th>gender</th>\n",
              "      <th>height</th>\n",
              "      <th>weight</th>\n",
              "      <th>ap_hi</th>\n",
              "      <th>ap_lo</th>\n",
              "      <th>cholesterol</th>\n",
              "      <th>gluc</th>\n",
              "      <th>smoke</th>\n",
              "      <th>alco</th>\n",
              "      <th>active</th>\n",
              "      <th>cardio</th>\n",
              "      <th>age_year</th>\n",
              "      <th>years</th>\n",
              "    </tr>\n",
              "  </thead>\n",
              "  <tbody>\n",
              "    <tr>\n",
              "      <th>0</th>\n",
              "      <td>0</td>\n",
              "      <td>18393</td>\n",
              "      <td>2</td>\n",
              "      <td>168.00</td>\n",
              "      <td>62.00</td>\n",
              "      <td>110</td>\n",
              "      <td>80</td>\n",
              "      <td>NaN</td>\n",
              "      <td>NaN</td>\n",
              "      <td>NaN</td>\n",
              "      <td>NaN</td>\n",
              "      <td>NaN</td>\n",
              "      <td>No CVD</td>\n",
              "      <td>50.00</td>\n",
              "      <td>50</td>\n",
              "    </tr>\n",
              "    <tr>\n",
              "      <th>1</th>\n",
              "      <td>1</td>\n",
              "      <td>20228</td>\n",
              "      <td>1</td>\n",
              "      <td>156.00</td>\n",
              "      <td>85.00</td>\n",
              "      <td>140</td>\n",
              "      <td>90</td>\n",
              "      <td>NaN</td>\n",
              "      <td>NaN</td>\n",
              "      <td>NaN</td>\n",
              "      <td>NaN</td>\n",
              "      <td>NaN</td>\n",
              "      <td>CVD</td>\n",
              "      <td>55.00</td>\n",
              "      <td>55</td>\n",
              "    </tr>\n",
              "    <tr>\n",
              "      <th>2</th>\n",
              "      <td>2</td>\n",
              "      <td>18857</td>\n",
              "      <td>1</td>\n",
              "      <td>165.00</td>\n",
              "      <td>64.00</td>\n",
              "      <td>130</td>\n",
              "      <td>70</td>\n",
              "      <td>NaN</td>\n",
              "      <td>NaN</td>\n",
              "      <td>NaN</td>\n",
              "      <td>NaN</td>\n",
              "      <td>NaN</td>\n",
              "      <td>CVD</td>\n",
              "      <td>52.00</td>\n",
              "      <td>52</td>\n",
              "    </tr>\n",
              "    <tr>\n",
              "      <th>3</th>\n",
              "      <td>3</td>\n",
              "      <td>17623</td>\n",
              "      <td>2</td>\n",
              "      <td>169.00</td>\n",
              "      <td>82.00</td>\n",
              "      <td>150</td>\n",
              "      <td>100</td>\n",
              "      <td>NaN</td>\n",
              "      <td>NaN</td>\n",
              "      <td>NaN</td>\n",
              "      <td>NaN</td>\n",
              "      <td>NaN</td>\n",
              "      <td>CVD</td>\n",
              "      <td>48.00</td>\n",
              "      <td>48</td>\n",
              "    </tr>\n",
              "    <tr>\n",
              "      <th>4</th>\n",
              "      <td>4</td>\n",
              "      <td>17474</td>\n",
              "      <td>1</td>\n",
              "      <td>156.00</td>\n",
              "      <td>56.00</td>\n",
              "      <td>100</td>\n",
              "      <td>60</td>\n",
              "      <td>NaN</td>\n",
              "      <td>NaN</td>\n",
              "      <td>NaN</td>\n",
              "      <td>NaN</td>\n",
              "      <td>NaN</td>\n",
              "      <td>No CVD</td>\n",
              "      <td>48.00</td>\n",
              "      <td>48</td>\n",
              "    </tr>\n",
              "    <tr>\n",
              "      <th>...</th>\n",
              "      <td>...</td>\n",
              "      <td>...</td>\n",
              "      <td>...</td>\n",
              "      <td>...</td>\n",
              "      <td>...</td>\n",
              "      <td>...</td>\n",
              "      <td>...</td>\n",
              "      <td>...</td>\n",
              "      <td>...</td>\n",
              "      <td>...</td>\n",
              "      <td>...</td>\n",
              "      <td>...</td>\n",
              "      <td>...</td>\n",
              "      <td>...</td>\n",
              "      <td>...</td>\n",
              "    </tr>\n",
              "    <tr>\n",
              "      <th>69995</th>\n",
              "      <td>99993</td>\n",
              "      <td>19240</td>\n",
              "      <td>2</td>\n",
              "      <td>168.00</td>\n",
              "      <td>76.00</td>\n",
              "      <td>120</td>\n",
              "      <td>80</td>\n",
              "      <td>NaN</td>\n",
              "      <td>NaN</td>\n",
              "      <td>NaN</td>\n",
              "      <td>NaN</td>\n",
              "      <td>NaN</td>\n",
              "      <td>No CVD</td>\n",
              "      <td>53.00</td>\n",
              "      <td>53</td>\n",
              "    </tr>\n",
              "    <tr>\n",
              "      <th>69996</th>\n",
              "      <td>99995</td>\n",
              "      <td>22601</td>\n",
              "      <td>1</td>\n",
              "      <td>158.00</td>\n",
              "      <td>126.00</td>\n",
              "      <td>140</td>\n",
              "      <td>90</td>\n",
              "      <td>NaN</td>\n",
              "      <td>NaN</td>\n",
              "      <td>NaN</td>\n",
              "      <td>NaN</td>\n",
              "      <td>NaN</td>\n",
              "      <td>CVD</td>\n",
              "      <td>62.00</td>\n",
              "      <td>62</td>\n",
              "    </tr>\n",
              "    <tr>\n",
              "      <th>69997</th>\n",
              "      <td>99996</td>\n",
              "      <td>19066</td>\n",
              "      <td>2</td>\n",
              "      <td>183.00</td>\n",
              "      <td>105.00</td>\n",
              "      <td>180</td>\n",
              "      <td>90</td>\n",
              "      <td>NaN</td>\n",
              "      <td>NaN</td>\n",
              "      <td>NaN</td>\n",
              "      <td>NaN</td>\n",
              "      <td>NaN</td>\n",
              "      <td>CVD</td>\n",
              "      <td>52.00</td>\n",
              "      <td>52</td>\n",
              "    </tr>\n",
              "    <tr>\n",
              "      <th>69998</th>\n",
              "      <td>99998</td>\n",
              "      <td>22431</td>\n",
              "      <td>1</td>\n",
              "      <td>163.00</td>\n",
              "      <td>72.00</td>\n",
              "      <td>135</td>\n",
              "      <td>80</td>\n",
              "      <td>NaN</td>\n",
              "      <td>NaN</td>\n",
              "      <td>NaN</td>\n",
              "      <td>NaN</td>\n",
              "      <td>NaN</td>\n",
              "      <td>CVD</td>\n",
              "      <td>61.00</td>\n",
              "      <td>61</td>\n",
              "    </tr>\n",
              "    <tr>\n",
              "      <th>69999</th>\n",
              "      <td>99999</td>\n",
              "      <td>20540</td>\n",
              "      <td>1</td>\n",
              "      <td>170.00</td>\n",
              "      <td>72.00</td>\n",
              "      <td>120</td>\n",
              "      <td>80</td>\n",
              "      <td>NaN</td>\n",
              "      <td>NaN</td>\n",
              "      <td>NaN</td>\n",
              "      <td>NaN</td>\n",
              "      <td>NaN</td>\n",
              "      <td>No CVD</td>\n",
              "      <td>56.00</td>\n",
              "      <td>56</td>\n",
              "    </tr>\n",
              "  </tbody>\n",
              "</table>\n",
              "<p>70000 rows × 15 columns</p>\n",
              "</div>"
            ],
            "text/plain": [
              "          id    age  gender  height  weight  ap_hi  ap_lo cholesterol gluc  \\\n",
              "0          0  18393       2  168.00   62.00    110     80         NaN  NaN   \n",
              "1          1  20228       1  156.00   85.00    140     90         NaN  NaN   \n",
              "2          2  18857       1  165.00   64.00    130     70         NaN  NaN   \n",
              "3          3  17623       2  169.00   82.00    150    100         NaN  NaN   \n",
              "4          4  17474       1  156.00   56.00    100     60         NaN  NaN   \n",
              "...      ...    ...     ...     ...     ...    ...    ...         ...  ...   \n",
              "69995  99993  19240       2  168.00   76.00    120     80         NaN  NaN   \n",
              "69996  99995  22601       1  158.00  126.00    140     90         NaN  NaN   \n",
              "69997  99996  19066       2  183.00  105.00    180     90         NaN  NaN   \n",
              "69998  99998  22431       1  163.00   72.00    135     80         NaN  NaN   \n",
              "69999  99999  20540       1  170.00   72.00    120     80         NaN  NaN   \n",
              "\n",
              "      smoke alco active  cardio  age_year  years  \n",
              "0       NaN  NaN    NaN  No CVD     50.00     50  \n",
              "1       NaN  NaN    NaN     CVD     55.00     55  \n",
              "2       NaN  NaN    NaN     CVD     52.00     52  \n",
              "3       NaN  NaN    NaN     CVD     48.00     48  \n",
              "4       NaN  NaN    NaN  No CVD     48.00     48  \n",
              "...     ...  ...    ...     ...       ...    ...  \n",
              "69995   NaN  NaN    NaN  No CVD     53.00     53  \n",
              "69996   NaN  NaN    NaN     CVD     62.00     62  \n",
              "69997   NaN  NaN    NaN     CVD     52.00     52  \n",
              "69998   NaN  NaN    NaN     CVD     61.00     61  \n",
              "69999   NaN  NaN    NaN  No CVD     56.00     56  \n",
              "\n",
              "[70000 rows x 15 columns]"
            ]
          },
          "execution_count": 173,
          "metadata": {},
          "output_type": "execute_result"
        }
      ],
      "source": [
        "df"
      ]
    },
    {
      "cell_type": "code",
      "execution_count": null,
      "metadata": {
        "hidden": true,
        "id": "b1kw50mqoJhE",
        "outputId": "cf2b49fe-8317-4e37-c0c9-335ba21d6a66"
      },
      "outputs": [
        {
          "data": {
            "text/html": [
              "<div>\n",
              "<style scoped>\n",
              "    .dataframe tbody tr th:only-of-type {\n",
              "        vertical-align: middle;\n",
              "    }\n",
              "\n",
              "    .dataframe tbody tr th {\n",
              "        vertical-align: top;\n",
              "    }\n",
              "\n",
              "    .dataframe thead th {\n",
              "        text-align: right;\n",
              "    }\n",
              "</style>\n",
              "<table border=\"1\" class=\"dataframe\">\n",
              "  <thead>\n",
              "    <tr style=\"text-align: right;\">\n",
              "      <th></th>\n",
              "      <th></th>\n",
              "      <th>Smoke Sum</th>\n",
              "      <th>Height mean</th>\n",
              "    </tr>\n",
              "    <tr>\n",
              "      <th>gender</th>\n",
              "      <th>active</th>\n",
              "      <th></th>\n",
              "      <th></th>\n",
              "    </tr>\n",
              "  </thead>\n",
              "  <tbody>\n",
              "  </tbody>\n",
              "</table>\n",
              "</div>"
            ],
            "text/plain": [
              "Empty DataFrame\n",
              "Columns: [Smoke Sum, Height mean]\n",
              "Index: []"
            ]
          },
          "execution_count": 174,
          "metadata": {},
          "output_type": "execute_result"
        }
      ],
      "source": [
        "df.groupby(['gender','active']).agg(\n",
        "    **{\n",
        "        'Smoke Sum': ('smoke', 'sum'),\n",
        "        'Height mean': ('height', 'mean')\n",
        "    })"
      ]
    },
    {
      "cell_type": "code",
      "execution_count": null,
      "metadata": {
        "hidden": true,
        "id": "7CfbfCyJoJhF",
        "outputId": "525be895-f1ef-4307-c34f-b6b64ddd9bea"
      },
      "outputs": [
        {
          "data": {
            "text/html": [
              "<div>\n",
              "<style scoped>\n",
              "    .dataframe tbody tr th:only-of-type {\n",
              "        vertical-align: middle;\n",
              "    }\n",
              "\n",
              "    .dataframe tbody tr th {\n",
              "        vertical-align: top;\n",
              "    }\n",
              "\n",
              "    .dataframe thead th {\n",
              "        text-align: right;\n",
              "    }\n",
              "</style>\n",
              "<table border=\"1\" class=\"dataframe\">\n",
              "  <thead>\n",
              "    <tr style=\"text-align: right;\">\n",
              "      <th></th>\n",
              "      <th>id</th>\n",
              "      <th>age</th>\n",
              "      <th>gender</th>\n",
              "      <th>height</th>\n",
              "      <th>weight</th>\n",
              "      <th>ap_hi</th>\n",
              "      <th>ap_lo</th>\n",
              "      <th>cholesterol</th>\n",
              "      <th>gluc</th>\n",
              "      <th>smoke</th>\n",
              "      <th>alco</th>\n",
              "      <th>active</th>\n",
              "      <th>cardio</th>\n",
              "      <th>age_year</th>\n",
              "      <th>years</th>\n",
              "    </tr>\n",
              "  </thead>\n",
              "  <tbody>\n",
              "    <tr>\n",
              "      <th>69995</th>\n",
              "      <td>99993</td>\n",
              "      <td>19240</td>\n",
              "      <td>2</td>\n",
              "      <td>168.00</td>\n",
              "      <td>76.00</td>\n",
              "      <td>120</td>\n",
              "      <td>80</td>\n",
              "      <td>NaN</td>\n",
              "      <td>NaN</td>\n",
              "      <td>NaN</td>\n",
              "      <td>NaN</td>\n",
              "      <td>NaN</td>\n",
              "      <td>No CVD</td>\n",
              "      <td>53.00</td>\n",
              "      <td>53</td>\n",
              "    </tr>\n",
              "    <tr>\n",
              "      <th>69996</th>\n",
              "      <td>99995</td>\n",
              "      <td>22601</td>\n",
              "      <td>1</td>\n",
              "      <td>158.00</td>\n",
              "      <td>126.00</td>\n",
              "      <td>140</td>\n",
              "      <td>90</td>\n",
              "      <td>NaN</td>\n",
              "      <td>NaN</td>\n",
              "      <td>NaN</td>\n",
              "      <td>NaN</td>\n",
              "      <td>NaN</td>\n",
              "      <td>CVD</td>\n",
              "      <td>62.00</td>\n",
              "      <td>62</td>\n",
              "    </tr>\n",
              "    <tr>\n",
              "      <th>69997</th>\n",
              "      <td>99996</td>\n",
              "      <td>19066</td>\n",
              "      <td>2</td>\n",
              "      <td>183.00</td>\n",
              "      <td>105.00</td>\n",
              "      <td>180</td>\n",
              "      <td>90</td>\n",
              "      <td>NaN</td>\n",
              "      <td>NaN</td>\n",
              "      <td>NaN</td>\n",
              "      <td>NaN</td>\n",
              "      <td>NaN</td>\n",
              "      <td>CVD</td>\n",
              "      <td>52.00</td>\n",
              "      <td>52</td>\n",
              "    </tr>\n",
              "    <tr>\n",
              "      <th>69998</th>\n",
              "      <td>99998</td>\n",
              "      <td>22431</td>\n",
              "      <td>1</td>\n",
              "      <td>163.00</td>\n",
              "      <td>72.00</td>\n",
              "      <td>135</td>\n",
              "      <td>80</td>\n",
              "      <td>NaN</td>\n",
              "      <td>NaN</td>\n",
              "      <td>NaN</td>\n",
              "      <td>NaN</td>\n",
              "      <td>NaN</td>\n",
              "      <td>CVD</td>\n",
              "      <td>61.00</td>\n",
              "      <td>61</td>\n",
              "    </tr>\n",
              "    <tr>\n",
              "      <th>69999</th>\n",
              "      <td>99999</td>\n",
              "      <td>20540</td>\n",
              "      <td>1</td>\n",
              "      <td>170.00</td>\n",
              "      <td>72.00</td>\n",
              "      <td>120</td>\n",
              "      <td>80</td>\n",
              "      <td>NaN</td>\n",
              "      <td>NaN</td>\n",
              "      <td>NaN</td>\n",
              "      <td>NaN</td>\n",
              "      <td>NaN</td>\n",
              "      <td>No CVD</td>\n",
              "      <td>56.00</td>\n",
              "      <td>56</td>\n",
              "    </tr>\n",
              "  </tbody>\n",
              "</table>\n",
              "</div>"
            ],
            "text/plain": [
              "          id    age  gender  height  weight  ap_hi  ap_lo cholesterol gluc  \\\n",
              "69995  99993  19240       2  168.00   76.00    120     80         NaN  NaN   \n",
              "69996  99995  22601       1  158.00  126.00    140     90         NaN  NaN   \n",
              "69997  99996  19066       2  183.00  105.00    180     90         NaN  NaN   \n",
              "69998  99998  22431       1  163.00   72.00    135     80         NaN  NaN   \n",
              "69999  99999  20540       1  170.00   72.00    120     80         NaN  NaN   \n",
              "\n",
              "      smoke alco active  cardio  age_year  years  \n",
              "69995   NaN  NaN    NaN  No CVD     53.00     53  \n",
              "69996   NaN  NaN    NaN     CVD     62.00     62  \n",
              "69997   NaN  NaN    NaN     CVD     52.00     52  \n",
              "69998   NaN  NaN    NaN     CVD     61.00     61  \n",
              "69999   NaN  NaN    NaN  No CVD     56.00     56  "
            ]
          },
          "execution_count": 175,
          "metadata": {},
          "output_type": "execute_result"
        }
      ],
      "source": [
        "df.tail()"
      ]
    },
    {
      "cell_type": "code",
      "execution_count": null,
      "metadata": {
        "hidden": true,
        "id": "hlUtUScRoJhF",
        "outputId": "f91934aa-af94-4089-d92c-2a9dffa971c3"
      },
      "outputs": [
        {
          "data": {
            "text/html": [
              "<div>\n",
              "<style scoped>\n",
              "    .dataframe tbody tr th:only-of-type {\n",
              "        vertical-align: middle;\n",
              "    }\n",
              "\n",
              "    .dataframe tbody tr th {\n",
              "        vertical-align: top;\n",
              "    }\n",
              "\n",
              "    .dataframe thead th {\n",
              "        text-align: right;\n",
              "    }\n",
              "</style>\n",
              "<table border=\"1\" class=\"dataframe\">\n",
              "  <thead>\n",
              "    <tr style=\"text-align: right;\">\n",
              "      <th></th>\n",
              "      <th>range height</th>\n",
              "      <th>gender</th>\n",
              "      <th>active</th>\n",
              "      <th>height</th>\n",
              "    </tr>\n",
              "  </thead>\n",
              "  <tbody>\n",
              "  </tbody>\n",
              "</table>\n",
              "</div>"
            ],
            "text/plain": [
              "Empty DataFrame\n",
              "Columns: [range height, gender, active, height]\n",
              "Index: []"
            ]
          },
          "execution_count": 176,
          "metadata": {},
          "output_type": "execute_result"
        }
      ],
      "source": [
        "porotos = [-np.inf, 100,130,150, 180, np.inf]\n",
        "etiquetas = ['De 0-100','De 100-130', 'De 130-150','De 150-180','más de 180'] # Las etiquetas tienen que ser una menos que los bins\n",
        "df['range height'] = pd.cut(df['height'], labels = etiquetas, bins = porotos, include_lowest=True)\n",
        "df.groupby(['range height','gender','active'])['height'].count().reset_index()"
      ]
    },
    {
      "cell_type": "code",
      "execution_count": null,
      "metadata": {
        "hidden": true,
        "id": "3lZT3dYioJhG"
      },
      "outputs": [],
      "source": [
        ""
      ]
    },
    {
      "cell_type": "markdown",
      "metadata": {
        "_uuid": "5aa9a73732afeee4eb12938aa54363308c7d63f0",
        "hidden": true,
        "id": "hVYgx9Z4oJhG"
      },
      "source": [
        "#### Analisis bivariado\n",
        "\n",
        "Es útil mostrar las variables categóricas según el valor de la _clase objetivo_"
      ]
    },
    {
      "cell_type": "code",
      "execution_count": null,
      "metadata": {
        "_uuid": "c5e828a0a10e1874181c0a601008cdb71a77e07f",
        "hidden": true,
        "id": "XjHKCTb0oJhG",
        "outputId": "e2428c27-d295-4d62-84c4-4f9af8c1766f"
      },
      "outputs": [
        {
          "data": {
            "image/png": "[encoded data removed]",
            "text/plain": [
              "<Figure size 847.625x360 with 2 Axes>"
            ]
          },
          "metadata": {
            "needs_background": "light"
          },
          "output_type": "display_data"
        }
      ],
      "source": [
        "df_long = pd.melt(df, id_vars=['cardio'], value_vars=['cholesterol','gluc', 'smoke', 'alco', 'active'])\n",
        "sns.catplot(x=\"variable\", hue=\"value\", col=\"cardio\",\n",
        "                data=df_long, kind=\"count\");"
      ]
    },
    {
      "cell_type": "markdown",
      "metadata": {
        "_uuid": "b6af52f948112968668acc36646c9455c54ac617",
        "hidden": true,
        "id": "PEiBZ1h6oJhG"
      },
      "source": [
        "Es claro que los pacientes con CVD tiene niveles mayores de colesterol y glucosa en sangre. Y en términos generales, con menos actividad física.\n",
        "\n",
        "Para poder saber si el valor \"1\" se refiere a mujeres o hombres (en la columna `gender`), vamos a calcular la media de la altura por sexo. Suponemos que los hombres, en promedio, son mas altos que las mujeres."
      ]
    },
    {
      "cell_type": "code",
      "execution_count": null,
      "metadata": {
        "_uuid": "98dcd6289b67673896768089cafefd6a87b77051",
        "hidden": true,
        "id": "KjiM8eOJoJhH",
        "outputId": "22211ea5-c38a-459e-9f07-f14011306f07"
      },
      "outputs": [
        {
          "data": {
            "text/plain": [
              "gender\n",
              "1    162.055434\n",
              "2    169.251915\n",
              "Name: height, dtype: float64"
            ]
          },
          "execution_count": 28,
          "metadata": {},
          "output_type": "execute_result"
        }
      ],
      "source": [
        "df.groupby('gender')['height'].mean()"
      ]
    },
    {
      "cell_type": "markdown",
      "metadata": {
        "_uuid": "ffc2aa5b56032ece3ba51fd922b2865095d03406",
        "hidden": true,
        "id": "_F4A3SO9oJhH"
      },
      "source": [
        "El promedio para el valor \"2\" es mayor que el de \"1\". Por lo tanto, \"1\" representa a las mujeres.\n",
        "\n",
        "Veamos como se distribuyen en el dataset:"
      ]
    },
    {
      "cell_type": "code",
      "execution_count": null,
      "metadata": {
        "_uuid": "338cdaa6868bc91bfa3a2ffdc133c6901267a99b",
        "hidden": true,
        "id": "rc0hk8Q2oJhH",
        "outputId": "afbf1ca6-4731-48d6-8ee1-fd1c81623cc3"
      },
      "outputs": [
        {
          "data": {
            "text/plain": [
              "1    45530\n",
              "2    24470\n",
              "Name: gender, dtype: int64"
            ]
          },
          "execution_count": 11,
          "metadata": {},
          "output_type": "execute_result"
        }
      ],
      "source": [
        "df['gender'].value_counts()"
      ]
    },
    {
      "cell_type": "markdown",
      "metadata": {
        "hidden": true,
        "id": "zr2AAV_joJhI"
      },
      "source": [
        "Reemplazamos, en la función desarrollada mas arriba, el código de `gender` por `male` y `female`."
      ]
    },
    {
      "cell_type": "code",
      "execution_count": null,
      "metadata": {
        "hidden": true,
        "id": "YUtwYQudoJhI",
        "outputId": "8015295e-5bdc-4598-b50c-70db79f5fc37"
      },
      "outputs": [
        {
          "name": "stdout",
          "output_type": "stream",
          "text": [
            "{1: 'Female', 2: 'Male'}\n"
          ]
        }
      ],
      "source": [
        "col_gen = ['gender']\n",
        "dict_gen = {1:'Female', 2:'Male'}\n",
        "\n",
        "replace_dict(col_gen,dict_gen)"
      ]
    },
    {
      "cell_type": "markdown",
      "metadata": {
        "_uuid": "90c09fe0eddbcdd0cb230a01ed62b4c3766f4d24",
        "hidden": true,
        "id": "mDDMXPOHoJhJ"
      },
      "source": [
        "Quién consume mas frecuentemente alcohol? Mujeres u hombres?"
      ]
    },
    {
      "cell_type": "code",
      "execution_count": null,
      "metadata": {
        "_uuid": "ff69407dc82280032d1e9b4fda00cb512da7d4d4",
        "hidden": true,
        "id": "2tc4coUXoJhJ",
        "outputId": "31a32d93-6723-4162-d578-d28583310240"
      },
      "outputs": [
        {
          "data": {
            "text/plain": [
              "gender\n",
              "1    1161\n",
              "2    2603\n",
              "Name: alco, dtype: int64"
            ]
          },
          "execution_count": 12,
          "metadata": {},
          "output_type": "execute_result"
        }
      ],
      "source": [
        "df.groupby('gender')['alco'].sum()"
      ]
    },
    {
      "cell_type": "markdown",
      "metadata": {
        "_uuid": "088644fc29005448bcb07607d59560d77845eeff",
        "hidden": true,
        "id": "1LFsMvhboJhJ"
      },
      "source": [
        "Por lo tanto, los hombres consumen en promedio alcohol de manera mas frecuente que las mujeres.\n",
        "\n",
        "Ahora, obtenemos las participaciones relativas:"
      ]
    },
    {
      "cell_type": "code",
      "execution_count": null,
      "metadata": {
        "_uuid": "b772c57d9893e827c2b66dad6d3a319910f10208",
        "hidden": true,
        "id": "hf4aNcWKoJhK",
        "outputId": "e6cb45ab-6735-4f3a-fcc4-b65485b8d1d0"
      },
      "outputs": [
        {
          "data": {
            "text/plain": [
              "0    0.5003\n",
              "1    0.4997\n",
              "Name: cardio, dtype: float64"
            ]
          },
          "execution_count": 13,
          "metadata": {},
          "output_type": "execute_result"
        }
      ],
      "source": [
        "df['cardio'].value_counts(normalize=True)"
      ]
    },
    {
      "cell_type": "markdown",
      "metadata": {
        "_uuid": "6f7adaaa6a257dd0da28d079ac2dfa5cc4da7acc",
        "hidden": true,
        "id": "1U8OeN97oJhK"
      },
      "source": [
        "Para obtener como se distribuye la _clase objetivo_ entre hombres y mujeres, también se puede utilizar `crosstab`"
      ]
    },
    {
      "cell_type": "code",
      "execution_count": null,
      "metadata": {
        "_uuid": "20528dfdcf0744268e93442021c34cf39dc91729",
        "hidden": true,
        "id": "dZOqyJLnoJhK",
        "outputId": "62836e58-6d65-4bb6-cbdb-c3dd1760413b"
      },
      "outputs": [
        {
          "data": {
            "text/html": [
              "<div>\n",
              "<style scoped>\n",
              "    .dataframe tbody tr th:only-of-type {\n",
              "        vertical-align: middle;\n",
              "    }\n",
              "\n",
              "    .dataframe tbody tr th {\n",
              "        vertical-align: top;\n",
              "    }\n",
              "\n",
              "    .dataframe thead th {\n",
              "        text-align: right;\n",
              "    }\n",
              "</style>\n",
              "<table border=\"1\" class=\"dataframe\">\n",
              "  <thead>\n",
              "    <tr style=\"text-align: right;\">\n",
              "      <th>gender</th>\n",
              "      <th>1</th>\n",
              "      <th>2</th>\n",
              "    </tr>\n",
              "    <tr>\n",
              "      <th>cardio</th>\n",
              "      <th></th>\n",
              "      <th></th>\n",
              "    </tr>\n",
              "  </thead>\n",
              "  <tbody>\n",
              "    <tr>\n",
              "      <th>0</th>\n",
              "      <td>0.33</td>\n",
              "      <td>0.17</td>\n",
              "    </tr>\n",
              "    <tr>\n",
              "      <th>1</th>\n",
              "      <td>0.32</td>\n",
              "      <td>0.18</td>\n",
              "    </tr>\n",
              "  </tbody>\n",
              "</table>\n",
              "</div>"
            ],
            "text/plain": [
              "gender    1    2\n",
              "cardio          \n",
              "0      0.33 0.17\n",
              "1      0.32 0.18"
            ]
          },
          "execution_count": 158,
          "metadata": {},
          "output_type": "execute_result"
        }
      ],
      "source": [
        "pd.crosstab(df['cardio'],df['gender'],normalize=True)"
      ]
    },
    {
      "cell_type": "markdown",
      "metadata": {
        "_uuid": "c4b444ed6c636ef1c0f7d8c92097095525f78f23",
        "id": "0IH9Pm-0oJhL"
      },
      "source": [
        "### Cleaning Data / Limpieza de la base"
      ]
    },
    {
      "cell_type": "markdown",
      "metadata": {
        "_uuid": "fe20b7ac70dfe63dd881047cb7cd08f263269066",
        "id": "AgjwEBZ6oJhL"
      },
      "source": [
        "La base contiene filas con `NA`s o `missing values`?"
      ]
    },
    {
      "cell_type": "code",
      "execution_count": null,
      "metadata": {
        "_uuid": "0234182335eae67ca7e431d0f3758892ababb777",
        "id": "5CVZBFCQoJhL",
        "outputId": "c577094d-479a-44a1-d621-e98975e11863"
      },
      "outputs": [
        {
          "data": {
            "text/plain": [
              "0"
            ]
          },
          "execution_count": 67,
          "metadata": {},
          "output_type": "execute_result"
        }
      ],
      "source": [
        "df.isnull().values.any() # NAs en todo el dataset\n",
        "df['cholesterol'].isnull().sum() # NAs en la columna cholesterol"
      ]
    },
    {
      "cell_type": "markdown",
      "metadata": {
        "_uuid": "fcc6cbb564d80984badb387cabe665e967ff4dc3",
        "id": "fZdU6z17oJhL"
      },
      "source": [
        "Si observamos detenidamente las columnas `height` y `weight`, notamos que la altura mínima es de 55cm  y el peso mínimo es de 10kg. Podemos inferir que es un error, dado que la edad mínima es 29 años (10798 dias). \n",
        "\n",
        "Por otro lado, la altura máxima es 250cm y el peso máximo es 200kg, que sería irrelevante si generalizamos los datos.\n",
        "\n",
        "Para lidiar con estos errores, borramos los _outliers_."
      ]
    },
    {
      "cell_type": "code",
      "execution_count": null,
      "metadata": {
        "_uuid": "3433b541d875c83d895613056570a9536c110a9b",
        "id": "R_YgGsY5oJhM",
        "outputId": "f94f5d13-4ac7-4b2c-c3af-34cdaa1d09e2"
      },
      "outputs": [
        {
          "data": {
            "text/html": [
              "<div>\n",
              "<style scoped>\n",
              "    .dataframe tbody tr th:only-of-type {\n",
              "        vertical-align: middle;\n",
              "    }\n",
              "\n",
              "    .dataframe tbody tr th {\n",
              "        vertical-align: top;\n",
              "    }\n",
              "\n",
              "    .dataframe thead th {\n",
              "        text-align: right;\n",
              "    }\n",
              "</style>\n",
              "<table border=\"1\" class=\"dataframe\">\n",
              "  <thead>\n",
              "    <tr style=\"text-align: right;\">\n",
              "      <th></th>\n",
              "      <th>id</th>\n",
              "      <th>age</th>\n",
              "      <th>gender</th>\n",
              "      <th>height</th>\n",
              "      <th>weight</th>\n",
              "      <th>ap_hi</th>\n",
              "      <th>ap_lo</th>\n",
              "      <th>cholesterol</th>\n",
              "      <th>gluc</th>\n",
              "      <th>smoke</th>\n",
              "      <th>alco</th>\n",
              "      <th>active</th>\n",
              "      <th>cardio</th>\n",
              "      <th>years</th>\n",
              "      <th>BMI</th>\n",
              "    </tr>\n",
              "  </thead>\n",
              "  <tbody>\n",
              "    <tr>\n",
              "      <th>count</th>\n",
              "      <td>60142.000000</td>\n",
              "      <td>60142.000000</td>\n",
              "      <td>60142.000000</td>\n",
              "      <td>60142.000000</td>\n",
              "      <td>60142.000000</td>\n",
              "      <td>60142.000000</td>\n",
              "      <td>60142.000000</td>\n",
              "      <td>60142.000000</td>\n",
              "      <td>60142.000000</td>\n",
              "      <td>60142.000000</td>\n",
              "      <td>60142.000000</td>\n",
              "      <td>60142.000000</td>\n",
              "      <td>60142.000000</td>\n",
              "      <td>60142.000000</td>\n",
              "      <td>60142.000000</td>\n",
              "    </tr>\n",
              "    <tr>\n",
              "      <th>mean</th>\n",
              "      <td>49895.698065</td>\n",
              "      <td>19468.719979</td>\n",
              "      <td>1.347311</td>\n",
              "      <td>164.554854</td>\n",
              "      <td>73.426805</td>\n",
              "      <td>125.770526</td>\n",
              "      <td>81.046307</td>\n",
              "      <td>1.350953</td>\n",
              "      <td>1.220229</td>\n",
              "      <td>0.085631</td>\n",
              "      <td>0.051877</td>\n",
              "      <td>0.803648</td>\n",
              "      <td>0.488228</td>\n",
              "      <td>53.338798</td>\n",
              "      <td>27.170628</td>\n",
              "    </tr>\n",
              "    <tr>\n",
              "      <th>std</th>\n",
              "      <td>28840.467755</td>\n",
              "      <td>2460.510296</td>\n",
              "      <td>0.476120</td>\n",
              "      <td>6.830174</td>\n",
              "      <td>11.614806</td>\n",
              "      <td>13.761847</td>\n",
              "      <td>8.239157</td>\n",
              "      <td>0.670076</td>\n",
              "      <td>0.567607</td>\n",
              "      <td>0.279820</td>\n",
              "      <td>0.221781</td>\n",
              "      <td>0.397241</td>\n",
              "      <td>0.499866</td>\n",
              "      <td>6.746864</td>\n",
              "      <td>4.404588</td>\n",
              "    </tr>\n",
              "    <tr>\n",
              "      <th>min</th>\n",
              "      <td>0.000000</td>\n",
              "      <td>10798.000000</td>\n",
              "      <td>1.000000</td>\n",
              "      <td>150.000000</td>\n",
              "      <td>52.000000</td>\n",
              "      <td>100.000000</td>\n",
              "      <td>60.000000</td>\n",
              "      <td>1.000000</td>\n",
              "      <td>1.000000</td>\n",
              "      <td>0.000000</td>\n",
              "      <td>0.000000</td>\n",
              "      <td>0.000000</td>\n",
              "      <td>0.000000</td>\n",
              "      <td>30.000000</td>\n",
              "      <td>16.049383</td>\n",
              "    </tr>\n",
              "    <tr>\n",
              "      <th>25%</th>\n",
              "      <td>24867.500000</td>\n",
              "      <td>17677.250000</td>\n",
              "      <td>1.000000</td>\n",
              "      <td>160.000000</td>\n",
              "      <td>65.000000</td>\n",
              "      <td>120.000000</td>\n",
              "      <td>80.000000</td>\n",
              "      <td>1.000000</td>\n",
              "      <td>1.000000</td>\n",
              "      <td>0.000000</td>\n",
              "      <td>0.000000</td>\n",
              "      <td>1.000000</td>\n",
              "      <td>0.000000</td>\n",
              "      <td>48.000000</td>\n",
              "      <td>23.875115</td>\n",
              "    </tr>\n",
              "    <tr>\n",
              "      <th>50%</th>\n",
              "      <td>49902.500000</td>\n",
              "      <td>19705.000000</td>\n",
              "      <td>1.000000</td>\n",
              "      <td>165.000000</td>\n",
              "      <td>72.000000</td>\n",
              "      <td>120.000000</td>\n",
              "      <td>80.000000</td>\n",
              "      <td>1.000000</td>\n",
              "      <td>1.000000</td>\n",
              "      <td>0.000000</td>\n",
              "      <td>0.000000</td>\n",
              "      <td>1.000000</td>\n",
              "      <td>0.000000</td>\n",
              "      <td>54.000000</td>\n",
              "      <td>26.259585</td>\n",
              "    </tr>\n",
              "    <tr>\n",
              "      <th>75%</th>\n",
              "      <td>74745.750000</td>\n",
              "      <td>21321.000000</td>\n",
              "      <td>2.000000</td>\n",
              "      <td>169.000000</td>\n",
              "      <td>80.000000</td>\n",
              "      <td>135.000000</td>\n",
              "      <td>90.000000</td>\n",
              "      <td>1.000000</td>\n",
              "      <td>1.000000</td>\n",
              "      <td>0.000000</td>\n",
              "      <td>0.000000</td>\n",
              "      <td>1.000000</td>\n",
              "      <td>1.000000</td>\n",
              "      <td>58.000000</td>\n",
              "      <td>29.752066</td>\n",
              "    </tr>\n",
              "    <tr>\n",
              "      <th>max</th>\n",
              "      <td>99999.000000</td>\n",
              "      <td>23713.000000</td>\n",
              "      <td>2.000000</td>\n",
              "      <td>180.000000</td>\n",
              "      <td>106.000000</td>\n",
              "      <td>163.000000</td>\n",
              "      <td>100.000000</td>\n",
              "      <td>3.000000</td>\n",
              "      <td>3.000000</td>\n",
              "      <td>1.000000</td>\n",
              "      <td>1.000000</td>\n",
              "      <td>1.000000</td>\n",
              "      <td>1.000000</td>\n",
              "      <td>65.000000</td>\n",
              "      <td>46.666667</td>\n",
              "    </tr>\n",
              "  </tbody>\n",
              "</table>\n",
              "</div>"
            ],
            "text/plain": [
              "                 id           age        gender        height        weight  \\\n",
              "count  60142.000000  60142.000000  60142.000000  60142.000000  60142.000000   \n",
              "mean   49895.698065  19468.719979      1.347311    164.554854     73.426805   \n",
              "std    28840.467755   2460.510296      0.476120      6.830174     11.614806   \n",
              "min        0.000000  10798.000000      1.000000    150.000000     52.000000   \n",
              "25%    24867.500000  17677.250000      1.000000    160.000000     65.000000   \n",
              "50%    49902.500000  19705.000000      1.000000    165.000000     72.000000   \n",
              "75%    74745.750000  21321.000000      2.000000    169.000000     80.000000   \n",
              "max    99999.000000  23713.000000      2.000000    180.000000    106.000000   \n",
              "\n",
              "              ap_hi         ap_lo   cholesterol          gluc         smoke  \\\n",
              "count  60142.000000  60142.000000  60142.000000  60142.000000  60142.000000   \n",
              "mean     125.770526     81.046307      1.350953      1.220229      0.085631   \n",
              "std       13.761847      8.239157      0.670076      0.567607      0.279820   \n",
              "min      100.000000     60.000000      1.000000      1.000000      0.000000   \n",
              "25%      120.000000     80.000000      1.000000      1.000000      0.000000   \n",
              "50%      120.000000     80.000000      1.000000      1.000000      0.000000   \n",
              "75%      135.000000     90.000000      1.000000      1.000000      0.000000   \n",
              "max      163.000000    100.000000      3.000000      3.000000      1.000000   \n",
              "\n",
              "               alco        active        cardio         years           BMI  \n",
              "count  60142.000000  60142.000000  60142.000000  60142.000000  60142.000000  \n",
              "mean       0.051877      0.803648      0.488228     53.338798     27.170628  \n",
              "std        0.221781      0.397241      0.499866      6.746864      4.404588  \n",
              "min        0.000000      0.000000      0.000000     30.000000     16.049383  \n",
              "25%        0.000000      1.000000      0.000000     48.000000     23.875115  \n",
              "50%        0.000000      1.000000      0.000000     54.000000     26.259585  \n",
              "75%        0.000000      1.000000      1.000000     58.000000     29.752066  \n",
              "max        1.000000      1.000000      1.000000     65.000000     46.666667  "
            ]
          },
          "execution_count": 31,
          "metadata": {},
          "output_type": "execute_result"
        }
      ],
      "source": [
        "df.describe()"
      ]
    },
    {
      "cell_type": "markdown",
      "metadata": {
        "_uuid": "d87f8ede69eb9e55b45da2245a81174474c75fc6",
        "id": "ZRLOR_zZoJhM"
      },
      "source": [
        "Vamos a borrar el peso y la altura que caen por debajo del 2.5% o por encima del 97.5% del rango de la base."
      ]
    },
    {
      "cell_type": "code",
      "execution_count": null,
      "metadata": {
        "_uuid": "1fe14dc84224213cb7cbcb7816ea845d2118fdf9",
        "id": "MUoiMXgloJhM"
      },
      "outputs": [],
      "source": [
        "df.drop(df[(df['height'] > df['height'].quantile(0.975)) | (df['height'] < df['height'].quantile(0.025))].index,inplace=True)\n",
        "df.drop(df[(df['weight'] > df['weight'].quantile(0.975)) | (df['weight'] < df['weight'].quantile(0.025))].index,inplace=True)"
      ]
    },
    {
      "cell_type": "markdown",
      "metadata": {
        "_uuid": "de79a01459199330f6a130732b70cb3389cbb09e",
        "id": "i-HBxLgdoJhN"
      },
      "source": [
        "In addition, in some cases diastolic pressure is higher than systolic, which is also  incorrect. How many records are inaccurate in terms of blood pressure?"
      ]
    },
    {
      "cell_type": "code",
      "execution_count": null,
      "metadata": {
        "_uuid": "91141678854def2483023451891beb95c04d52a0",
        "id": "Owg-HUi4oJhN",
        "outputId": "7581099c-1806-47f8-bcd2-b5eea63e1c45"
      },
      "outputs": [
        {
          "name": "stdout",
          "output_type": "stream",
          "text": [
            "Diastilic pressure is higher than systolic one in 1082 cases\n"
          ]
        }
      ],
      "source": [
        "print(\"Diastilic pressure is higher than systolic one in {0} cases\".format(df[df['ap_lo']> df['ap_hi']].shape[0]))"
      ]
    },
    {
      "cell_type": "markdown",
      "metadata": {
        "_uuid": "fcb9134f5fd6e74b2aee506ec51c08ed8ef23c57",
        "id": "kcbzMJNXoJhN"
      },
      "source": [
        "Let's get rid of the outliers, moreover blood pressure could not be negative value!"
      ]
    },
    {
      "cell_type": "code",
      "execution_count": null,
      "metadata": {
        "_uuid": "4f79896c95871a6b851f355da467af20a30dc2f3",
        "id": "9gRvXX0IoJhO"
      },
      "outputs": [],
      "source": [
        "df.drop(df[(df['ap_hi'] > df['ap_hi'].quantile(0.975)) | (df['ap_hi'] < df['ap_hi'].quantile(0.025))].index,inplace=True)\n",
        "df.drop(df[(df['ap_lo'] > df['ap_lo'].quantile(0.975)) | (df['ap_lo'] < df['ap_lo'].quantile(0.025))].index,inplace=True)"
      ]
    },
    {
      "cell_type": "code",
      "execution_count": null,
      "metadata": {
        "_uuid": "2c08ee6af3402fc86b169346898fef2bf4ef7250",
        "id": "ykn4OxRtoJhO",
        "outputId": "e772ce3e-7283-42ce-a966-6a43ed12ac88"
      },
      "outputs": [
        {
          "name": "stdout",
          "output_type": "stream",
          "text": [
            "Diastilic pressure is higher than systolic one in 0 cases\n"
          ]
        },
        {
          "data": {
            "image/png": "[encoded data removed]",
            "text/plain": [
              "<Figure size 792x576 with 1 Axes>"
            ]
          },
          "metadata": {
            "needs_background": "light"
          },
          "output_type": "display_data"
        }
      ],
      "source": [
        "blood_pressure = df.loc[:,['ap_lo','ap_hi']]\n",
        "sns.boxplot(x = 'variable',y = 'value',data = blood_pressure.melt())\n",
        "print(\"Diastilic pressure is higher than systolic one in {0} cases\".format(df[df['ap_lo']> df['ap_hi']].shape[0]))"
      ]
    },
    {
      "cell_type": "markdown",
      "metadata": {
        "_uuid": "9fce6e5f362e44fe9e19f6c5b05fc62db3105421",
        "id": "zTpo4jW9oJhO"
      },
      "source": [
        "#### Análisis multivariado\n",
        "\n",
        "Puede resultar de utilidad utilizar una matriz de correlación:"
      ]
    },
    {
      "cell_type": "code",
      "execution_count": null,
      "metadata": {
        "_uuid": "512818819d8f6e33377aef5a18ede5fa1a9d295c",
        "id": "E3FRhhzkoJhP",
        "outputId": "064efc57-6e0c-446f-8cea-b9551830df36"
      },
      "outputs": [
        {
          "data": {
            "image/png": "[encoded data removed]",
            "text/plain": [
              "<Figure size 792x648 with 2 Axes>"
            ]
          },
          "metadata": {
            "needs_background": "light"
          },
          "output_type": "display_data"
        }
      ],
      "source": [
        "corr = df.corr()\n",
        "cmap = sns.diverging_palette(220, 10, as_cmap=True)\n",
        "# Generate a mask for the upper triangle\n",
        "mask = np.zeros_like(corr, dtype=np.bool)\n",
        "mask[np.triu_indices_from(mask)] = True\n",
        "\n",
        "# Set up the matplotlib figure\n",
        "f, ax = plt.subplots(figsize=(11, 9))\n",
        "# Draw the heatmap with the mask and correct aspect ratio\n",
        "sns.heatmap(corr, mask=mask, cmap=cmap, vmax=.3, center=0,annot = True,\n",
        "            square=True, linewidths=.5, cbar_kws={\"shrink\": .5});"
      ]
    },
    {
      "cell_type": "markdown",
      "metadata": {
        "_uuid": "5082a897ab5ccede9e6bd744da82f9861b0122fe",
        "id": "Rca69-i3oJhP"
      },
      "source": [
        "Como podemos observar, `age` y `cholesterol` tienen un impacto significativo, pero no están altamente correlacionados con la _clase objetivo_"
      ]
    },
    {
      "cell_type": "markdown",
      "metadata": {
        "_uuid": "50b88a76d3c9355d7285bc88edbb5c6999c79014",
        "id": "TacGWzsyoJhQ"
      },
      "source": [
        "Vamos a crear un `violinplot` para mostrar la distribución de la altura en los diferentes sexos. \n",
        "\n",
        "Tomando sólo el valor medio de la altura y el peso para cada valor de la variable `gender` puede no ser suficiente para determinar si '1' equivale a hombre o mujer."
      ]
    },
    {
      "cell_type": "code",
      "execution_count": null,
      "metadata": {
        "_uuid": "898c7b2e3be9a6d72a2f70e0a91c41acd359aea8",
        "id": "UxhPC1H9oJhQ",
        "outputId": "25af20c4-cfc5-489b-fb0b-c87590eae935"
      },
      "outputs": [
        {
          "data": {
            "image/png": "[encoded data removed]",
            "text/plain": [
              "<Figure size 864x720 with 1 Axes>"
            ]
          },
          "metadata": {
            "needs_background": "light"
          },
          "output_type": "display_data"
        }
      ],
      "source": [
        "import warnings\n",
        "warnings.filterwarnings(\"ignore\")\n",
        "df_melt = pd.melt(frame=df, value_vars=['height'], id_vars=['gender'])\n",
        "plt.figure(figsize=(12, 10))\n",
        "ax = sns.violinplot(\n",
        "    x='variable', \n",
        "    y='value', \n",
        "    hue='gender', \n",
        "    split=True, \n",
        "    data=df_melt, \n",
        "    scale='count',\n",
        "    scale_hue=False,\n",
        "    palette=\"Set2\");"
      ]
    },
    {
      "cell_type": "markdown",
      "metadata": {
        "_uuid": "31d519cdcef76584ecf9865f08cfa11104ee28db",
        "id": "_k5zetlGoJhQ"
      },
      "source": [
        "Vamos a crear una nueva variable: Body Mass Index (BMI) ó índice de masa muscular.\n",
        "\n",
        "$$BMI = \\frac {mass_{kg}} {height ^2_{m}},$$\n",
        "\n",
        "y comparamos el promedio de BMI para las personas sanas con el promedio de BMI para personas enfermas.\n",
        "\n",
        "(los valores normales de BMI se encuentran en 18.5 y 25)"
      ]
    },
    {
      "cell_type": "code",
      "execution_count": null,
      "metadata": {
        "_uuid": "9f188156d8bdf0a741b6136f5c23d247c3516151",
        "id": "k7B91pvHoJhR",
        "outputId": "c5ca1c46-2229-4f47-ced6-fd959a8cb6d8"
      },
      "outputs": [
        {
          "data": {
            "image/png": "[encoded data removed]",
            "text/plain": [
              "<Figure size 1050.38x720 with 2 Axes>"
            ]
          },
          "metadata": {
            "needs_background": "light"
          },
          "output_type": "display_data"
        }
      ],
      "source": [
        "df['BMI'] = df['weight'] / ((df['height']/100)**2)\n",
        "sns.catplot(x=\"gender\", y=\"BMI\", hue=\"alco\", col=\"cardio\", data=df, color = \"yellow\",kind=\"box\", height=10, aspect=.7);"
      ]
    },
    {
      "cell_type": "markdown",
      "metadata": {
        "_uuid": "d4a689d02eaee7fe10548e95e8c72d254d0e5088",
        "id": "9oFKwWqLoJhR"
      },
      "source": [
        "Las mujeres que beben alcohol tienen un mayor riesgo de CVD que los hombres que consumen alochol, según su BMI."
      ]
    }
  ],
  "metadata": {
    "hide_input": false,
    "kernelspec": {
      "display_name": "Python 3 (ipykernel)",
      "language": "python",
      "name": "python3"
    },
    "language_info": {
      "codemirror_mode": {
        "name": "ipython",
        "version": 3
      },
      "file_extension": ".py",
      "mimetype": "text/x-python",
      "name": "python",
      "nbconvert_exporter": "python",
      "pygments_lexer": "ipython3",
      "version": "3.10.4"
    },
    "colab": {
      "name": "Clase2 - Enfermedades cardiovasculares.ipynb",
      "provenance": []
    }
  },
  "nbformat": 4,
  "nbformat_minor": 0
}